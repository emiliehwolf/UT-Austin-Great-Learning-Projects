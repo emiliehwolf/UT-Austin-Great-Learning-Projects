{
 "cells": [
  {
   "cell_type": "markdown",
   "id": "278432e8",
   "metadata": {},
   "source": [
    "# Goal: Highest Accuracy\n",
    "\n",
    "## Steps:\n",
    "\n",
    "- look at the data and features\n",
    "- clean up messy data\n",
    "- prepare the data for classification machine learning models\n",
    "- train the models\n",
    "- tune the models for highest accuracy\n",
    "\n",
    "### Complexity is the enemy of execution.\n",
    "### Be simple, be quick."
   ]
  },
  {
   "cell_type": "code",
   "execution_count": 1,
   "id": "26a3a748",
   "metadata": {},
   "outputs": [
    {
     "data": {
      "application/javascript": [
       "\n",
       "            setTimeout(function() {\n",
       "                var nbb_cell_id = 1;\n",
       "                var nbb_unformatted_code = \"# To help with reading and manipulating data\\nimport pandas as pd\\nimport numpy as np\\n\\n# To help with data visualization\\n%matplotlib inline\\nimport matplotlib.pyplot as plt\\nimport seaborn as sns\\n\\n# To be used for missing value imputation\\nfrom sklearn.impute import SimpleImputer\\n\\n# To help with model building\\nfrom sklearn.linear_model import LogisticRegression\\nfrom sklearn.tree import DecisionTreeClassifier\\nfrom sklearn.ensemble import (\\n    AdaBoostClassifier,\\n    GradientBoostingClassifier,\\n    RandomForestClassifier,\\n    BaggingClassifier,\\n)\\nfrom xgboost import XGBClassifier\\n\\n# To get different metric scores, and split data\\nfrom sklearn import metrics\\nfrom sklearn.model_selection import train_test_split, StratifiedKFold, cross_val_score\\nfrom sklearn.metrics import (\\n    f1_score,\\n    accuracy_score,\\n    recall_score,\\n    precision_score,\\n    confusion_matrix,\\n    roc_auc_score,\\n    plot_confusion_matrix,\\n)\\n\\n# To oversample and undersample data\\nfrom imblearn.over_sampling import SMOTE\\nfrom imblearn.under_sampling import RandomUnderSampler\\n\\n# To be used for tuning the model\\nfrom sklearn.model_selection import RandomizedSearchCV\\n\\n# To be used for creating pipelines\\nfrom sklearn.pipeline import Pipeline\\n\\n# To define maximum number of columns to be displayed in a dataframe\\npd.set_option(\\\"display.max_columns\\\", None)\\n\\n# To supress scientific notations for a dataframe\\npd.set_option(\\\"display.float_format\\\", lambda x: \\\"%.3f\\\" % x)\\n\\n# To supress warnings\\nimport warnings\\n\\nwarnings.filterwarnings(\\\"ignore\\\")\\n\\n# This will help in making the Python code more structured automatically (good coding practice)\\n%load_ext nb_black\";\n",
       "                var nbb_formatted_code = \"# To help with reading and manipulating data\\nimport pandas as pd\\nimport numpy as np\\n\\n# To help with data visualization\\n%matplotlib inline\\nimport matplotlib.pyplot as plt\\nimport seaborn as sns\\n\\n# To be used for missing value imputation\\nfrom sklearn.impute import SimpleImputer\\n\\n# To help with model building\\nfrom sklearn.linear_model import LogisticRegression\\nfrom sklearn.tree import DecisionTreeClassifier\\nfrom sklearn.ensemble import (\\n    AdaBoostClassifier,\\n    GradientBoostingClassifier,\\n    RandomForestClassifier,\\n    BaggingClassifier,\\n)\\nfrom xgboost import XGBClassifier\\n\\n# To get different metric scores, and split data\\nfrom sklearn import metrics\\nfrom sklearn.model_selection import train_test_split, StratifiedKFold, cross_val_score\\nfrom sklearn.metrics import (\\n    f1_score,\\n    accuracy_score,\\n    recall_score,\\n    precision_score,\\n    confusion_matrix,\\n    roc_auc_score,\\n    plot_confusion_matrix,\\n)\\n\\n# To oversample and undersample data\\nfrom imblearn.over_sampling import SMOTE\\nfrom imblearn.under_sampling import RandomUnderSampler\\n\\n# To be used for tuning the model\\nfrom sklearn.model_selection import RandomizedSearchCV\\n\\n# To be used for creating pipelines\\nfrom sklearn.pipeline import Pipeline\\n\\n# To define maximum number of columns to be displayed in a dataframe\\npd.set_option(\\\"display.max_columns\\\", None)\\n\\n# To supress scientific notations for a dataframe\\npd.set_option(\\\"display.float_format\\\", lambda x: \\\"%.3f\\\" % x)\\n\\n# To supress warnings\\nimport warnings\\n\\nwarnings.filterwarnings(\\\"ignore\\\")\\n\\n# This will help in making the Python code more structured automatically (good coding practice)\\n%load_ext nb_black\";\n",
       "                var nbb_cells = Jupyter.notebook.get_cells();\n",
       "                for (var i = 0; i < nbb_cells.length; ++i) {\n",
       "                    if (nbb_cells[i].input_prompt_number == nbb_cell_id) {\n",
       "                        if (nbb_cells[i].get_text() == nbb_unformatted_code) {\n",
       "                             nbb_cells[i].set_text(nbb_formatted_code);\n",
       "                        }\n",
       "                        break;\n",
       "                    }\n",
       "                }\n",
       "            }, 500);\n",
       "            "
      ],
      "text/plain": [
       "<IPython.core.display.Javascript object>"
      ]
     },
     "metadata": {},
     "output_type": "display_data"
    }
   ],
   "source": [
    "# To help with reading and manipulating data\n",
    "import pandas as pd\n",
    "import numpy as np\n",
    "\n",
    "# To help with data visualization\n",
    "%matplotlib inline\n",
    "import matplotlib.pyplot as plt\n",
    "import seaborn as sns\n",
    "\n",
    "# To be used for missing value imputation\n",
    "from sklearn.impute import SimpleImputer\n",
    "\n",
    "# To help with model building\n",
    "from sklearn.linear_model import LogisticRegression\n",
    "from sklearn.tree import DecisionTreeClassifier\n",
    "from sklearn.ensemble import (\n",
    "    AdaBoostClassifier,\n",
    "    GradientBoostingClassifier,\n",
    "    RandomForestClassifier,\n",
    "    BaggingClassifier,\n",
    ")\n",
    "from xgboost import XGBClassifier\n",
    "\n",
    "# To get different metric scores, and split data\n",
    "from sklearn import metrics\n",
    "from sklearn.model_selection import train_test_split, StratifiedKFold, cross_val_score\n",
    "from sklearn.metrics import (\n",
    "    f1_score,\n",
    "    accuracy_score,\n",
    "    recall_score,\n",
    "    precision_score,\n",
    "    confusion_matrix,\n",
    "    roc_auc_score,\n",
    "    plot_confusion_matrix,\n",
    ")\n",
    "\n",
    "# To oversample and undersample data\n",
    "from imblearn.over_sampling import SMOTE\n",
    "from imblearn.under_sampling import RandomUnderSampler\n",
    "\n",
    "# To be used for tuning the model\n",
    "from sklearn.model_selection import RandomizedSearchCV\n",
    "\n",
    "# To be used for creating pipelines\n",
    "from sklearn.pipeline import Pipeline\n",
    "\n",
    "# To define maximum number of columns to be displayed in a dataframe\n",
    "pd.set_option(\"display.max_columns\", None)\n",
    "\n",
    "# To supress scientific notations for a dataframe\n",
    "pd.set_option(\"display.float_format\", lambda x: \"%.3f\" % x)\n",
    "\n",
    "# To supress warnings\n",
    "import warnings\n",
    "\n",
    "warnings.filterwarnings(\"ignore\")\n",
    "\n",
    "# This will help in making the Python code more structured automatically (good coding practice)\n",
    "%load_ext nb_black"
   ]
  },
  {
   "cell_type": "code",
   "execution_count": 2,
   "id": "871f453f",
   "metadata": {},
   "outputs": [
    {
     "data": {
      "application/javascript": [
       "\n",
       "            setTimeout(function() {\n",
       "                var nbb_cell_id = 2;\n",
       "                var nbb_unformatted_code = \"# import the data\\ntrain_set = pd.read_csv(\\\"Train_set.csv\\\")\\ntest_set = pd.read_csv(\\\"Test_set.csv\\\")\\ndata_dictionary = pd.read_csv(\\\"Data_Dictionary.csv\\\", header=None)\\nsample_submission = pd.read_csv(\\\"Sample_Submission.csv\\\")\";\n",
       "                var nbb_formatted_code = \"# import the data\\ntrain_set = pd.read_csv(\\\"Train_set.csv\\\")\\ntest_set = pd.read_csv(\\\"Test_set.csv\\\")\\ndata_dictionary = pd.read_csv(\\\"Data_Dictionary.csv\\\", header=None)\\nsample_submission = pd.read_csv(\\\"Sample_Submission.csv\\\")\";\n",
       "                var nbb_cells = Jupyter.notebook.get_cells();\n",
       "                for (var i = 0; i < nbb_cells.length; ++i) {\n",
       "                    if (nbb_cells[i].input_prompt_number == nbb_cell_id) {\n",
       "                        if (nbb_cells[i].get_text() == nbb_unformatted_code) {\n",
       "                             nbb_cells[i].set_text(nbb_formatted_code);\n",
       "                        }\n",
       "                        break;\n",
       "                    }\n",
       "                }\n",
       "            }, 500);\n",
       "            "
      ],
      "text/plain": [
       "<IPython.core.display.Javascript object>"
      ]
     },
     "metadata": {},
     "output_type": "display_data"
    }
   ],
   "source": [
    "# import the data\n",
    "train_set = pd.read_csv(\"Train_set.csv\")\n",
    "test_set = pd.read_csv(\"Test_set.csv\")\n",
    "data_dictionary = pd.read_csv(\"Data_Dictionary.csv\", header=None)\n",
    "sample_submission = pd.read_csv(\"Sample_Submission.csv\")"
   ]
  },
  {
   "cell_type": "code",
   "execution_count": 3,
   "id": "00300d4d",
   "metadata": {},
   "outputs": [
    {
     "data": {
      "text/html": [
       "<div>\n",
       "<style scoped>\n",
       "    .dataframe tbody tr th:only-of-type {\n",
       "        vertical-align: middle;\n",
       "    }\n",
       "\n",
       "    .dataframe tbody tr th {\n",
       "        vertical-align: top;\n",
       "    }\n",
       "\n",
       "    .dataframe thead th {\n",
       "        text-align: right;\n",
       "    }\n",
       "</style>\n",
       "<table border=\"1\" class=\"dataframe\">\n",
       "  <thead>\n",
       "    <tr style=\"text-align: right;\">\n",
       "      <th></th>\n",
       "      <th>0</th>\n",
       "      <th>1</th>\n",
       "    </tr>\n",
       "  </thead>\n",
       "  <tbody>\n",
       "    <tr>\n",
       "      <th>0</th>\n",
       "      <td>ID</td>\n",
       "      <td>unique ID assigned to each applicant</td>\n",
       "    </tr>\n",
       "    <tr>\n",
       "      <th>1</th>\n",
       "      <td>loan_amnt</td>\n",
       "      <td>loan amount ($) applied each applicant</td>\n",
       "    </tr>\n",
       "    <tr>\n",
       "      <th>2</th>\n",
       "      <td>loan_term</td>\n",
       "      <td>Loan duration in years</td>\n",
       "    </tr>\n",
       "    <tr>\n",
       "      <th>3</th>\n",
       "      <td>interest_rate</td>\n",
       "      <td>Applicable interest rate on Loan in %</td>\n",
       "    </tr>\n",
       "    <tr>\n",
       "      <th>4</th>\n",
       "      <td>loan_grade</td>\n",
       "      <td>Loan Grade Assigned by the bank</td>\n",
       "    </tr>\n",
       "    <tr>\n",
       "      <th>5</th>\n",
       "      <td>loan_subgrade</td>\n",
       "      <td>Loan SubGrade Assigned by the bank</td>\n",
       "    </tr>\n",
       "    <tr>\n",
       "      <th>6</th>\n",
       "      <td>job_experience</td>\n",
       "      <td>Number of years job experience</td>\n",
       "    </tr>\n",
       "    <tr>\n",
       "      <th>7</th>\n",
       "      <td>home_ownership</td>\n",
       "      <td>Status of House Ownership</td>\n",
       "    </tr>\n",
       "    <tr>\n",
       "      <th>8</th>\n",
       "      <td>annual_income</td>\n",
       "      <td>Annual income of the applicant</td>\n",
       "    </tr>\n",
       "    <tr>\n",
       "      <th>9</th>\n",
       "      <td>income_verification_status</td>\n",
       "      <td>Status of Income verification by the bank</td>\n",
       "    </tr>\n",
       "    <tr>\n",
       "      <th>10</th>\n",
       "      <td>loan_purpose</td>\n",
       "      <td>Purpose of loan</td>\n",
       "    </tr>\n",
       "    <tr>\n",
       "      <th>11</th>\n",
       "      <td>state_code</td>\n",
       "      <td>State code of the applicant's residence</td>\n",
       "    </tr>\n",
       "    <tr>\n",
       "      <th>12</th>\n",
       "      <td>debt_to_income</td>\n",
       "      <td>Ratio to total debt to income (total debt migh...</td>\n",
       "    </tr>\n",
       "    <tr>\n",
       "      <th>13</th>\n",
       "      <td>delinq_2yrs</td>\n",
       "      <td>number of 30+ days delinquency in past 2 years</td>\n",
       "    </tr>\n",
       "    <tr>\n",
       "      <th>14</th>\n",
       "      <td>public_records</td>\n",
       "      <td>number of legal cases against the applicant</td>\n",
       "    </tr>\n",
       "    <tr>\n",
       "      <th>15</th>\n",
       "      <td>revolving_balance</td>\n",
       "      <td>total credit revolving balance</td>\n",
       "    </tr>\n",
       "    <tr>\n",
       "      <th>16</th>\n",
       "      <td>total_acc</td>\n",
       "      <td>total number of credit lines available in memb...</td>\n",
       "    </tr>\n",
       "    <tr>\n",
       "      <th>17</th>\n",
       "      <td>interest_receive</td>\n",
       "      <td>total interest received by the bank on the loan</td>\n",
       "    </tr>\n",
       "    <tr>\n",
       "      <th>18</th>\n",
       "      <td>application_type</td>\n",
       "      <td>Whether the applicant has applied the loan by ...</td>\n",
       "    </tr>\n",
       "    <tr>\n",
       "      <th>19</th>\n",
       "      <td>last_week_pay</td>\n",
       "      <td>How many months have the applicant paid the lo...</td>\n",
       "    </tr>\n",
       "    <tr>\n",
       "      <th>20</th>\n",
       "      <td>total_current_balance</td>\n",
       "      <td>total current balance of all the accounts of a...</td>\n",
       "    </tr>\n",
       "    <tr>\n",
       "      <th>21</th>\n",
       "      <td>total_revolving_limit</td>\n",
       "      <td>total revolving credit limit</td>\n",
       "    </tr>\n",
       "    <tr>\n",
       "      <th>22</th>\n",
       "      <td>default</td>\n",
       "      <td>status of loan amount, 1 = Defaulter, 0 = Non ...</td>\n",
       "    </tr>\n",
       "  </tbody>\n",
       "</table>\n",
       "</div>"
      ],
      "text/plain": [
       "                             0  \\\n",
       "0                           ID   \n",
       "1                    loan_amnt   \n",
       "2                    loan_term   \n",
       "3                interest_rate   \n",
       "4                   loan_grade   \n",
       "5                loan_subgrade   \n",
       "6               job_experience   \n",
       "7               home_ownership   \n",
       "8                annual_income   \n",
       "9   income_verification_status   \n",
       "10                loan_purpose   \n",
       "11                  state_code   \n",
       "12              debt_to_income   \n",
       "13                 delinq_2yrs   \n",
       "14              public_records   \n",
       "15           revolving_balance   \n",
       "16                   total_acc   \n",
       "17            interest_receive   \n",
       "18            application_type   \n",
       "19               last_week_pay   \n",
       "20       total_current_balance   \n",
       "21       total_revolving_limit   \n",
       "22                     default   \n",
       "\n",
       "                                                    1  \n",
       "0                unique ID assigned to each applicant  \n",
       "1              loan amount ($) applied each applicant  \n",
       "2                              Loan duration in years  \n",
       "3               Applicable interest rate on Loan in %  \n",
       "4                     Loan Grade Assigned by the bank  \n",
       "5                  Loan SubGrade Assigned by the bank  \n",
       "6                     Number of years job experience   \n",
       "7                           Status of House Ownership  \n",
       "8                      Annual income of the applicant  \n",
       "9           Status of Income verification by the bank  \n",
       "10                                    Purpose of loan  \n",
       "11           State code of the applicant's residence   \n",
       "12  Ratio to total debt to income (total debt migh...  \n",
       "13     number of 30+ days delinquency in past 2 years  \n",
       "14        number of legal cases against the applicant  \n",
       "15                     total credit revolving balance  \n",
       "16  total number of credit lines available in memb...  \n",
       "17    total interest received by the bank on the loan  \n",
       "18  Whether the applicant has applied the loan by ...  \n",
       "19  How many months have the applicant paid the lo...  \n",
       "20  total current balance of all the accounts of a...  \n",
       "21                       total revolving credit limit  \n",
       "22  status of loan amount, 1 = Defaulter, 0 = Non ...  "
      ]
     },
     "execution_count": 3,
     "metadata": {},
     "output_type": "execute_result"
    },
    {
     "data": {
      "application/javascript": [
       "\n",
       "            setTimeout(function() {\n",
       "                var nbb_cell_id = 3;\n",
       "                var nbb_unformatted_code = \"# make copies of the train and test sets\\ntrain = train_set.copy()\\ntest = test_set.copy()\\n\\n# display the Data Dictionary\\ndata_dictionary\";\n",
       "                var nbb_formatted_code = \"# make copies of the train and test sets\\ntrain = train_set.copy()\\ntest = test_set.copy()\\n\\n# display the Data Dictionary\\ndata_dictionary\";\n",
       "                var nbb_cells = Jupyter.notebook.get_cells();\n",
       "                for (var i = 0; i < nbb_cells.length; ++i) {\n",
       "                    if (nbb_cells[i].input_prompt_number == nbb_cell_id) {\n",
       "                        if (nbb_cells[i].get_text() == nbb_unformatted_code) {\n",
       "                             nbb_cells[i].set_text(nbb_formatted_code);\n",
       "                        }\n",
       "                        break;\n",
       "                    }\n",
       "                }\n",
       "            }, 500);\n",
       "            "
      ],
      "text/plain": [
       "<IPython.core.display.Javascript object>"
      ]
     },
     "metadata": {},
     "output_type": "display_data"
    }
   ],
   "source": [
    "# make copies of the train and test sets\n",
    "train = train_set.copy()\n",
    "test = test_set.copy()\n",
    "\n",
    "# display the Data Dictionary\n",
    "data_dictionary"
   ]
  },
  {
   "cell_type": "markdown",
   "id": "972579c6",
   "metadata": {},
   "source": [
    "22 Features and 1 Target Variable"
   ]
  },
  {
   "cell_type": "code",
   "execution_count": 4,
   "id": "8bb689c5",
   "metadata": {},
   "outputs": [
    {
     "data": {
      "text/plain": [
       "(93174, 23)"
      ]
     },
     "execution_count": 4,
     "metadata": {},
     "output_type": "execute_result"
    },
    {
     "data": {
      "application/javascript": [
       "\n",
       "            setTimeout(function() {\n",
       "                var nbb_cell_id = 4;\n",
       "                var nbb_unformatted_code = \"# Check the shape\\ntrain.shape\";\n",
       "                var nbb_formatted_code = \"# Check the shape\\ntrain.shape\";\n",
       "                var nbb_cells = Jupyter.notebook.get_cells();\n",
       "                for (var i = 0; i < nbb_cells.length; ++i) {\n",
       "                    if (nbb_cells[i].input_prompt_number == nbb_cell_id) {\n",
       "                        if (nbb_cells[i].get_text() == nbb_unformatted_code) {\n",
       "                             nbb_cells[i].set_text(nbb_formatted_code);\n",
       "                        }\n",
       "                        break;\n",
       "                    }\n",
       "                }\n",
       "            }, 500);\n",
       "            "
      ],
      "text/plain": [
       "<IPython.core.display.Javascript object>"
      ]
     },
     "metadata": {},
     "output_type": "display_data"
    }
   ],
   "source": [
    "# Check the shape\n",
    "train.shape"
   ]
  },
  {
   "cell_type": "code",
   "execution_count": 5,
   "id": "2fb8e55c",
   "metadata": {},
   "outputs": [
    {
     "data": {
      "text/plain": [
       "(39933, 22)"
      ]
     },
     "execution_count": 5,
     "metadata": {},
     "output_type": "execute_result"
    },
    {
     "data": {
      "application/javascript": [
       "\n",
       "            setTimeout(function() {\n",
       "                var nbb_cell_id = 5;\n",
       "                var nbb_unformatted_code = \"test.shape\";\n",
       "                var nbb_formatted_code = \"test.shape\";\n",
       "                var nbb_cells = Jupyter.notebook.get_cells();\n",
       "                for (var i = 0; i < nbb_cells.length; ++i) {\n",
       "                    if (nbb_cells[i].input_prompt_number == nbb_cell_id) {\n",
       "                        if (nbb_cells[i].get_text() == nbb_unformatted_code) {\n",
       "                             nbb_cells[i].set_text(nbb_formatted_code);\n",
       "                        }\n",
       "                        break;\n",
       "                    }\n",
       "                }\n",
       "            }, 500);\n",
       "            "
      ],
      "text/plain": [
       "<IPython.core.display.Javascript object>"
      ]
     },
     "metadata": {},
     "output_type": "display_data"
    }
   ],
   "source": [
    "test.shape"
   ]
  },
  {
   "cell_type": "markdown",
   "id": "73c8f4dc",
   "metadata": {},
   "source": [
    "# 93,174 rows in the training set\n",
    "# 39,933 rows in the test set"
   ]
  },
  {
   "cell_type": "code",
   "execution_count": 6,
   "id": "3ebf6435",
   "metadata": {
    "scrolled": true
   },
   "outputs": [
    {
     "name": "stdout",
     "output_type": "stream",
     "text": [
      "<class 'pandas.core.frame.DataFrame'>\n",
      "RangeIndex: 93174 entries, 0 to 93173\n",
      "Data columns (total 23 columns):\n",
      " #   Column                      Non-Null Count  Dtype  \n",
      "---  ------                      --------------  -----  \n",
      " 0   ID                          93174 non-null  int64  \n",
      " 1   loan_amnt                   93174 non-null  int64  \n",
      " 2   loan_term                   93174 non-null  object \n",
      " 3   interest_rate               93174 non-null  float64\n",
      " 4   loan_grade                  93174 non-null  object \n",
      " 5   loan_subgrade               93174 non-null  object \n",
      " 6   job_experience              88472 non-null  object \n",
      " 7   home_ownership              93174 non-null  object \n",
      " 8   annual_income               93173 non-null  float64\n",
      " 9   income_verification_status  93174 non-null  object \n",
      " 10  loan_purpose                93174 non-null  object \n",
      " 11  state_code                  93174 non-null  object \n",
      " 12  debt_to_income              93174 non-null  float64\n",
      " 13  delinq_2yrs                 93172 non-null  float64\n",
      " 14  public_records              93172 non-null  float64\n",
      " 15  revolving_balance           93174 non-null  int64  \n",
      " 16  total_acc                   93172 non-null  float64\n",
      " 17  interest_receive            93174 non-null  float64\n",
      " 18  application_type            93174 non-null  object \n",
      " 19  last_week_pay               91250 non-null  float64\n",
      " 20  total_current_balance       85788 non-null  float64\n",
      " 21  total_revolving_limit       85788 non-null  float64\n",
      " 22  default                     93174 non-null  int64  \n",
      "dtypes: float64(10), int64(4), object(9)\n",
      "memory usage: 16.3+ MB\n"
     ]
    },
    {
     "data": {
      "application/javascript": [
       "\n",
       "            setTimeout(function() {\n",
       "                var nbb_cell_id = 6;\n",
       "                var nbb_unformatted_code = \"train.info()\";\n",
       "                var nbb_formatted_code = \"train.info()\";\n",
       "                var nbb_cells = Jupyter.notebook.get_cells();\n",
       "                for (var i = 0; i < nbb_cells.length; ++i) {\n",
       "                    if (nbb_cells[i].input_prompt_number == nbb_cell_id) {\n",
       "                        if (nbb_cells[i].get_text() == nbb_unformatted_code) {\n",
       "                             nbb_cells[i].set_text(nbb_formatted_code);\n",
       "                        }\n",
       "                        break;\n",
       "                    }\n",
       "                }\n",
       "            }, 500);\n",
       "            "
      ],
      "text/plain": [
       "<IPython.core.display.Javascript object>"
      ]
     },
     "metadata": {},
     "output_type": "display_data"
    }
   ],
   "source": [
    "train.info()"
   ]
  },
  {
   "cell_type": "code",
   "execution_count": 7,
   "id": "043b08e7",
   "metadata": {},
   "outputs": [
    {
     "name": "stdout",
     "output_type": "stream",
     "text": [
      "<class 'pandas.core.frame.DataFrame'>\n",
      "RangeIndex: 39933 entries, 0 to 39932\n",
      "Data columns (total 22 columns):\n",
      " #   Column                      Non-Null Count  Dtype  \n",
      "---  ------                      --------------  -----  \n",
      " 0   ID                          39933 non-null  int64  \n",
      " 1   loan_amnt                   39933 non-null  int64  \n",
      " 2   loan_term                   39933 non-null  object \n",
      " 3   interest_rate               39933 non-null  float64\n",
      " 4   loan_grade                  39933 non-null  object \n",
      " 5   loan_subgrade               39933 non-null  object \n",
      " 6   job_experience              37844 non-null  object \n",
      " 7   home_ownership              39933 non-null  object \n",
      " 8   annual_income               39933 non-null  float64\n",
      " 9   income_verification_status  39933 non-null  object \n",
      " 10  loan_purpose                39933 non-null  object \n",
      " 11  state_code                  39933 non-null  object \n",
      " 12  debt_to_income              39933 non-null  float64\n",
      " 13  delinq_2yrs                 39932 non-null  float64\n",
      " 14  public_records              39932 non-null  float64\n",
      " 15  revolving_balance           39933 non-null  int64  \n",
      " 16  total_acc                   39932 non-null  float64\n",
      " 17  interest_receive            39933 non-null  float64\n",
      " 18  application_type            39933 non-null  object \n",
      " 19  last_week_pay               39127 non-null  float64\n",
      " 20  total_current_balance       36703 non-null  float64\n",
      " 21  total_revolving_limit       36703 non-null  float64\n",
      "dtypes: float64(10), int64(3), object(9)\n",
      "memory usage: 6.7+ MB\n"
     ]
    },
    {
     "data": {
      "application/javascript": [
       "\n",
       "            setTimeout(function() {\n",
       "                var nbb_cell_id = 7;\n",
       "                var nbb_unformatted_code = \"test.info()\";\n",
       "                var nbb_formatted_code = \"test.info()\";\n",
       "                var nbb_cells = Jupyter.notebook.get_cells();\n",
       "                for (var i = 0; i < nbb_cells.length; ++i) {\n",
       "                    if (nbb_cells[i].input_prompt_number == nbb_cell_id) {\n",
       "                        if (nbb_cells[i].get_text() == nbb_unformatted_code) {\n",
       "                             nbb_cells[i].set_text(nbb_formatted_code);\n",
       "                        }\n",
       "                        break;\n",
       "                    }\n",
       "                }\n",
       "            }, 500);\n",
       "            "
      ],
      "text/plain": [
       "<IPython.core.display.Javascript object>"
      ]
     },
     "metadata": {},
     "output_type": "display_data"
    }
   ],
   "source": [
    "test.info()"
   ]
  },
  {
   "cell_type": "markdown",
   "id": "13f2ace7",
   "metadata": {},
   "source": [
    "## Missing values and object columns will need to be treated"
   ]
  },
  {
   "cell_type": "code",
   "execution_count": 8,
   "id": "8fa4a929",
   "metadata": {
    "scrolled": false
   },
   "outputs": [
    {
     "data": {
      "text/html": [
       "<div>\n",
       "<style scoped>\n",
       "    .dataframe tbody tr th:only-of-type {\n",
       "        vertical-align: middle;\n",
       "    }\n",
       "\n",
       "    .dataframe tbody tr th {\n",
       "        vertical-align: top;\n",
       "    }\n",
       "\n",
       "    .dataframe thead th {\n",
       "        text-align: right;\n",
       "    }\n",
       "</style>\n",
       "<table border=\"1\" class=\"dataframe\">\n",
       "  <thead>\n",
       "    <tr style=\"text-align: right;\">\n",
       "      <th></th>\n",
       "      <th>ID</th>\n",
       "      <th>loan_amnt</th>\n",
       "      <th>loan_term</th>\n",
       "      <th>interest_rate</th>\n",
       "      <th>loan_grade</th>\n",
       "      <th>loan_subgrade</th>\n",
       "      <th>job_experience</th>\n",
       "      <th>home_ownership</th>\n",
       "      <th>annual_income</th>\n",
       "      <th>income_verification_status</th>\n",
       "      <th>loan_purpose</th>\n",
       "      <th>state_code</th>\n",
       "      <th>debt_to_income</th>\n",
       "      <th>delinq_2yrs</th>\n",
       "      <th>public_records</th>\n",
       "      <th>revolving_balance</th>\n",
       "      <th>total_acc</th>\n",
       "      <th>interest_receive</th>\n",
       "      <th>application_type</th>\n",
       "      <th>last_week_pay</th>\n",
       "      <th>total_current_balance</th>\n",
       "      <th>total_revolving_limit</th>\n",
       "      <th>default</th>\n",
       "    </tr>\n",
       "  </thead>\n",
       "  <tbody>\n",
       "    <tr>\n",
       "      <th>27972</th>\n",
       "      <td>37597260</td>\n",
       "      <td>8600</td>\n",
       "      <td>3 years</td>\n",
       "      <td>12.990</td>\n",
       "      <td>C</td>\n",
       "      <td>C2</td>\n",
       "      <td>&lt;5 Years</td>\n",
       "      <td>RENT</td>\n",
       "      <td>43000.000</td>\n",
       "      <td>Not Verified</td>\n",
       "      <td>debt_consolidation</td>\n",
       "      <td>AZ</td>\n",
       "      <td>12.150</td>\n",
       "      <td>0.000</td>\n",
       "      <td>0.000</td>\n",
       "      <td>9958</td>\n",
       "      <td>12.000</td>\n",
       "      <td>929.020</td>\n",
       "      <td>INDIVIDUAL</td>\n",
       "      <td>48.000</td>\n",
       "      <td>14209.000</td>\n",
       "      <td>24000.000</td>\n",
       "      <td>1</td>\n",
       "    </tr>\n",
       "    <tr>\n",
       "      <th>63334</th>\n",
       "      <td>61140941</td>\n",
       "      <td>9600</td>\n",
       "      <td>3 years</td>\n",
       "      <td>5.320</td>\n",
       "      <td>A</td>\n",
       "      <td>A1</td>\n",
       "      <td>10+ years</td>\n",
       "      <td>OWN</td>\n",
       "      <td>87927.000</td>\n",
       "      <td>Source Verified</td>\n",
       "      <td>credit_card</td>\n",
       "      <td>GA</td>\n",
       "      <td>5.080</td>\n",
       "      <td>0.000</td>\n",
       "      <td>2.000</td>\n",
       "      <td>11851</td>\n",
       "      <td>9.000</td>\n",
       "      <td>196.150</td>\n",
       "      <td>INDIVIDUAL</td>\n",
       "      <td>22.000</td>\n",
       "      <td>11851.000</td>\n",
       "      <td>28200.000</td>\n",
       "      <td>0</td>\n",
       "    </tr>\n",
       "    <tr>\n",
       "      <th>41198</th>\n",
       "      <td>44327275</td>\n",
       "      <td>6450</td>\n",
       "      <td>3 years</td>\n",
       "      <td>11.530</td>\n",
       "      <td>B</td>\n",
       "      <td>B5</td>\n",
       "      <td>10+ years</td>\n",
       "      <td>OWN</td>\n",
       "      <td>13000.000</td>\n",
       "      <td>Verified</td>\n",
       "      <td>debt_consolidation</td>\n",
       "      <td>MT</td>\n",
       "      <td>29.180</td>\n",
       "      <td>0.000</td>\n",
       "      <td>0.000</td>\n",
       "      <td>9799</td>\n",
       "      <td>16.000</td>\n",
       "      <td>548.700</td>\n",
       "      <td>INDIVIDUAL</td>\n",
       "      <td>44.000</td>\n",
       "      <td>9799.000</td>\n",
       "      <td>19100.000</td>\n",
       "      <td>0</td>\n",
       "    </tr>\n",
       "    <tr>\n",
       "      <th>1290</th>\n",
       "      <td>49724421</td>\n",
       "      <td>15000</td>\n",
       "      <td>3 years</td>\n",
       "      <td>8.180</td>\n",
       "      <td>B</td>\n",
       "      <td>B1</td>\n",
       "      <td>10+ years</td>\n",
       "      <td>MORTGAGE</td>\n",
       "      <td>53000.000</td>\n",
       "      <td>Not Verified</td>\n",
       "      <td>debt_consolidation</td>\n",
       "      <td>OK</td>\n",
       "      <td>24.180</td>\n",
       "      <td>2.000</td>\n",
       "      <td>0.000</td>\n",
       "      <td>15335</td>\n",
       "      <td>42.000</td>\n",
       "      <td>739.770</td>\n",
       "      <td>INDIVIDUAL</td>\n",
       "      <td>35.000</td>\n",
       "      <td>79559.000</td>\n",
       "      <td>23800.000</td>\n",
       "      <td>0</td>\n",
       "    </tr>\n",
       "    <tr>\n",
       "      <th>3950</th>\n",
       "      <td>53352564</td>\n",
       "      <td>30000</td>\n",
       "      <td>3 years</td>\n",
       "      <td>7.260</td>\n",
       "      <td>A</td>\n",
       "      <td>A4</td>\n",
       "      <td>NaN</td>\n",
       "      <td>MORTGAGE</td>\n",
       "      <td>94000.000</td>\n",
       "      <td>Verified</td>\n",
       "      <td>credit_card</td>\n",
       "      <td>NY</td>\n",
       "      <td>20.500</td>\n",
       "      <td>0.000</td>\n",
       "      <td>0.000</td>\n",
       "      <td>90109</td>\n",
       "      <td>18.000</td>\n",
       "      <td>1144.200</td>\n",
       "      <td>INDIVIDUAL</td>\n",
       "      <td>31.000</td>\n",
       "      <td>282473.000</td>\n",
       "      <td>112800.000</td>\n",
       "      <td>0</td>\n",
       "    </tr>\n",
       "    <tr>\n",
       "      <th>65797</th>\n",
       "      <td>48024227</td>\n",
       "      <td>20000</td>\n",
       "      <td>5 years</td>\n",
       "      <td>7.890</td>\n",
       "      <td>A</td>\n",
       "      <td>A5</td>\n",
       "      <td>&lt;5 Years</td>\n",
       "      <td>RENT</td>\n",
       "      <td>48000.000</td>\n",
       "      <td>Source Verified</td>\n",
       "      <td>debt_consolidation</td>\n",
       "      <td>VA</td>\n",
       "      <td>17.130</td>\n",
       "      <td>0.000</td>\n",
       "      <td>0.000</td>\n",
       "      <td>7824</td>\n",
       "      <td>14.000</td>\n",
       "      <td>1100.350</td>\n",
       "      <td>INDIVIDUAL</td>\n",
       "      <td>39.000</td>\n",
       "      <td>16707.000</td>\n",
       "      <td>30900.000</td>\n",
       "      <td>0</td>\n",
       "    </tr>\n",
       "    <tr>\n",
       "      <th>63598</th>\n",
       "      <td>15559415</td>\n",
       "      <td>17000</td>\n",
       "      <td>3 years</td>\n",
       "      <td>11.990</td>\n",
       "      <td>B</td>\n",
       "      <td>B3</td>\n",
       "      <td>10+ years</td>\n",
       "      <td>MORTGAGE</td>\n",
       "      <td>75000.000</td>\n",
       "      <td>Source Verified</td>\n",
       "      <td>debt_consolidation</td>\n",
       "      <td>TX</td>\n",
       "      <td>18.960</td>\n",
       "      <td>0.000</td>\n",
       "      <td>0.000</td>\n",
       "      <td>18428</td>\n",
       "      <td>38.000</td>\n",
       "      <td>2100.550</td>\n",
       "      <td>INDIVIDUAL</td>\n",
       "      <td>65.000</td>\n",
       "      <td>169255.000</td>\n",
       "      <td>24600.000</td>\n",
       "      <td>1</td>\n",
       "    </tr>\n",
       "    <tr>\n",
       "      <th>72264</th>\n",
       "      <td>43285230</td>\n",
       "      <td>11000</td>\n",
       "      <td>3 years</td>\n",
       "      <td>11.990</td>\n",
       "      <td>B</td>\n",
       "      <td>B5</td>\n",
       "      <td>&lt;5 Years</td>\n",
       "      <td>RENT</td>\n",
       "      <td>30000.000</td>\n",
       "      <td>Source Verified</td>\n",
       "      <td>credit_card</td>\n",
       "      <td>NY</td>\n",
       "      <td>28.390</td>\n",
       "      <td>0.000</td>\n",
       "      <td>1.000</td>\n",
       "      <td>12460</td>\n",
       "      <td>15.000</td>\n",
       "      <td>1049.700</td>\n",
       "      <td>INDIVIDUAL</td>\n",
       "      <td>52.000</td>\n",
       "      <td>25116.000</td>\n",
       "      <td>17700.000</td>\n",
       "      <td>0</td>\n",
       "    </tr>\n",
       "    <tr>\n",
       "      <th>2165</th>\n",
       "      <td>43835427</td>\n",
       "      <td>5000</td>\n",
       "      <td>3 years</td>\n",
       "      <td>11.530</td>\n",
       "      <td>B</td>\n",
       "      <td>B5</td>\n",
       "      <td>6-10 years</td>\n",
       "      <td>MORTGAGE</td>\n",
       "      <td>69000.000</td>\n",
       "      <td>Verified</td>\n",
       "      <td>debt_consolidation</td>\n",
       "      <td>PA</td>\n",
       "      <td>26.560</td>\n",
       "      <td>0.000</td>\n",
       "      <td>0.000</td>\n",
       "      <td>28533</td>\n",
       "      <td>30.000</td>\n",
       "      <td>422.140</td>\n",
       "      <td>INDIVIDUAL</td>\n",
       "      <td>48.000</td>\n",
       "      <td>250577.000</td>\n",
       "      <td>72600.000</td>\n",
       "      <td>0</td>\n",
       "    </tr>\n",
       "    <tr>\n",
       "      <th>10730</th>\n",
       "      <td>59744003</td>\n",
       "      <td>9675</td>\n",
       "      <td>3 years</td>\n",
       "      <td>15.610</td>\n",
       "      <td>D</td>\n",
       "      <td>D1</td>\n",
       "      <td>NaN</td>\n",
       "      <td>RENT</td>\n",
       "      <td>22000.000</td>\n",
       "      <td>Verified</td>\n",
       "      <td>debt_consolidation</td>\n",
       "      <td>CT</td>\n",
       "      <td>25.040</td>\n",
       "      <td>0.000</td>\n",
       "      <td>0.000</td>\n",
       "      <td>11293</td>\n",
       "      <td>10.000</td>\n",
       "      <td>592.890</td>\n",
       "      <td>INDIVIDUAL</td>\n",
       "      <td>22.000</td>\n",
       "      <td>13572.000</td>\n",
       "      <td>14600.000</td>\n",
       "      <td>0</td>\n",
       "    </tr>\n",
       "    <tr>\n",
       "      <th>58584</th>\n",
       "      <td>43885971</td>\n",
       "      <td>12000</td>\n",
       "      <td>3 years</td>\n",
       "      <td>11.530</td>\n",
       "      <td>B</td>\n",
       "      <td>B5</td>\n",
       "      <td>6-10 years</td>\n",
       "      <td>RENT</td>\n",
       "      <td>40000.000</td>\n",
       "      <td>Not Verified</td>\n",
       "      <td>debt_consolidation</td>\n",
       "      <td>VA</td>\n",
       "      <td>25.380</td>\n",
       "      <td>0.000</td>\n",
       "      <td>0.000</td>\n",
       "      <td>7080</td>\n",
       "      <td>18.000</td>\n",
       "      <td>807.040</td>\n",
       "      <td>INDIVIDUAL</td>\n",
       "      <td>35.000</td>\n",
       "      <td>33606.000</td>\n",
       "      <td>17000.000</td>\n",
       "      <td>1</td>\n",
       "    </tr>\n",
       "    <tr>\n",
       "      <th>72267</th>\n",
       "      <td>66275512</td>\n",
       "      <td>4000</td>\n",
       "      <td>3 years</td>\n",
       "      <td>12.290</td>\n",
       "      <td>C</td>\n",
       "      <td>C1</td>\n",
       "      <td>&lt;5 Years</td>\n",
       "      <td>RENT</td>\n",
       "      <td>21000.000</td>\n",
       "      <td>Source Verified</td>\n",
       "      <td>other</td>\n",
       "      <td>VA</td>\n",
       "      <td>37.660</td>\n",
       "      <td>0.000</td>\n",
       "      <td>1.000</td>\n",
       "      <td>3664</td>\n",
       "      <td>37.000</td>\n",
       "      <td>117.320</td>\n",
       "      <td>INDIVIDUAL</td>\n",
       "      <td>13.000</td>\n",
       "      <td>34962.000</td>\n",
       "      <td>16500.000</td>\n",
       "      <td>0</td>\n",
       "    </tr>\n",
       "    <tr>\n",
       "      <th>49994</th>\n",
       "      <td>58732381</td>\n",
       "      <td>4225</td>\n",
       "      <td>3 years</td>\n",
       "      <td>16.550</td>\n",
       "      <td>D</td>\n",
       "      <td>D2</td>\n",
       "      <td>&lt;5 Years</td>\n",
       "      <td>OWN</td>\n",
       "      <td>36000.000</td>\n",
       "      <td>Not Verified</td>\n",
       "      <td>debt_consolidation</td>\n",
       "      <td>NY</td>\n",
       "      <td>22.830</td>\n",
       "      <td>0.000</td>\n",
       "      <td>0.000</td>\n",
       "      <td>3786</td>\n",
       "      <td>25.000</td>\n",
       "      <td>326.470</td>\n",
       "      <td>INDIVIDUAL</td>\n",
       "      <td>26.000</td>\n",
       "      <td>17975.000</td>\n",
       "      <td>14000.000</td>\n",
       "      <td>0</td>\n",
       "    </tr>\n",
       "    <tr>\n",
       "      <th>23592</th>\n",
       "      <td>23524016</td>\n",
       "      <td>3850</td>\n",
       "      <td>3 years</td>\n",
       "      <td>24.080</td>\n",
       "      <td>F</td>\n",
       "      <td>F2</td>\n",
       "      <td>&lt;5 Years</td>\n",
       "      <td>RENT</td>\n",
       "      <td>32000.000</td>\n",
       "      <td>Verified</td>\n",
       "      <td>debt_consolidation</td>\n",
       "      <td>CA</td>\n",
       "      <td>23.290</td>\n",
       "      <td>0.000</td>\n",
       "      <td>0.000</td>\n",
       "      <td>4593</td>\n",
       "      <td>9.000</td>\n",
       "      <td>996.020</td>\n",
       "      <td>INDIVIDUAL</td>\n",
       "      <td>65.000</td>\n",
       "      <td>11031.000</td>\n",
       "      <td>7600.000</td>\n",
       "      <td>0</td>\n",
       "    </tr>\n",
       "    <tr>\n",
       "      <th>91166</th>\n",
       "      <td>25195636</td>\n",
       "      <td>16000</td>\n",
       "      <td>3 years</td>\n",
       "      <td>18.240</td>\n",
       "      <td>D</td>\n",
       "      <td>D5</td>\n",
       "      <td>10+ years</td>\n",
       "      <td>MORTGAGE</td>\n",
       "      <td>65000.000</td>\n",
       "      <td>Not Verified</td>\n",
       "      <td>other</td>\n",
       "      <td>SD</td>\n",
       "      <td>26.200</td>\n",
       "      <td>1.000</td>\n",
       "      <td>0.000</td>\n",
       "      <td>21824</td>\n",
       "      <td>34.000</td>\n",
       "      <td>3381.500</td>\n",
       "      <td>INDIVIDUAL</td>\n",
       "      <td>74.000</td>\n",
       "      <td>156188.000</td>\n",
       "      <td>40000.000</td>\n",
       "      <td>0</td>\n",
       "    </tr>\n",
       "    <tr>\n",
       "      <th>39934</th>\n",
       "      <td>1034193</td>\n",
       "      <td>1000</td>\n",
       "      <td>3 years</td>\n",
       "      <td>15.990</td>\n",
       "      <td>D</td>\n",
       "      <td>D2</td>\n",
       "      <td>&lt;5 Years</td>\n",
       "      <td>MORTGAGE</td>\n",
       "      <td>27000.000</td>\n",
       "      <td>Not Verified</td>\n",
       "      <td>other</td>\n",
       "      <td>MD</td>\n",
       "      <td>12.620</td>\n",
       "      <td>1.000</td>\n",
       "      <td>0.000</td>\n",
       "      <td>202</td>\n",
       "      <td>3.000</td>\n",
       "      <td>204.390</td>\n",
       "      <td>INDIVIDUAL</td>\n",
       "      <td>91.000</td>\n",
       "      <td>NaN</td>\n",
       "      <td>NaN</td>\n",
       "      <td>0</td>\n",
       "    </tr>\n",
       "    <tr>\n",
       "      <th>57428</th>\n",
       "      <td>67749951</td>\n",
       "      <td>10000</td>\n",
       "      <td>3 years</td>\n",
       "      <td>7.890</td>\n",
       "      <td>A</td>\n",
       "      <td>A5</td>\n",
       "      <td>NaN</td>\n",
       "      <td>MORTGAGE</td>\n",
       "      <td>29000.000</td>\n",
       "      <td>Verified</td>\n",
       "      <td>credit_card</td>\n",
       "      <td>TX</td>\n",
       "      <td>9.600</td>\n",
       "      <td>0.000</td>\n",
       "      <td>1.000</td>\n",
       "      <td>9194</td>\n",
       "      <td>34.000</td>\n",
       "      <td>125.500</td>\n",
       "      <td>INDIVIDUAL</td>\n",
       "      <td>9.000</td>\n",
       "      <td>108232.000</td>\n",
       "      <td>16100.000</td>\n",
       "      <td>0</td>\n",
       "    </tr>\n",
       "    <tr>\n",
       "      <th>28090</th>\n",
       "      <td>49962647</td>\n",
       "      <td>29000</td>\n",
       "      <td>5 years</td>\n",
       "      <td>7.890</td>\n",
       "      <td>A</td>\n",
       "      <td>A5</td>\n",
       "      <td>&lt;5 Years</td>\n",
       "      <td>MORTGAGE</td>\n",
       "      <td>206000.000</td>\n",
       "      <td>Verified</td>\n",
       "      <td>debt_consolidation</td>\n",
       "      <td>AZ</td>\n",
       "      <td>1.220</td>\n",
       "      <td>0.000</td>\n",
       "      <td>0.000</td>\n",
       "      <td>11931</td>\n",
       "      <td>28.000</td>\n",
       "      <td>1438.850</td>\n",
       "      <td>INDIVIDUAL</td>\n",
       "      <td>35.000</td>\n",
       "      <td>537084.000</td>\n",
       "      <td>26600.000</td>\n",
       "      <td>0</td>\n",
       "    </tr>\n",
       "    <tr>\n",
       "      <th>93051</th>\n",
       "      <td>37175328</td>\n",
       "      <td>26000</td>\n",
       "      <td>5 years</td>\n",
       "      <td>12.990</td>\n",
       "      <td>C</td>\n",
       "      <td>C2</td>\n",
       "      <td>&lt;5 Years</td>\n",
       "      <td>RENT</td>\n",
       "      <td>80000.000</td>\n",
       "      <td>Source Verified</td>\n",
       "      <td>credit_card</td>\n",
       "      <td>NY</td>\n",
       "      <td>20.720</td>\n",
       "      <td>0.000</td>\n",
       "      <td>0.000</td>\n",
       "      <td>20485</td>\n",
       "      <td>25.000</td>\n",
       "      <td>3602.540</td>\n",
       "      <td>INDIVIDUAL</td>\n",
       "      <td>61.000</td>\n",
       "      <td>34135.000</td>\n",
       "      <td>54100.000</td>\n",
       "      <td>0</td>\n",
       "    </tr>\n",
       "    <tr>\n",
       "      <th>22904</th>\n",
       "      <td>7209709</td>\n",
       "      <td>12000</td>\n",
       "      <td>3 years</td>\n",
       "      <td>10.640</td>\n",
       "      <td>B</td>\n",
       "      <td>B2</td>\n",
       "      <td>&lt;5 Years</td>\n",
       "      <td>RENT</td>\n",
       "      <td>45000.000</td>\n",
       "      <td>Verified</td>\n",
       "      <td>credit_card</td>\n",
       "      <td>MD</td>\n",
       "      <td>33.280</td>\n",
       "      <td>0.000</td>\n",
       "      <td>0.000</td>\n",
       "      <td>10297</td>\n",
       "      <td>30.000</td>\n",
       "      <td>1973.800</td>\n",
       "      <td>INDIVIDUAL</td>\n",
       "      <td>126.000</td>\n",
       "      <td>58827.000</td>\n",
       "      <td>29100.000</td>\n",
       "      <td>0</td>\n",
       "    </tr>\n",
       "  </tbody>\n",
       "</table>\n",
       "</div>"
      ],
      "text/plain": [
       "             ID  loan_amnt loan_term  interest_rate loan_grade loan_subgrade  \\\n",
       "27972  37597260       8600   3 years         12.990          C            C2   \n",
       "63334  61140941       9600   3 years          5.320          A            A1   \n",
       "41198  44327275       6450   3 years         11.530          B            B5   \n",
       "1290   49724421      15000   3 years          8.180          B            B1   \n",
       "3950   53352564      30000   3 years          7.260          A            A4   \n",
       "65797  48024227      20000   5 years          7.890          A            A5   \n",
       "63598  15559415      17000   3 years         11.990          B            B3   \n",
       "72264  43285230      11000   3 years         11.990          B            B5   \n",
       "2165   43835427       5000   3 years         11.530          B            B5   \n",
       "10730  59744003       9675   3 years         15.610          D            D1   \n",
       "58584  43885971      12000   3 years         11.530          B            B5   \n",
       "72267  66275512       4000   3 years         12.290          C            C1   \n",
       "49994  58732381       4225   3 years         16.550          D            D2   \n",
       "23592  23524016       3850   3 years         24.080          F            F2   \n",
       "91166  25195636      16000   3 years         18.240          D            D5   \n",
       "39934   1034193       1000   3 years         15.990          D            D2   \n",
       "57428  67749951      10000   3 years          7.890          A            A5   \n",
       "28090  49962647      29000   5 years          7.890          A            A5   \n",
       "93051  37175328      26000   5 years         12.990          C            C2   \n",
       "22904   7209709      12000   3 years         10.640          B            B2   \n",
       "\n",
       "      job_experience home_ownership  annual_income income_verification_status  \\\n",
       "27972       <5 Years           RENT      43000.000               Not Verified   \n",
       "63334      10+ years            OWN      87927.000            Source Verified   \n",
       "41198      10+ years            OWN      13000.000                   Verified   \n",
       "1290       10+ years       MORTGAGE      53000.000               Not Verified   \n",
       "3950             NaN       MORTGAGE      94000.000                   Verified   \n",
       "65797       <5 Years           RENT      48000.000            Source Verified   \n",
       "63598      10+ years       MORTGAGE      75000.000            Source Verified   \n",
       "72264       <5 Years           RENT      30000.000            Source Verified   \n",
       "2165      6-10 years       MORTGAGE      69000.000                   Verified   \n",
       "10730            NaN           RENT      22000.000                   Verified   \n",
       "58584     6-10 years           RENT      40000.000               Not Verified   \n",
       "72267       <5 Years           RENT      21000.000            Source Verified   \n",
       "49994       <5 Years            OWN      36000.000               Not Verified   \n",
       "23592       <5 Years           RENT      32000.000                   Verified   \n",
       "91166      10+ years       MORTGAGE      65000.000               Not Verified   \n",
       "39934       <5 Years       MORTGAGE      27000.000               Not Verified   \n",
       "57428            NaN       MORTGAGE      29000.000                   Verified   \n",
       "28090       <5 Years       MORTGAGE     206000.000                   Verified   \n",
       "93051       <5 Years           RENT      80000.000            Source Verified   \n",
       "22904       <5 Years           RENT      45000.000                   Verified   \n",
       "\n",
       "             loan_purpose state_code  debt_to_income  delinq_2yrs  \\\n",
       "27972  debt_consolidation         AZ          12.150        0.000   \n",
       "63334         credit_card         GA           5.080        0.000   \n",
       "41198  debt_consolidation         MT          29.180        0.000   \n",
       "1290   debt_consolidation         OK          24.180        2.000   \n",
       "3950          credit_card         NY          20.500        0.000   \n",
       "65797  debt_consolidation         VA          17.130        0.000   \n",
       "63598  debt_consolidation         TX          18.960        0.000   \n",
       "72264         credit_card         NY          28.390        0.000   \n",
       "2165   debt_consolidation         PA          26.560        0.000   \n",
       "10730  debt_consolidation         CT          25.040        0.000   \n",
       "58584  debt_consolidation         VA          25.380        0.000   \n",
       "72267               other         VA          37.660        0.000   \n",
       "49994  debt_consolidation         NY          22.830        0.000   \n",
       "23592  debt_consolidation         CA          23.290        0.000   \n",
       "91166               other         SD          26.200        1.000   \n",
       "39934               other         MD          12.620        1.000   \n",
       "57428         credit_card         TX           9.600        0.000   \n",
       "28090  debt_consolidation         AZ           1.220        0.000   \n",
       "93051         credit_card         NY          20.720        0.000   \n",
       "22904         credit_card         MD          33.280        0.000   \n",
       "\n",
       "       public_records  revolving_balance  total_acc  interest_receive  \\\n",
       "27972           0.000               9958     12.000           929.020   \n",
       "63334           2.000              11851      9.000           196.150   \n",
       "41198           0.000               9799     16.000           548.700   \n",
       "1290            0.000              15335     42.000           739.770   \n",
       "3950            0.000              90109     18.000          1144.200   \n",
       "65797           0.000               7824     14.000          1100.350   \n",
       "63598           0.000              18428     38.000          2100.550   \n",
       "72264           1.000              12460     15.000          1049.700   \n",
       "2165            0.000              28533     30.000           422.140   \n",
       "10730           0.000              11293     10.000           592.890   \n",
       "58584           0.000               7080     18.000           807.040   \n",
       "72267           1.000               3664     37.000           117.320   \n",
       "49994           0.000               3786     25.000           326.470   \n",
       "23592           0.000               4593      9.000           996.020   \n",
       "91166           0.000              21824     34.000          3381.500   \n",
       "39934           0.000                202      3.000           204.390   \n",
       "57428           1.000               9194     34.000           125.500   \n",
       "28090           0.000              11931     28.000          1438.850   \n",
       "93051           0.000              20485     25.000          3602.540   \n",
       "22904           0.000              10297     30.000          1973.800   \n",
       "\n",
       "      application_type  last_week_pay  total_current_balance  \\\n",
       "27972       INDIVIDUAL         48.000              14209.000   \n",
       "63334       INDIVIDUAL         22.000              11851.000   \n",
       "41198       INDIVIDUAL         44.000               9799.000   \n",
       "1290        INDIVIDUAL         35.000              79559.000   \n",
       "3950        INDIVIDUAL         31.000             282473.000   \n",
       "65797       INDIVIDUAL         39.000              16707.000   \n",
       "63598       INDIVIDUAL         65.000             169255.000   \n",
       "72264       INDIVIDUAL         52.000              25116.000   \n",
       "2165        INDIVIDUAL         48.000             250577.000   \n",
       "10730       INDIVIDUAL         22.000              13572.000   \n",
       "58584       INDIVIDUAL         35.000              33606.000   \n",
       "72267       INDIVIDUAL         13.000              34962.000   \n",
       "49994       INDIVIDUAL         26.000              17975.000   \n",
       "23592       INDIVIDUAL         65.000              11031.000   \n",
       "91166       INDIVIDUAL         74.000             156188.000   \n",
       "39934       INDIVIDUAL         91.000                    NaN   \n",
       "57428       INDIVIDUAL          9.000             108232.000   \n",
       "28090       INDIVIDUAL         35.000             537084.000   \n",
       "93051       INDIVIDUAL         61.000              34135.000   \n",
       "22904       INDIVIDUAL        126.000              58827.000   \n",
       "\n",
       "       total_revolving_limit  default  \n",
       "27972              24000.000        1  \n",
       "63334              28200.000        0  \n",
       "41198              19100.000        0  \n",
       "1290               23800.000        0  \n",
       "3950              112800.000        0  \n",
       "65797              30900.000        0  \n",
       "63598              24600.000        1  \n",
       "72264              17700.000        0  \n",
       "2165               72600.000        0  \n",
       "10730              14600.000        0  \n",
       "58584              17000.000        1  \n",
       "72267              16500.000        0  \n",
       "49994              14000.000        0  \n",
       "23592               7600.000        0  \n",
       "91166              40000.000        0  \n",
       "39934                    NaN        0  \n",
       "57428              16100.000        0  \n",
       "28090              26600.000        0  \n",
       "93051              54100.000        0  \n",
       "22904              29100.000        0  "
      ]
     },
     "execution_count": 8,
     "metadata": {},
     "output_type": "execute_result"
    },
    {
     "data": {
      "application/javascript": [
       "\n",
       "            setTimeout(function() {\n",
       "                var nbb_cell_id = 8;\n",
       "                var nbb_unformatted_code = \"# Check a sample of 20 rows\\ntrain.sample(n=20, random_state=420)\";\n",
       "                var nbb_formatted_code = \"# Check a sample of 20 rows\\ntrain.sample(n=20, random_state=420)\";\n",
       "                var nbb_cells = Jupyter.notebook.get_cells();\n",
       "                for (var i = 0; i < nbb_cells.length; ++i) {\n",
       "                    if (nbb_cells[i].input_prompt_number == nbb_cell_id) {\n",
       "                        if (nbb_cells[i].get_text() == nbb_unformatted_code) {\n",
       "                             nbb_cells[i].set_text(nbb_formatted_code);\n",
       "                        }\n",
       "                        break;\n",
       "                    }\n",
       "                }\n",
       "            }, 500);\n",
       "            "
      ],
      "text/plain": [
       "<IPython.core.display.Javascript object>"
      ]
     },
     "metadata": {},
     "output_type": "display_data"
    }
   ],
   "source": [
    "# Check a sample of 20 rows\n",
    "train.sample(n=20, random_state=420)"
   ]
  },
  {
   "cell_type": "code",
   "execution_count": 9,
   "id": "a8e440ad",
   "metadata": {},
   "outputs": [
    {
     "data": {
      "text/plain": [
       "0"
      ]
     },
     "execution_count": 9,
     "metadata": {},
     "output_type": "execute_result"
    },
    {
     "data": {
      "application/javascript": [
       "\n",
       "            setTimeout(function() {\n",
       "                var nbb_cell_id = 9;\n",
       "                var nbb_unformatted_code = \"# Check for duplicate rows\\ntrain.duplicated().sum()\";\n",
       "                var nbb_formatted_code = \"# Check for duplicate rows\\ntrain.duplicated().sum()\";\n",
       "                var nbb_cells = Jupyter.notebook.get_cells();\n",
       "                for (var i = 0; i < nbb_cells.length; ++i) {\n",
       "                    if (nbb_cells[i].input_prompt_number == nbb_cell_id) {\n",
       "                        if (nbb_cells[i].get_text() == nbb_unformatted_code) {\n",
       "                             nbb_cells[i].set_text(nbb_formatted_code);\n",
       "                        }\n",
       "                        break;\n",
       "                    }\n",
       "                }\n",
       "            }, 500);\n",
       "            "
      ],
      "text/plain": [
       "<IPython.core.display.Javascript object>"
      ]
     },
     "metadata": {},
     "output_type": "display_data"
    }
   ],
   "source": [
    "# Check for duplicate rows\n",
    "train.duplicated().sum()"
   ]
  },
  {
   "cell_type": "code",
   "execution_count": 10,
   "id": "eb5aaa7c",
   "metadata": {},
   "outputs": [
    {
     "data": {
      "text/plain": [
       "8"
      ]
     },
     "execution_count": 10,
     "metadata": {},
     "output_type": "execute_result"
    },
    {
     "data": {
      "application/javascript": [
       "\n",
       "            setTimeout(function() {\n",
       "                var nbb_cell_id = 10;\n",
       "                var nbb_unformatted_code = \"# Check how many columns have missing data\\ntrain.isnull().any().sum()\";\n",
       "                var nbb_formatted_code = \"# Check how many columns have missing data\\ntrain.isnull().any().sum()\";\n",
       "                var nbb_cells = Jupyter.notebook.get_cells();\n",
       "                for (var i = 0; i < nbb_cells.length; ++i) {\n",
       "                    if (nbb_cells[i].input_prompt_number == nbb_cell_id) {\n",
       "                        if (nbb_cells[i].get_text() == nbb_unformatted_code) {\n",
       "                             nbb_cells[i].set_text(nbb_formatted_code);\n",
       "                        }\n",
       "                        break;\n",
       "                    }\n",
       "                }\n",
       "            }, 500);\n",
       "            "
      ],
      "text/plain": [
       "<IPython.core.display.Javascript object>"
      ]
     },
     "metadata": {},
     "output_type": "display_data"
    }
   ],
   "source": [
    "# Check how many columns have missing data\n",
    "train.isnull().any().sum()"
   ]
  },
  {
   "cell_type": "code",
   "execution_count": 11,
   "id": "10defac7",
   "metadata": {},
   "outputs": [
    {
     "data": {
      "text/plain": [
       "13653"
      ]
     },
     "execution_count": 11,
     "metadata": {},
     "output_type": "execute_result"
    },
    {
     "data": {
      "application/javascript": [
       "\n",
       "            setTimeout(function() {\n",
       "                var nbb_cell_id = 11;\n",
       "                var nbb_unformatted_code = \"# Check how many rows have missing data\\ntrain.isnull().any(axis=1).sum()\";\n",
       "                var nbb_formatted_code = \"# Check how many rows have missing data\\ntrain.isnull().any(axis=1).sum()\";\n",
       "                var nbb_cells = Jupyter.notebook.get_cells();\n",
       "                for (var i = 0; i < nbb_cells.length; ++i) {\n",
       "                    if (nbb_cells[i].input_prompt_number == nbb_cell_id) {\n",
       "                        if (nbb_cells[i].get_text() == nbb_unformatted_code) {\n",
       "                             nbb_cells[i].set_text(nbb_formatted_code);\n",
       "                        }\n",
       "                        break;\n",
       "                    }\n",
       "                }\n",
       "            }, 500);\n",
       "            "
      ],
      "text/plain": [
       "<IPython.core.display.Javascript object>"
      ]
     },
     "metadata": {},
     "output_type": "display_data"
    }
   ],
   "source": [
    "# Check how many rows have missing data\n",
    "train.isnull().any(axis=1).sum()"
   ]
  },
  {
   "cell_type": "markdown",
   "id": "c556b444",
   "metadata": {},
   "source": [
    "## 8 columns have missing data\n",
    "## 13,653 rows have missing data"
   ]
  },
  {
   "cell_type": "code",
   "execution_count": 12,
   "id": "ae53a042",
   "metadata": {},
   "outputs": [
    {
     "data": {
      "text/plain": [
       "['job_experience',\n",
       " 'annual_income',\n",
       " 'delinq_2yrs',\n",
       " 'public_records',\n",
       " 'total_acc',\n",
       " 'last_week_pay',\n",
       " 'total_current_balance',\n",
       " 'total_revolving_limit']"
      ]
     },
     "execution_count": 12,
     "metadata": {},
     "output_type": "execute_result"
    },
    {
     "data": {
      "application/javascript": [
       "\n",
       "            setTimeout(function() {\n",
       "                var nbb_cell_id = 12;\n",
       "                var nbb_unformatted_code = \"# Which columns?\\ntrain.columns[train.isnull().any()].tolist()\";\n",
       "                var nbb_formatted_code = \"# Which columns?\\ntrain.columns[train.isnull().any()].tolist()\";\n",
       "                var nbb_cells = Jupyter.notebook.get_cells();\n",
       "                for (var i = 0; i < nbb_cells.length; ++i) {\n",
       "                    if (nbb_cells[i].input_prompt_number == nbb_cell_id) {\n",
       "                        if (nbb_cells[i].get_text() == nbb_unformatted_code) {\n",
       "                             nbb_cells[i].set_text(nbb_formatted_code);\n",
       "                        }\n",
       "                        break;\n",
       "                    }\n",
       "                }\n",
       "            }, 500);\n",
       "            "
      ],
      "text/plain": [
       "<IPython.core.display.Javascript object>"
      ]
     },
     "metadata": {},
     "output_type": "display_data"
    }
   ],
   "source": [
    "# Which columns?\n",
    "train.columns[train.isnull().any()].tolist()"
   ]
  },
  {
   "cell_type": "code",
   "execution_count": 13,
   "id": "3ee204c5",
   "metadata": {},
   "outputs": [
    {
     "data": {
      "text/html": [
       "<div>\n",
       "<style scoped>\n",
       "    .dataframe tbody tr th:only-of-type {\n",
       "        vertical-align: middle;\n",
       "    }\n",
       "\n",
       "    .dataframe tbody tr th {\n",
       "        vertical-align: top;\n",
       "    }\n",
       "\n",
       "    .dataframe thead th {\n",
       "        text-align: right;\n",
       "    }\n",
       "</style>\n",
       "<table border=\"1\" class=\"dataframe\">\n",
       "  <thead>\n",
       "    <tr style=\"text-align: right;\">\n",
       "      <th></th>\n",
       "      <th>count</th>\n",
       "      <th>unique</th>\n",
       "      <th>top</th>\n",
       "      <th>freq</th>\n",
       "      <th>mean</th>\n",
       "      <th>std</th>\n",
       "      <th>min</th>\n",
       "      <th>25%</th>\n",
       "      <th>50%</th>\n",
       "      <th>75%</th>\n",
       "      <th>max</th>\n",
       "    </tr>\n",
       "  </thead>\n",
       "  <tbody>\n",
       "    <tr>\n",
       "      <th>ID</th>\n",
       "      <td>93174.000</td>\n",
       "      <td>NaN</td>\n",
       "      <td>NaN</td>\n",
       "      <td>NaN</td>\n",
       "      <td>35050211.389</td>\n",
       "      <td>24149262.074</td>\n",
       "      <td>70735.000</td>\n",
       "      <td>10859832.500</td>\n",
       "      <td>37107507.000</td>\n",
       "      <td>58598949.500</td>\n",
       "      <td>73519746.000</td>\n",
       "    </tr>\n",
       "    <tr>\n",
       "      <th>loan_amnt</th>\n",
       "      <td>93174.000</td>\n",
       "      <td>NaN</td>\n",
       "      <td>NaN</td>\n",
       "      <td>NaN</td>\n",
       "      <td>14733.861</td>\n",
       "      <td>8428.185</td>\n",
       "      <td>500.000</td>\n",
       "      <td>8000.000</td>\n",
       "      <td>13000.000</td>\n",
       "      <td>20000.000</td>\n",
       "      <td>35000.000</td>\n",
       "    </tr>\n",
       "    <tr>\n",
       "      <th>loan_term</th>\n",
       "      <td>93174</td>\n",
       "      <td>2</td>\n",
       "      <td>3 years</td>\n",
       "      <td>65211</td>\n",
       "      <td>NaN</td>\n",
       "      <td>NaN</td>\n",
       "      <td>NaN</td>\n",
       "      <td>NaN</td>\n",
       "      <td>NaN</td>\n",
       "      <td>NaN</td>\n",
       "      <td>NaN</td>\n",
       "    </tr>\n",
       "    <tr>\n",
       "      <th>interest_rate</th>\n",
       "      <td>93174.000</td>\n",
       "      <td>NaN</td>\n",
       "      <td>NaN</td>\n",
       "      <td>NaN</td>\n",
       "      <td>13.233</td>\n",
       "      <td>4.369</td>\n",
       "      <td>5.320</td>\n",
       "      <td>9.990</td>\n",
       "      <td>12.990</td>\n",
       "      <td>16.200</td>\n",
       "      <td>28.990</td>\n",
       "    </tr>\n",
       "    <tr>\n",
       "      <th>loan_grade</th>\n",
       "      <td>93174</td>\n",
       "      <td>7</td>\n",
       "      <td>B</td>\n",
       "      <td>26865</td>\n",
       "      <td>NaN</td>\n",
       "      <td>NaN</td>\n",
       "      <td>NaN</td>\n",
       "      <td>NaN</td>\n",
       "      <td>NaN</td>\n",
       "      <td>NaN</td>\n",
       "      <td>NaN</td>\n",
       "    </tr>\n",
       "    <tr>\n",
       "      <th>loan_subgrade</th>\n",
       "      <td>93174</td>\n",
       "      <td>35</td>\n",
       "      <td>B3</td>\n",
       "      <td>5879</td>\n",
       "      <td>NaN</td>\n",
       "      <td>NaN</td>\n",
       "      <td>NaN</td>\n",
       "      <td>NaN</td>\n",
       "      <td>NaN</td>\n",
       "      <td>NaN</td>\n",
       "      <td>NaN</td>\n",
       "    </tr>\n",
       "    <tr>\n",
       "      <th>job_experience</th>\n",
       "      <td>88472</td>\n",
       "      <td>3</td>\n",
       "      <td>&lt;5 Years</td>\n",
       "      <td>40610</td>\n",
       "      <td>NaN</td>\n",
       "      <td>NaN</td>\n",
       "      <td>NaN</td>\n",
       "      <td>NaN</td>\n",
       "      <td>NaN</td>\n",
       "      <td>NaN</td>\n",
       "      <td>NaN</td>\n",
       "    </tr>\n",
       "    <tr>\n",
       "      <th>home_ownership</th>\n",
       "      <td>93174</td>\n",
       "      <td>5</td>\n",
       "      <td>MORTGAGE</td>\n",
       "      <td>46445</td>\n",
       "      <td>NaN</td>\n",
       "      <td>NaN</td>\n",
       "      <td>NaN</td>\n",
       "      <td>NaN</td>\n",
       "      <td>NaN</td>\n",
       "      <td>NaN</td>\n",
       "      <td>NaN</td>\n",
       "    </tr>\n",
       "    <tr>\n",
       "      <th>annual_income</th>\n",
       "      <td>93173.000</td>\n",
       "      <td>NaN</td>\n",
       "      <td>NaN</td>\n",
       "      <td>NaN</td>\n",
       "      <td>75028.259</td>\n",
       "      <td>69454.784</td>\n",
       "      <td>1200.000</td>\n",
       "      <td>45000.000</td>\n",
       "      <td>64000.000</td>\n",
       "      <td>90000.000</td>\n",
       "      <td>9500000.000</td>\n",
       "    </tr>\n",
       "    <tr>\n",
       "      <th>income_verification_status</th>\n",
       "      <td>93174</td>\n",
       "      <td>3</td>\n",
       "      <td>Source Verified</td>\n",
       "      <td>34487</td>\n",
       "      <td>NaN</td>\n",
       "      <td>NaN</td>\n",
       "      <td>NaN</td>\n",
       "      <td>NaN</td>\n",
       "      <td>NaN</td>\n",
       "      <td>NaN</td>\n",
       "      <td>NaN</td>\n",
       "    </tr>\n",
       "    <tr>\n",
       "      <th>loan_purpose</th>\n",
       "      <td>93174</td>\n",
       "      <td>4</td>\n",
       "      <td>debt_consolidation</td>\n",
       "      <td>55241</td>\n",
       "      <td>NaN</td>\n",
       "      <td>NaN</td>\n",
       "      <td>NaN</td>\n",
       "      <td>NaN</td>\n",
       "      <td>NaN</td>\n",
       "      <td>NaN</td>\n",
       "      <td>NaN</td>\n",
       "    </tr>\n",
       "    <tr>\n",
       "      <th>state_code</th>\n",
       "      <td>93174</td>\n",
       "      <td>50</td>\n",
       "      <td>CA</td>\n",
       "      <td>13744</td>\n",
       "      <td>NaN</td>\n",
       "      <td>NaN</td>\n",
       "      <td>NaN</td>\n",
       "      <td>NaN</td>\n",
       "      <td>NaN</td>\n",
       "      <td>NaN</td>\n",
       "      <td>NaN</td>\n",
       "    </tr>\n",
       "    <tr>\n",
       "      <th>debt_to_income</th>\n",
       "      <td>93174.000</td>\n",
       "      <td>NaN</td>\n",
       "      <td>NaN</td>\n",
       "      <td>NaN</td>\n",
       "      <td>18.128</td>\n",
       "      <td>8.563</td>\n",
       "      <td>0.000</td>\n",
       "      <td>11.930</td>\n",
       "      <td>17.640</td>\n",
       "      <td>23.890</td>\n",
       "      <td>672.520</td>\n",
       "    </tr>\n",
       "    <tr>\n",
       "      <th>delinq_2yrs</th>\n",
       "      <td>93172.000</td>\n",
       "      <td>NaN</td>\n",
       "      <td>NaN</td>\n",
       "      <td>NaN</td>\n",
       "      <td>0.317</td>\n",
       "      <td>0.881</td>\n",
       "      <td>0.000</td>\n",
       "      <td>0.000</td>\n",
       "      <td>0.000</td>\n",
       "      <td>0.000</td>\n",
       "      <td>22.000</td>\n",
       "    </tr>\n",
       "    <tr>\n",
       "      <th>public_records</th>\n",
       "      <td>93172.000</td>\n",
       "      <td>NaN</td>\n",
       "      <td>NaN</td>\n",
       "      <td>NaN</td>\n",
       "      <td>0.196</td>\n",
       "      <td>0.581</td>\n",
       "      <td>0.000</td>\n",
       "      <td>0.000</td>\n",
       "      <td>0.000</td>\n",
       "      <td>0.000</td>\n",
       "      <td>49.000</td>\n",
       "    </tr>\n",
       "    <tr>\n",
       "      <th>revolving_balance</th>\n",
       "      <td>93174.000</td>\n",
       "      <td>NaN</td>\n",
       "      <td>NaN</td>\n",
       "      <td>NaN</td>\n",
       "      <td>16854.469</td>\n",
       "      <td>23689.074</td>\n",
       "      <td>0.000</td>\n",
       "      <td>6433.000</td>\n",
       "      <td>11856.000</td>\n",
       "      <td>20745.000</td>\n",
       "      <td>2560703.000</td>\n",
       "    </tr>\n",
       "    <tr>\n",
       "      <th>total_acc</th>\n",
       "      <td>93172.000</td>\n",
       "      <td>NaN</td>\n",
       "      <td>NaN</td>\n",
       "      <td>NaN</td>\n",
       "      <td>25.249</td>\n",
       "      <td>11.855</td>\n",
       "      <td>1.000</td>\n",
       "      <td>17.000</td>\n",
       "      <td>24.000</td>\n",
       "      <td>32.000</td>\n",
       "      <td>119.000</td>\n",
       "    </tr>\n",
       "    <tr>\n",
       "      <th>interest_receive</th>\n",
       "      <td>93174.000</td>\n",
       "      <td>NaN</td>\n",
       "      <td>NaN</td>\n",
       "      <td>NaN</td>\n",
       "      <td>1747.264</td>\n",
       "      <td>2088.236</td>\n",
       "      <td>0.000</td>\n",
       "      <td>439.880</td>\n",
       "      <td>1070.755</td>\n",
       "      <td>2219.613</td>\n",
       "      <td>23172.310</td>\n",
       "    </tr>\n",
       "    <tr>\n",
       "      <th>application_type</th>\n",
       "      <td>93174</td>\n",
       "      <td>2</td>\n",
       "      <td>INDIVIDUAL</td>\n",
       "      <td>93118</td>\n",
       "      <td>NaN</td>\n",
       "      <td>NaN</td>\n",
       "      <td>NaN</td>\n",
       "      <td>NaN</td>\n",
       "      <td>NaN</td>\n",
       "      <td>NaN</td>\n",
       "      <td>NaN</td>\n",
       "    </tr>\n",
       "    <tr>\n",
       "      <th>last_week_pay</th>\n",
       "      <td>91250.000</td>\n",
       "      <td>NaN</td>\n",
       "      <td>NaN</td>\n",
       "      <td>NaN</td>\n",
       "      <td>58.155</td>\n",
       "      <td>44.327</td>\n",
       "      <td>0.000</td>\n",
       "      <td>22.000</td>\n",
       "      <td>48.000</td>\n",
       "      <td>83.000</td>\n",
       "      <td>291.000</td>\n",
       "    </tr>\n",
       "    <tr>\n",
       "      <th>total_current_balance</th>\n",
       "      <td>85788.000</td>\n",
       "      <td>NaN</td>\n",
       "      <td>NaN</td>\n",
       "      <td>NaN</td>\n",
       "      <td>139252.923</td>\n",
       "      <td>157686.791</td>\n",
       "      <td>0.000</td>\n",
       "      <td>29642.000</td>\n",
       "      <td>79363.500</td>\n",
       "      <td>207160.000</td>\n",
       "      <td>8000078.000</td>\n",
       "    </tr>\n",
       "    <tr>\n",
       "      <th>total_revolving_limit</th>\n",
       "      <td>85788.000</td>\n",
       "      <td>NaN</td>\n",
       "      <td>NaN</td>\n",
       "      <td>NaN</td>\n",
       "      <td>32085.903</td>\n",
       "      <td>47052.515</td>\n",
       "      <td>0.000</td>\n",
       "      <td>14000.000</td>\n",
       "      <td>23700.000</td>\n",
       "      <td>39700.000</td>\n",
       "      <td>9999999.000</td>\n",
       "    </tr>\n",
       "    <tr>\n",
       "      <th>default</th>\n",
       "      <td>93174.000</td>\n",
       "      <td>NaN</td>\n",
       "      <td>NaN</td>\n",
       "      <td>NaN</td>\n",
       "      <td>0.238</td>\n",
       "      <td>0.426</td>\n",
       "      <td>0.000</td>\n",
       "      <td>0.000</td>\n",
       "      <td>0.000</td>\n",
       "      <td>0.000</td>\n",
       "      <td>1.000</td>\n",
       "    </tr>\n",
       "  </tbody>\n",
       "</table>\n",
       "</div>"
      ],
      "text/plain": [
       "                               count unique                 top   freq  \\\n",
       "ID                         93174.000    NaN                 NaN    NaN   \n",
       "loan_amnt                  93174.000    NaN                 NaN    NaN   \n",
       "loan_term                      93174      2             3 years  65211   \n",
       "interest_rate              93174.000    NaN                 NaN    NaN   \n",
       "loan_grade                     93174      7                   B  26865   \n",
       "loan_subgrade                  93174     35                  B3   5879   \n",
       "job_experience                 88472      3            <5 Years  40610   \n",
       "home_ownership                 93174      5            MORTGAGE  46445   \n",
       "annual_income              93173.000    NaN                 NaN    NaN   \n",
       "income_verification_status     93174      3     Source Verified  34487   \n",
       "loan_purpose                   93174      4  debt_consolidation  55241   \n",
       "state_code                     93174     50                  CA  13744   \n",
       "debt_to_income             93174.000    NaN                 NaN    NaN   \n",
       "delinq_2yrs                93172.000    NaN                 NaN    NaN   \n",
       "public_records             93172.000    NaN                 NaN    NaN   \n",
       "revolving_balance          93174.000    NaN                 NaN    NaN   \n",
       "total_acc                  93172.000    NaN                 NaN    NaN   \n",
       "interest_receive           93174.000    NaN                 NaN    NaN   \n",
       "application_type               93174      2          INDIVIDUAL  93118   \n",
       "last_week_pay              91250.000    NaN                 NaN    NaN   \n",
       "total_current_balance      85788.000    NaN                 NaN    NaN   \n",
       "total_revolving_limit      85788.000    NaN                 NaN    NaN   \n",
       "default                    93174.000    NaN                 NaN    NaN   \n",
       "\n",
       "                                   mean          std       min          25%  \\\n",
       "ID                         35050211.389 24149262.074 70735.000 10859832.500   \n",
       "loan_amnt                     14733.861     8428.185   500.000     8000.000   \n",
       "loan_term                           NaN          NaN       NaN          NaN   \n",
       "interest_rate                    13.233        4.369     5.320        9.990   \n",
       "loan_grade                          NaN          NaN       NaN          NaN   \n",
       "loan_subgrade                       NaN          NaN       NaN          NaN   \n",
       "job_experience                      NaN          NaN       NaN          NaN   \n",
       "home_ownership                      NaN          NaN       NaN          NaN   \n",
       "annual_income                 75028.259    69454.784  1200.000    45000.000   \n",
       "income_verification_status          NaN          NaN       NaN          NaN   \n",
       "loan_purpose                        NaN          NaN       NaN          NaN   \n",
       "state_code                          NaN          NaN       NaN          NaN   \n",
       "debt_to_income                   18.128        8.563     0.000       11.930   \n",
       "delinq_2yrs                       0.317        0.881     0.000        0.000   \n",
       "public_records                    0.196        0.581     0.000        0.000   \n",
       "revolving_balance             16854.469    23689.074     0.000     6433.000   \n",
       "total_acc                        25.249       11.855     1.000       17.000   \n",
       "interest_receive               1747.264     2088.236     0.000      439.880   \n",
       "application_type                    NaN          NaN       NaN          NaN   \n",
       "last_week_pay                    58.155       44.327     0.000       22.000   \n",
       "total_current_balance        139252.923   157686.791     0.000    29642.000   \n",
       "total_revolving_limit         32085.903    47052.515     0.000    14000.000   \n",
       "default                           0.238        0.426     0.000        0.000   \n",
       "\n",
       "                                    50%          75%          max  \n",
       "ID                         37107507.000 58598949.500 73519746.000  \n",
       "loan_amnt                     13000.000    20000.000    35000.000  \n",
       "loan_term                           NaN          NaN          NaN  \n",
       "interest_rate                    12.990       16.200       28.990  \n",
       "loan_grade                          NaN          NaN          NaN  \n",
       "loan_subgrade                       NaN          NaN          NaN  \n",
       "job_experience                      NaN          NaN          NaN  \n",
       "home_ownership                      NaN          NaN          NaN  \n",
       "annual_income                 64000.000    90000.000  9500000.000  \n",
       "income_verification_status          NaN          NaN          NaN  \n",
       "loan_purpose                        NaN          NaN          NaN  \n",
       "state_code                          NaN          NaN          NaN  \n",
       "debt_to_income                   17.640       23.890      672.520  \n",
       "delinq_2yrs                       0.000        0.000       22.000  \n",
       "public_records                    0.000        0.000       49.000  \n",
       "revolving_balance             11856.000    20745.000  2560703.000  \n",
       "total_acc                        24.000       32.000      119.000  \n",
       "interest_receive               1070.755     2219.613    23172.310  \n",
       "application_type                    NaN          NaN          NaN  \n",
       "last_week_pay                    48.000       83.000      291.000  \n",
       "total_current_balance         79363.500   207160.000  8000078.000  \n",
       "total_revolving_limit         23700.000    39700.000  9999999.000  \n",
       "default                           0.000        0.000        1.000  "
      ]
     },
     "execution_count": 13,
     "metadata": {},
     "output_type": "execute_result"
    },
    {
     "data": {
      "application/javascript": [
       "\n",
       "            setTimeout(function() {\n",
       "                var nbb_cell_id = 13;\n",
       "                var nbb_unformatted_code = \"train.describe(include='all').T\";\n",
       "                var nbb_formatted_code = \"train.describe(include=\\\"all\\\").T\";\n",
       "                var nbb_cells = Jupyter.notebook.get_cells();\n",
       "                for (var i = 0; i < nbb_cells.length; ++i) {\n",
       "                    if (nbb_cells[i].input_prompt_number == nbb_cell_id) {\n",
       "                        if (nbb_cells[i].get_text() == nbb_unformatted_code) {\n",
       "                             nbb_cells[i].set_text(nbb_formatted_code);\n",
       "                        }\n",
       "                        break;\n",
       "                    }\n",
       "                }\n",
       "            }, 500);\n",
       "            "
      ],
      "text/plain": [
       "<IPython.core.display.Javascript object>"
      ]
     },
     "metadata": {},
     "output_type": "display_data"
    }
   ],
   "source": [
    "train.describe(include=\"all\").T"
   ]
  },
  {
   "cell_type": "code",
   "execution_count": 14,
   "id": "aa18f7e5",
   "metadata": {},
   "outputs": [
    {
     "name": "stdout",
     "output_type": "stream",
     "text": [
      "3 years    65211\n",
      "5 years    27963\n",
      "Name: loan_term, dtype: int64\n",
      "\n",
      "\n",
      "B    26865\n",
      "C    25787\n",
      "A    15534\n",
      "D    14715\n",
      "E     7378\n",
      "F     2344\n",
      "G      551\n",
      "Name: loan_grade, dtype: int64\n",
      "\n",
      "\n",
      "B3    5879\n",
      "B4    5879\n",
      "C2    5479\n",
      "C1    5443\n",
      "C3    5270\n",
      "C4    5182\n",
      "B2    5169\n",
      "B5    5095\n",
      "B1    4843\n",
      "A5    4723\n",
      "C5    4413\n",
      "D1    3716\n",
      "A4    3631\n",
      "D2    3239\n",
      "D3    2759\n",
      "D4    2717\n",
      "A3    2450\n",
      "A1    2377\n",
      "A2    2353\n",
      "D5    2284\n",
      "E1    1924\n",
      "E2    1736\n",
      "E3    1513\n",
      "E4    1228\n",
      "E5     977\n",
      "F1     745\n",
      "F2     545\n",
      "F3     465\n",
      "F4     355\n",
      "F5     234\n",
      "G1     174\n",
      "G2     146\n",
      "G3     105\n",
      "G5      66\n",
      "G4      60\n",
      "Name: loan_subgrade, dtype: int64\n",
      "\n",
      "\n",
      "<5 Years      40610\n",
      "10+ years     30362\n",
      "6-10 years    17500\n",
      "NaN            4702\n",
      "Name: job_experience, dtype: int64\n",
      "\n",
      "\n",
      "MORTGAGE    46445\n",
      "RENT        37449\n",
      "OWN          9254\n",
      "OTHER          18\n",
      "NONE            8\n",
      "Name: home_ownership, dtype: int64\n",
      "\n",
      "\n",
      "Source Verified    34487\n",
      "Verified           30450\n",
      "Not Verified       28237\n",
      "Name: income_verification_status, dtype: int64\n",
      "\n",
      "\n",
      "debt_consolidation    55241\n",
      "credit_card           21571\n",
      "other                 10971\n",
      "home_improvement       5391\n",
      "Name: loan_purpose, dtype: int64\n",
      "\n",
      "\n",
      "CA    13744\n",
      "NY     7782\n",
      "TX     7467\n",
      "FL     6360\n",
      "IL     3699\n",
      "NJ     3464\n",
      "PA     3321\n",
      "OH     3104\n",
      "GA     2998\n",
      "VA     2793\n",
      "NC     2669\n",
      "MI     2415\n",
      "MD     2279\n",
      "MA     2232\n",
      "AZ     2115\n",
      "WA     2038\n",
      "CO     1924\n",
      "MN     1638\n",
      "MO     1485\n",
      "IN     1420\n",
      "CT     1402\n",
      "TN     1365\n",
      "NV     1326\n",
      "WI     1206\n",
      "AL     1188\n",
      "LA     1112\n",
      "SC     1108\n",
      "OR     1102\n",
      "KY      933\n",
      "OK      851\n",
      "KS      800\n",
      "AR      694\n",
      "UT      658\n",
      "NM      507\n",
      "WV      460\n",
      "HI      451\n",
      "NH      447\n",
      "RI      412\n",
      "MS      389\n",
      "DC      271\n",
      "MT      253\n",
      "DE      246\n",
      "AK      231\n",
      "WY      212\n",
      "SD      198\n",
      "VT      174\n",
      "NE      126\n",
      "ME       59\n",
      "ND       45\n",
      "ID        1\n",
      "Name: state_code, dtype: int64\n",
      "\n",
      "\n",
      "INDIVIDUAL    93118\n",
      "JOINT            56\n",
      "Name: application_type, dtype: int64\n",
      "\n",
      "\n"
     ]
    },
    {
     "data": {
      "application/javascript": [
       "\n",
       "            setTimeout(function() {\n",
       "                var nbb_cell_id = 14;\n",
       "                var nbb_unformatted_code = \"# Look at all the objects and their unique values (discrete variables)\\n\\nnum_to_display = 50\\nfor colname in train.dtypes[train.dtypes == 'object'].index:\\n    val_counts = train[colname].value_counts(dropna=False)\\n    print(val_counts[:num_to_display])\\n    if len(val_counts) > num_to_display:\\n        print(f'Only displaying first {num_to_display} of {len(val_counts)} values.')\\n    print('\\\\n')\";\n",
       "                var nbb_formatted_code = \"# Look at all the objects and their unique values (discrete variables)\\n\\nnum_to_display = 50\\nfor colname in train.dtypes[train.dtypes == \\\"object\\\"].index:\\n    val_counts = train[colname].value_counts(dropna=False)\\n    print(val_counts[:num_to_display])\\n    if len(val_counts) > num_to_display:\\n        print(f\\\"Only displaying first {num_to_display} of {len(val_counts)} values.\\\")\\n    print(\\\"\\\\n\\\")\";\n",
       "                var nbb_cells = Jupyter.notebook.get_cells();\n",
       "                for (var i = 0; i < nbb_cells.length; ++i) {\n",
       "                    if (nbb_cells[i].input_prompt_number == nbb_cell_id) {\n",
       "                        if (nbb_cells[i].get_text() == nbb_unformatted_code) {\n",
       "                             nbb_cells[i].set_text(nbb_formatted_code);\n",
       "                        }\n",
       "                        break;\n",
       "                    }\n",
       "                }\n",
       "            }, 500);\n",
       "            "
      ],
      "text/plain": [
       "<IPython.core.display.Javascript object>"
      ]
     },
     "metadata": {},
     "output_type": "display_data"
    }
   ],
   "source": [
    "# Look at all the objects and their unique values (discrete variables)\n",
    "\n",
    "num_to_display = 50\n",
    "for colname in train.dtypes[train.dtypes == \"object\"].index:\n",
    "    val_counts = train[colname].value_counts(dropna=False)\n",
    "    print(val_counts[:num_to_display])\n",
    "    if len(val_counts) > num_to_display:\n",
    "        print(f\"Only displaying first {num_to_display} of {len(val_counts)} values.\")\n",
    "    print(\"\\n\")"
   ]
  },
  {
   "cell_type": "code",
   "execution_count": 15,
   "id": "89588712",
   "metadata": {},
   "outputs": [
    {
     "name": "stdout",
     "output_type": "stream",
     "text": [
      "37107507.0\n"
     ]
    },
    {
     "data": {
      "image/png": "[encoded data removed]",
      "text/plain": [
       "<Figure size 432x288 with 1 Axes>"
      ]
     },
     "metadata": {
      "needs_background": "light"
     },
     "output_type": "display_data"
    },
    {
     "name": "stdout",
     "output_type": "stream",
     "text": [
      "13000.0\n"
     ]
    },
    {
     "data": {
      "image/png": "[encoded data removed]",
      "text/plain": [
       "<Figure size 432x288 with 1 Axes>"
      ]
     },
     "metadata": {
      "needs_background": "light"
     },
     "output_type": "display_data"
    },
    {
     "name": "stdout",
     "output_type": "stream",
     "text": [
      "12.99\n"
     ]
    },
    {
     "data": {
      "image/png": "[encoded data removed]",
      "text/plain": [
       "<Figure size 432x288 with 1 Axes>"
      ]
     },
     "metadata": {
      "needs_background": "light"
     },
     "output_type": "display_data"
    },
    {
     "name": "stdout",
     "output_type": "stream",
     "text": [
      "64000.0\n"
     ]
    },
    {
     "data": {
      "image/png": "[encoded data removed]",
      "text/plain": [
       "<Figure size 432x288 with 1 Axes>"
      ]
     },
     "metadata": {
      "needs_background": "light"
     },
     "output_type": "display_data"
    },
    {
     "name": "stdout",
     "output_type": "stream",
     "text": [
      "17.64\n"
     ]
    },
    {
     "data": {
      "image/png": "[encoded data removed]",
      "text/plain": [
       "<Figure size 432x288 with 1 Axes>"
      ]
     },
     "metadata": {
      "needs_background": "light"
     },
     "output_type": "display_data"
    },
    {
     "name": "stdout",
     "output_type": "stream",
     "text": [
      "0.0\n"
     ]
    },
    {
     "data": {
      "image/png": "[encoded data removed]",
      "text/plain": [
       "<Figure size 432x288 with 1 Axes>"
      ]
     },
     "metadata": {
      "needs_background": "light"
     },
     "output_type": "display_data"
    },
    {
     "name": "stdout",
     "output_type": "stream",
     "text": [
      "0.0\n"
     ]
    },
    {
     "data": {
      "image/png": "[encoded data removed]",
      "text/plain": [
       "<Figure size 432x288 with 1 Axes>"
      ]
     },
     "metadata": {
      "needs_background": "light"
     },
     "output_type": "display_data"
    },
    {
     "name": "stdout",
     "output_type": "stream",
     "text": [
      "11856.0\n"
     ]
    },
    {
     "data": {
      "image/png": "[encoded data removed]",
      "text/plain": [
       "<Figure size 432x288 with 1 Axes>"
      ]
     },
     "metadata": {
      "needs_background": "light"
     },
     "output_type": "display_data"
    },
    {
     "name": "stdout",
     "output_type": "stream",
     "text": [
      "24.0\n"
     ]
    },
    {
     "data": {
      "image/png": "[encoded data removed]",
      "text/plain": [
       "<Figure size 432x288 with 1 Axes>"
      ]
     },
     "metadata": {
      "needs_background": "light"
     },
     "output_type": "display_data"
    },
    {
     "name": "stdout",
     "output_type": "stream",
     "text": [
      "1070.755\n"
     ]
    },
    {
     "data": {
      "image/png": "[encoded data removed]",
      "text/plain": [
       "<Figure size 432x288 with 1 Axes>"
      ]
     },
     "metadata": {
      "needs_background": "light"
     },
     "output_type": "display_data"
    },
    {
     "name": "stdout",
     "output_type": "stream",
     "text": [
      "48.0\n"
     ]
    },
    {
     "data": {
      "image/png": "[encoded data removed]",
      "text/plain": [
       "<Figure size 432x288 with 1 Axes>"
      ]
     },
     "metadata": {
      "needs_background": "light"
     },
     "output_type": "display_data"
    },
    {
     "name": "stdout",
     "output_type": "stream",
     "text": [
      "79363.5\n"
     ]
    },
    {
     "data": {
      "image/png": "[encoded data removed]",
      "text/plain": [
       "<Figure size 432x288 with 1 Axes>"
      ]
     },
     "metadata": {
      "needs_background": "light"
     },
     "output_type": "display_data"
    },
    {
     "name": "stdout",
     "output_type": "stream",
     "text": [
      "23700.0\n"
     ]
    },
    {
     "data": {
      "image/png": "[encoded data removed]",
      "text/plain": [
       "<Figure size 432x288 with 1 Axes>"
      ]
     },
     "metadata": {
      "needs_background": "light"
     },
     "output_type": "display_data"
    },
    {
     "name": "stdout",
     "output_type": "stream",
     "text": [
      "0.0\n"
     ]
    },
    {
     "data": {
      "image/png": "[encoded data removed]",
      "text/plain": [
       "<Figure size 432x288 with 1 Axes>"
      ]
     },
     "metadata": {
      "needs_background": "light"
     },
     "output_type": "display_data"
    },
    {
     "data": {
      "application/javascript": [
       "\n",
       "            setTimeout(function() {\n",
       "                var nbb_cell_id = 15;\n",
       "                var nbb_unformatted_code = \"# Look at a histogram of each numeric variable, print median\\nfor i in train_set.select_dtypes([\\\"number\\\"]).columns:\\n    print(train_set[i].median())\\n    sns.histplot(data=train_set, x=i, hue=\\\"default\\\", multiple=\\\"stack\\\")\\n    plt.show()\";\n",
       "                var nbb_formatted_code = \"# Look at a histogram of each numeric variable, print median\\nfor i in train_set.select_dtypes([\\\"number\\\"]).columns:\\n    print(train_set[i].median())\\n    sns.histplot(data=train_set, x=i, hue=\\\"default\\\", multiple=\\\"stack\\\")\\n    plt.show()\";\n",
       "                var nbb_cells = Jupyter.notebook.get_cells();\n",
       "                for (var i = 0; i < nbb_cells.length; ++i) {\n",
       "                    if (nbb_cells[i].input_prompt_number == nbb_cell_id) {\n",
       "                        if (nbb_cells[i].get_text() == nbb_unformatted_code) {\n",
       "                             nbb_cells[i].set_text(nbb_formatted_code);\n",
       "                        }\n",
       "                        break;\n",
       "                    }\n",
       "                }\n",
       "            }, 500);\n",
       "            "
      ],
      "text/plain": [
       "<IPython.core.display.Javascript object>"
      ]
     },
     "metadata": {},
     "output_type": "display_data"
    }
   ],
   "source": [
    "# Look at a histogram of each numeric variable, print median\n",
    "for i in train_set.select_dtypes([\"number\"]).columns:\n",
    "    print(train_set[i].median())\n",
    "    sns.histplot(data=train_set, x=i, hue=\"default\", multiple=\"stack\")\n",
    "    plt.show()"
   ]
  },
  {
   "cell_type": "code",
   "execution_count": 16,
   "id": "0b956105",
   "metadata": {
    "scrolled": false
   },
   "outputs": [
    {
     "name": "stdout",
     "output_type": "stream",
     "text": [
      "73519746\n"
     ]
    },
    {
     "data": {
      "image/png": "[encoded data removed]",
      "text/plain": [
       "<Figure size 432x288 with 1 Axes>"
      ]
     },
     "metadata": {
      "needs_background": "light"
     },
     "output_type": "display_data"
    },
    {
     "name": "stdout",
     "output_type": "stream",
     "text": [
      "35000\n"
     ]
    },
    {
     "data": {
      "image/png": "[encoded data removed]",
      "text/plain": [
       "<Figure size 432x288 with 1 Axes>"
      ]
     },
     "metadata": {
      "needs_background": "light"
     },
     "output_type": "display_data"
    },
    {
     "name": "stdout",
     "output_type": "stream",
     "text": [
      "28.99\n"
     ]
    },
    {
     "data": {
      "image/png": "[encoded data removed]",
      "text/plain": [
       "<Figure size 432x288 with 1 Axes>"
      ]
     },
     "metadata": {
      "needs_background": "light"
     },
     "output_type": "display_data"
    },
    {
     "name": "stdout",
     "output_type": "stream",
     "text": [
      "9500000.0\n"
     ]
    },
    {
     "data": {
      "image/png": "[encoded data removed]",
      "text/plain": [
       "<Figure size 432x288 with 1 Axes>"
      ]
     },
     "metadata": {
      "needs_background": "light"
     },
     "output_type": "display_data"
    },
    {
     "name": "stdout",
     "output_type": "stream",
     "text": [
      "672.52\n"
     ]
    },
    {
     "data": {
      "image/png": "[encoded data removed]",
      "text/plain": [
       "<Figure size 432x288 with 1 Axes>"
      ]
     },
     "metadata": {
      "needs_background": "light"
     },
     "output_type": "display_data"
    },
    {
     "name": "stdout",
     "output_type": "stream",
     "text": [
      "22.0\n"
     ]
    },
    {
     "data": {
      "image/png": "[encoded data removed]",
      "text/plain": [
       "<Figure size 432x288 with 1 Axes>"
      ]
     },
     "metadata": {
      "needs_background": "light"
     },
     "output_type": "display_data"
    },
    {
     "name": "stdout",
     "output_type": "stream",
     "text": [
      "49.0\n"
     ]
    },
    {
     "data": {
      "image/png": "[encoded data removed]",
      "text/plain": [
       "<Figure size 432x288 with 1 Axes>"
      ]
     },
     "metadata": {
      "needs_background": "light"
     },
     "output_type": "display_data"
    },
    {
     "name": "stdout",
     "output_type": "stream",
     "text": [
      "2560703\n"
     ]
    },
    {
     "data": {
      "image/png": "[encoded data removed]",
      "text/plain": [
       "<Figure size 432x288 with 1 Axes>"
      ]
     },
     "metadata": {
      "needs_background": "light"
     },
     "output_type": "display_data"
    },
    {
     "name": "stdout",
     "output_type": "stream",
     "text": [
      "119.0\n"
     ]
    },
    {
     "data": {
      "image/png": "[encoded data removed]",
      "text/plain": [
       "<Figure size 432x288 with 1 Axes>"
      ]
     },
     "metadata": {
      "needs_background": "light"
     },
     "output_type": "display_data"
    },
    {
     "name": "stdout",
     "output_type": "stream",
     "text": [
      "23172.31\n"
     ]
    },
    {
     "data": {
      "image/png": "[encoded data removed]",
      "text/plain": [
       "<Figure size 432x288 with 1 Axes>"
      ]
     },
     "metadata": {
      "needs_background": "light"
     },
     "output_type": "display_data"
    },
    {
     "name": "stdout",
     "output_type": "stream",
     "text": [
      "291.0\n"
     ]
    },
    {
     "data": {
      "image/png": "[encoded data removed]",
      "text/plain": [
       "<Figure size 432x288 with 1 Axes>"
      ]
     },
     "metadata": {
      "needs_background": "light"
     },
     "output_type": "display_data"
    },
    {
     "name": "stdout",
     "output_type": "stream",
     "text": [
      "8000078.0\n"
     ]
    },
    {
     "data": {
      "image/png": "[encoded data removed]",
      "text/plain": [
       "<Figure size 432x288 with 1 Axes>"
      ]
     },
     "metadata": {
      "needs_background": "light"
     },
     "output_type": "display_data"
    },
    {
     "name": "stdout",
     "output_type": "stream",
     "text": [
      "9999999.0\n"
     ]
    },
    {
     "data": {
      "image/png": "[encoded data removed]",
      "text/plain": [
       "<Figure size 432x288 with 1 Axes>"
      ]
     },
     "metadata": {
      "needs_background": "light"
     },
     "output_type": "display_data"
    },
    {
     "name": "stdout",
     "output_type": "stream",
     "text": [
      "1\n"
     ]
    },
    {
     "data": {
      "image/png": "[encoded data removed]",
      "text/plain": [
       "<Figure size 432x288 with 1 Axes>"
      ]
     },
     "metadata": {
      "needs_background": "light"
     },
     "output_type": "display_data"
    },
    {
     "data": {
      "application/javascript": [
       "\n",
       "            setTimeout(function() {\n",
       "                var nbb_cell_id = 16;\n",
       "                var nbb_unformatted_code = \"# Look at a boxplot of each numeric variable to see outliers\\nfor i in train.select_dtypes(['number']).columns:\\n    print(train[i].max())\\n    sns.boxplot(data=train, x=i)\\n    plt.show()\";\n",
       "                var nbb_formatted_code = \"# Look at a boxplot of each numeric variable to see outliers\\nfor i in train.select_dtypes([\\\"number\\\"]).columns:\\n    print(train[i].max())\\n    sns.boxplot(data=train, x=i)\\n    plt.show()\";\n",
       "                var nbb_cells = Jupyter.notebook.get_cells();\n",
       "                for (var i = 0; i < nbb_cells.length; ++i) {\n",
       "                    if (nbb_cells[i].input_prompt_number == nbb_cell_id) {\n",
       "                        if (nbb_cells[i].get_text() == nbb_unformatted_code) {\n",
       "                             nbb_cells[i].set_text(nbb_formatted_code);\n",
       "                        }\n",
       "                        break;\n",
       "                    }\n",
       "                }\n",
       "            }, 500);\n",
       "            "
      ],
      "text/plain": [
       "<IPython.core.display.Javascript object>"
      ]
     },
     "metadata": {},
     "output_type": "display_data"
    }
   ],
   "source": [
    "# Look at a boxplot of each numeric variable to see outliers\n",
    "for i in train.select_dtypes([\"number\"]).columns:\n",
    "    print(train[i].max())\n",
    "    sns.boxplot(data=train, x=i)\n",
    "    plt.show()"
   ]
  },
  {
   "cell_type": "markdown",
   "id": "3906d9dc",
   "metadata": {},
   "source": [
    "# Next Steps\n",
    "\n",
    "Convert objects to numbers.\n",
    "\n",
    "Split the features and targets into X and y and create a validation set.\n",
    "\n",
    "Missing values will be imputed to median\n",
    "\n",
    "Outliers will be left alone for now.\n"
   ]
  },
  {
   "cell_type": "code",
   "execution_count": 17,
   "id": "869b27b7",
   "metadata": {},
   "outputs": [
    {
     "data": {
      "application/javascript": [
       "\n",
       "            setTimeout(function() {\n",
       "                var nbb_cell_id = 17;\n",
       "                var nbb_unformatted_code = \"# Convert loan_term to number type\\ntrain[\\\"loan_term\\\"] = train[\\\"loan_term\\\"].str.extract(\\\"(\\\\d+)\\\").astype(\\\"int64\\\")\\ntest[\\\"loan_term\\\"] = test[\\\"loan_term\\\"].str.extract(\\\"(\\\\d+)\\\").astype(\\\"int64\\\")\";\n",
       "                var nbb_formatted_code = \"# Convert loan_term to number type\\ntrain[\\\"loan_term\\\"] = train[\\\"loan_term\\\"].str.extract(\\\"(\\\\d+)\\\").astype(\\\"int64\\\")\\ntest[\\\"loan_term\\\"] = test[\\\"loan_term\\\"].str.extract(\\\"(\\\\d+)\\\").astype(\\\"int64\\\")\";\n",
       "                var nbb_cells = Jupyter.notebook.get_cells();\n",
       "                for (var i = 0; i < nbb_cells.length; ++i) {\n",
       "                    if (nbb_cells[i].input_prompt_number == nbb_cell_id) {\n",
       "                        if (nbb_cells[i].get_text() == nbb_unformatted_code) {\n",
       "                             nbb_cells[i].set_text(nbb_formatted_code);\n",
       "                        }\n",
       "                        break;\n",
       "                    }\n",
       "                }\n",
       "            }, 500);\n",
       "            "
      ],
      "text/plain": [
       "<IPython.core.display.Javascript object>"
      ]
     },
     "metadata": {},
     "output_type": "display_data"
    }
   ],
   "source": [
    "# Convert loan_term to number type\n",
    "train[\"loan_term\"] = train[\"loan_term\"].str.extract(\"(\\d+)\").astype(\"int64\")\n",
    "test[\"loan_term\"] = test[\"loan_term\"].str.extract(\"(\\d+)\").astype(\"int64\")"
   ]
  },
  {
   "cell_type": "code",
   "execution_count": 18,
   "id": "697b2733",
   "metadata": {},
   "outputs": [
    {
     "data": {
      "application/javascript": [
       "\n",
       "            setTimeout(function() {\n",
       "                var nbb_cell_id = 18;\n",
       "                var nbb_unformatted_code = \"# Drop loan_grade\\ntrain = train.drop([\\\"loan_grade\\\"], axis=1)\\ntest = test.drop([\\\"loan_grade\\\"], axis=1)\";\n",
       "                var nbb_formatted_code = \"# Drop loan_grade\\ntrain = train.drop([\\\"loan_grade\\\"], axis=1)\\ntest = test.drop([\\\"loan_grade\\\"], axis=1)\";\n",
       "                var nbb_cells = Jupyter.notebook.get_cells();\n",
       "                for (var i = 0; i < nbb_cells.length; ++i) {\n",
       "                    if (nbb_cells[i].input_prompt_number == nbb_cell_id) {\n",
       "                        if (nbb_cells[i].get_text() == nbb_unformatted_code) {\n",
       "                             nbb_cells[i].set_text(nbb_formatted_code);\n",
       "                        }\n",
       "                        break;\n",
       "                    }\n",
       "                }\n",
       "            }, 500);\n",
       "            "
      ],
      "text/plain": [
       "<IPython.core.display.Javascript object>"
      ]
     },
     "metadata": {},
     "output_type": "display_data"
    }
   ],
   "source": [
    "# Drop loan_grade\n",
    "train = train.drop([\"loan_grade\"], axis=1)\n",
    "test = test.drop([\"loan_grade\"], axis=1)"
   ]
  },
  {
   "cell_type": "code",
   "execution_count": 19,
   "id": "3274a064",
   "metadata": {},
   "outputs": [
    {
     "data": {
      "application/javascript": [
       "\n",
       "            setTimeout(function() {\n",
       "                var nbb_cell_id = 19;\n",
       "                var nbb_unformatted_code = \"# Convert loan_subgrade to number type\\ngradevalues = {\\n    \\\"A1\\\": 10.0,\\n    \\\"A2\\\": 9.9,\\n    \\\"A3\\\": 9.8,\\n    \\\"A4\\\": 9.7,\\n    \\\"A5\\\": 9.6,\\n    \\\"B1\\\": 9.0,\\n    \\\"B2\\\": 8.9,\\n    \\\"B3\\\": 8.8,\\n    \\\"B4\\\": 8.7,\\n    \\\"B5\\\": 8.6,\\n    \\\"C1\\\": 8.0,\\n    \\\"C2\\\": 7.9,\\n    \\\"C3\\\": 7.8,\\n    \\\"C4\\\": 7.7,\\n    \\\"C5\\\": 7.6,\\n    \\\"D1\\\": 7.0,\\n    \\\"D2\\\": 6.9,\\n    \\\"D3\\\": 6.8,\\n    \\\"D4\\\": 6.7,\\n    \\\"D5\\\": 6.6,\\n    \\\"E1\\\": 6.0,\\n    \\\"E2\\\": 5.9,\\n    \\\"E3\\\": 5.8,\\n    \\\"E4\\\": 5.7,\\n    \\\"E5\\\": 5.6,\\n    \\\"F1\\\": 5.0,\\n    \\\"F2\\\": 4.9,\\n    \\\"F3\\\": 4.8,\\n    \\\"F4\\\": 4.7,\\n    \\\"F5\\\": 4.6,\\n    \\\"G1\\\": 4.0,\\n    \\\"G2\\\": 3.9,\\n    \\\"G3\\\": 3.8,\\n    \\\"G4\\\": 3.7,\\n    \\\"G5\\\": 3.6,\\n}\\n\\ntrain.replace({\\\"loan_subgrade\\\": gradevalues}, inplace=True)\\ntrain[\\\"loan_subgrade\\\"] = train[\\\"loan_subgrade\\\"].astype(\\\"float64\\\")\\n\\ntest.replace({\\\"loan_subgrade\\\": gradevalues}, inplace=True)\\ntest[\\\"loan_subgrade\\\"] = test[\\\"loan_subgrade\\\"].astype(\\\"float64\\\")\";\n",
       "                var nbb_formatted_code = \"# Convert loan_subgrade to number type\\ngradevalues = {\\n    \\\"A1\\\": 10.0,\\n    \\\"A2\\\": 9.9,\\n    \\\"A3\\\": 9.8,\\n    \\\"A4\\\": 9.7,\\n    \\\"A5\\\": 9.6,\\n    \\\"B1\\\": 9.0,\\n    \\\"B2\\\": 8.9,\\n    \\\"B3\\\": 8.8,\\n    \\\"B4\\\": 8.7,\\n    \\\"B5\\\": 8.6,\\n    \\\"C1\\\": 8.0,\\n    \\\"C2\\\": 7.9,\\n    \\\"C3\\\": 7.8,\\n    \\\"C4\\\": 7.7,\\n    \\\"C5\\\": 7.6,\\n    \\\"D1\\\": 7.0,\\n    \\\"D2\\\": 6.9,\\n    \\\"D3\\\": 6.8,\\n    \\\"D4\\\": 6.7,\\n    \\\"D5\\\": 6.6,\\n    \\\"E1\\\": 6.0,\\n    \\\"E2\\\": 5.9,\\n    \\\"E3\\\": 5.8,\\n    \\\"E4\\\": 5.7,\\n    \\\"E5\\\": 5.6,\\n    \\\"F1\\\": 5.0,\\n    \\\"F2\\\": 4.9,\\n    \\\"F3\\\": 4.8,\\n    \\\"F4\\\": 4.7,\\n    \\\"F5\\\": 4.6,\\n    \\\"G1\\\": 4.0,\\n    \\\"G2\\\": 3.9,\\n    \\\"G3\\\": 3.8,\\n    \\\"G4\\\": 3.7,\\n    \\\"G5\\\": 3.6,\\n}\\n\\ntrain.replace({\\\"loan_subgrade\\\": gradevalues}, inplace=True)\\ntrain[\\\"loan_subgrade\\\"] = train[\\\"loan_subgrade\\\"].astype(\\\"float64\\\")\\n\\ntest.replace({\\\"loan_subgrade\\\": gradevalues}, inplace=True)\\ntest[\\\"loan_subgrade\\\"] = test[\\\"loan_subgrade\\\"].astype(\\\"float64\\\")\";\n",
       "                var nbb_cells = Jupyter.notebook.get_cells();\n",
       "                for (var i = 0; i < nbb_cells.length; ++i) {\n",
       "                    if (nbb_cells[i].input_prompt_number == nbb_cell_id) {\n",
       "                        if (nbb_cells[i].get_text() == nbb_unformatted_code) {\n",
       "                             nbb_cells[i].set_text(nbb_formatted_code);\n",
       "                        }\n",
       "                        break;\n",
       "                    }\n",
       "                }\n",
       "            }, 500);\n",
       "            "
      ],
      "text/plain": [
       "<IPython.core.display.Javascript object>"
      ]
     },
     "metadata": {},
     "output_type": "display_data"
    }
   ],
   "source": [
    "# Convert loan_subgrade to number type\n",
    "gradevalues = {\n",
    "    \"A1\": 10.0,\n",
    "    \"A2\": 9.9,\n",
    "    \"A3\": 9.8,\n",
    "    \"A4\": 9.7,\n",
    "    \"A5\": 9.6,\n",
    "    \"B1\": 9.0,\n",
    "    \"B2\": 8.9,\n",
    "    \"B3\": 8.8,\n",
    "    \"B4\": 8.7,\n",
    "    \"B5\": 8.6,\n",
    "    \"C1\": 8.0,\n",
    "    \"C2\": 7.9,\n",
    "    \"C3\": 7.8,\n",
    "    \"C4\": 7.7,\n",
    "    \"C5\": 7.6,\n",
    "    \"D1\": 7.0,\n",
    "    \"D2\": 6.9,\n",
    "    \"D3\": 6.8,\n",
    "    \"D4\": 6.7,\n",
    "    \"D5\": 6.6,\n",
    "    \"E1\": 6.0,\n",
    "    \"E2\": 5.9,\n",
    "    \"E3\": 5.8,\n",
    "    \"E4\": 5.7,\n",
    "    \"E5\": 5.6,\n",
    "    \"F1\": 5.0,\n",
    "    \"F2\": 4.9,\n",
    "    \"F3\": 4.8,\n",
    "    \"F4\": 4.7,\n",
    "    \"F5\": 4.6,\n",
    "    \"G1\": 4.0,\n",
    "    \"G2\": 3.9,\n",
    "    \"G3\": 3.8,\n",
    "    \"G4\": 3.7,\n",
    "    \"G5\": 3.6,\n",
    "}\n",
    "\n",
    "train.replace({\"loan_subgrade\": gradevalues}, inplace=True)\n",
    "train[\"loan_subgrade\"] = train[\"loan_subgrade\"].astype(\"float64\")\n",
    "\n",
    "test.replace({\"loan_subgrade\": gradevalues}, inplace=True)\n",
    "test[\"loan_subgrade\"] = test[\"loan_subgrade\"].astype(\"float64\")"
   ]
  },
  {
   "cell_type": "code",
   "execution_count": 20,
   "id": "ecb1577f",
   "metadata": {},
   "outputs": [
    {
     "data": {
      "application/javascript": [
       "\n",
       "            setTimeout(function() {\n",
       "                var nbb_cell_id = 20;\n",
       "                var nbb_unformatted_code = \"# Fix job_experience\\n\\nexpvalues = {\\n    \\\"<5 Years\\\": 1,\\n    \\\"6-10 years\\\": 2,\\n    \\\"10+ years\\\": 3,\\n    np.nan: 0,\\n}\\n\\ntrain.replace({\\\"job_experience\\\": expvalues}, inplace=True)\\ntrain[\\\"job_experience\\\"] = train[\\\"job_experience\\\"].astype(\\\"int64\\\")\\n\\ntest.replace({\\\"job_experience\\\": expvalues}, inplace=True)\\ntest[\\\"job_experience\\\"] = test[\\\"job_experience\\\"].astype(\\\"int64\\\")\";\n",
       "                var nbb_formatted_code = \"# Fix job_experience\\n\\nexpvalues = {\\n    \\\"<5 Years\\\": 1,\\n    \\\"6-10 years\\\": 2,\\n    \\\"10+ years\\\": 3,\\n    np.nan: 0,\\n}\\n\\ntrain.replace({\\\"job_experience\\\": expvalues}, inplace=True)\\ntrain[\\\"job_experience\\\"] = train[\\\"job_experience\\\"].astype(\\\"int64\\\")\\n\\ntest.replace({\\\"job_experience\\\": expvalues}, inplace=True)\\ntest[\\\"job_experience\\\"] = test[\\\"job_experience\\\"].astype(\\\"int64\\\")\";\n",
       "                var nbb_cells = Jupyter.notebook.get_cells();\n",
       "                for (var i = 0; i < nbb_cells.length; ++i) {\n",
       "                    if (nbb_cells[i].input_prompt_number == nbb_cell_id) {\n",
       "                        if (nbb_cells[i].get_text() == nbb_unformatted_code) {\n",
       "                             nbb_cells[i].set_text(nbb_formatted_code);\n",
       "                        }\n",
       "                        break;\n",
       "                    }\n",
       "                }\n",
       "            }, 500);\n",
       "            "
      ],
      "text/plain": [
       "<IPython.core.display.Javascript object>"
      ]
     },
     "metadata": {},
     "output_type": "display_data"
    }
   ],
   "source": [
    "# Fix job_experience\n",
    "\n",
    "expvalues = {\n",
    "    \"<5 Years\": 1,\n",
    "    \"6-10 years\": 2,\n",
    "    \"10+ years\": 3,\n",
    "    np.nan: 0,\n",
    "}\n",
    "\n",
    "train.replace({\"job_experience\": expvalues}, inplace=True)\n",
    "train[\"job_experience\"] = train[\"job_experience\"].astype(\"int64\")\n",
    "\n",
    "test.replace({\"job_experience\": expvalues}, inplace=True)\n",
    "test[\"job_experience\"] = test[\"job_experience\"].astype(\"int64\")"
   ]
  },
  {
   "cell_type": "code",
   "execution_count": 21,
   "id": "e9475291",
   "metadata": {},
   "outputs": [
    {
     "data": {
      "application/javascript": [
       "\n",
       "            setTimeout(function() {\n",
       "                var nbb_cell_id = 21;\n",
       "                var nbb_unformatted_code = \"# Change remaining objects to dummies and drop first\\n\\ntrain = pd.get_dummies(train, drop_first=True)\\ntest = pd.get_dummies(test, drop_first=True)\";\n",
       "                var nbb_formatted_code = \"# Change remaining objects to dummies and drop first\\n\\ntrain = pd.get_dummies(train, drop_first=True)\\ntest = pd.get_dummies(test, drop_first=True)\";\n",
       "                var nbb_cells = Jupyter.notebook.get_cells();\n",
       "                for (var i = 0; i < nbb_cells.length; ++i) {\n",
       "                    if (nbb_cells[i].input_prompt_number == nbb_cell_id) {\n",
       "                        if (nbb_cells[i].get_text() == nbb_unformatted_code) {\n",
       "                             nbb_cells[i].set_text(nbb_formatted_code);\n",
       "                        }\n",
       "                        break;\n",
       "                    }\n",
       "                }\n",
       "            }, 500);\n",
       "            "
      ],
      "text/plain": [
       "<IPython.core.display.Javascript object>"
      ]
     },
     "metadata": {},
     "output_type": "display_data"
    }
   ],
   "source": [
    "# Change remaining objects to dummies and drop first\n",
    "\n",
    "train = pd.get_dummies(train, drop_first=True)\n",
    "test = pd.get_dummies(test, drop_first=True)"
   ]
  },
  {
   "cell_type": "markdown",
   "id": "8e1ee48a",
   "metadata": {},
   "source": [
    "# Steps I did for tidying up object columns\n",
    "\n",
    "1. `loan_term` drop the \"years\" string and convert to int\n",
    "2. Drop `loan_grade`\n",
    "3. Change `loan_subgrade` so that A1 = 10.0, A2 = 9.9, A3 = 9.8, A4 = 9.7, A5 = 9.6, B1 = 9.0, B2 = 8.9, ???\n",
    "4. `job_experience` can be changed to 0,1,2,3 categories\n",
    "    - NaNs to treat\n",
    "    \n",
    "    \n",
    "5. `home_ownership` converted to 4 dummies\n",
    "6. `income_verification_status` to 2 dummies\n",
    "7. `loan_purpose` to 3 dummies\n",
    "8. `state_code` to dummies\n",
    "9. `application_type` to 1 dummy"
   ]
  },
  {
   "cell_type": "code",
   "execution_count": 22,
   "id": "ab71304f",
   "metadata": {},
   "outputs": [
    {
     "data": {
      "application/javascript": [
       "\n",
       "            setTimeout(function() {\n",
       "                var nbb_cell_id = 22;\n",
       "                var nbb_unformatted_code = \"# Divide data into X and y\\n\\nX = train.drop([\\\"default\\\"], axis=1)\\ny = train[\\\"default\\\"]\\n\\nX_test = test\";\n",
       "                var nbb_formatted_code = \"# Divide data into X and y\\n\\nX = train.drop([\\\"default\\\"], axis=1)\\ny = train[\\\"default\\\"]\\n\\nX_test = test\";\n",
       "                var nbb_cells = Jupyter.notebook.get_cells();\n",
       "                for (var i = 0; i < nbb_cells.length; ++i) {\n",
       "                    if (nbb_cells[i].input_prompt_number == nbb_cell_id) {\n",
       "                        if (nbb_cells[i].get_text() == nbb_unformatted_code) {\n",
       "                             nbb_cells[i].set_text(nbb_formatted_code);\n",
       "                        }\n",
       "                        break;\n",
       "                    }\n",
       "                }\n",
       "            }, 500);\n",
       "            "
      ],
      "text/plain": [
       "<IPython.core.display.Javascript object>"
      ]
     },
     "metadata": {},
     "output_type": "display_data"
    }
   ],
   "source": [
    "# Divide data into X and y\n",
    "\n",
    "X = train.drop([\"default\"], axis=1)\n",
    "y = train[\"default\"]\n",
    "\n",
    "X_test = test"
   ]
  },
  {
   "cell_type": "code",
   "execution_count": 23,
   "id": "f35dbcd4",
   "metadata": {},
   "outputs": [
    {
     "name": "stdout",
     "output_type": "stream",
     "text": [
      "(74539, 75) (18635, 75) (39933, 75)\n"
     ]
    },
    {
     "data": {
      "application/javascript": [
       "\n",
       "            setTimeout(function() {\n",
       "                var nbb_cell_id = 23;\n",
       "                var nbb_unformatted_code = \"# Split the training data into training and validation datasets\\n\\nX_train, X_val, y_train, y_val = train_test_split(\\n    X, y, test_size=0.2, random_state=1, stratify=y\\n)\\n\\n# Check the shape of all 3 datasets\\nprint(X_train.shape, X_val.shape, X_test.shape)\";\n",
       "                var nbb_formatted_code = \"# Split the training data into training and validation datasets\\n\\nX_train, X_val, y_train, y_val = train_test_split(\\n    X, y, test_size=0.2, random_state=1, stratify=y\\n)\\n\\n# Check the shape of all 3 datasets\\nprint(X_train.shape, X_val.shape, X_test.shape)\";\n",
       "                var nbb_cells = Jupyter.notebook.get_cells();\n",
       "                for (var i = 0; i < nbb_cells.length; ++i) {\n",
       "                    if (nbb_cells[i].input_prompt_number == nbb_cell_id) {\n",
       "                        if (nbb_cells[i].get_text() == nbb_unformatted_code) {\n",
       "                             nbb_cells[i].set_text(nbb_formatted_code);\n",
       "                        }\n",
       "                        break;\n",
       "                    }\n",
       "                }\n",
       "            }, 500);\n",
       "            "
      ],
      "text/plain": [
       "<IPython.core.display.Javascript object>"
      ]
     },
     "metadata": {},
     "output_type": "display_data"
    }
   ],
   "source": [
    "# Split the training data into training and validation datasets\n",
    "\n",
    "X_train, X_val, y_train, y_val = train_test_split(\n",
    "    X, y, test_size=0.2, random_state=1, stratify=y\n",
    ")\n",
    "\n",
    "# Check the shape of all 3 datasets\n",
    "print(X_train.shape, X_val.shape, X_test.shape)"
   ]
  },
  {
   "cell_type": "markdown",
   "id": "aaba81cd",
   "metadata": {},
   "source": [
    "# Data is split into train, validation, and test\n",
    "# Now to impute remaining missing values"
   ]
  },
  {
   "cell_type": "code",
   "execution_count": 24,
   "id": "4920c41a",
   "metadata": {},
   "outputs": [
    {
     "data": {
      "application/javascript": [
       "\n",
       "            setTimeout(function() {\n",
       "                var nbb_cell_id = 24;\n",
       "                var nbb_unformatted_code = \"# Impute the median for missing values\\n\\n# We use .fit_transform() on the training set to find the median (on JUST the training set)\\n# We then use .transform() to apply that same median value to the validation and test sets\\n# This is to prevent data leakage\\n\\nimputer = SimpleImputer(strategy=\\\"median\\\")\\n\\nX_train = pd.DataFrame(imputer.fit_transform(X_train), columns=X_train.columns)\\n\\nX_val = pd.DataFrame(imputer.transform(X_val), columns=X_val.columns)\\n\\nX_test = pd.DataFrame(imputer.transform(X_test), columns=X_test.columns)\";\n",
       "                var nbb_formatted_code = \"# Impute the median for missing values\\n\\n# We use .fit_transform() on the training set to find the median (on JUST the training set)\\n# We then use .transform() to apply that same median value to the validation and test sets\\n# This is to prevent data leakage\\n\\nimputer = SimpleImputer(strategy=\\\"median\\\")\\n\\nX_train = pd.DataFrame(imputer.fit_transform(X_train), columns=X_train.columns)\\n\\nX_val = pd.DataFrame(imputer.transform(X_val), columns=X_val.columns)\\n\\nX_test = pd.DataFrame(imputer.transform(X_test), columns=X_test.columns)\";\n",
       "                var nbb_cells = Jupyter.notebook.get_cells();\n",
       "                for (var i = 0; i < nbb_cells.length; ++i) {\n",
       "                    if (nbb_cells[i].input_prompt_number == nbb_cell_id) {\n",
       "                        if (nbb_cells[i].get_text() == nbb_unformatted_code) {\n",
       "                             nbb_cells[i].set_text(nbb_formatted_code);\n",
       "                        }\n",
       "                        break;\n",
       "                    }\n",
       "                }\n",
       "            }, 500);\n",
       "            "
      ],
      "text/plain": [
       "<IPython.core.display.Javascript object>"
      ]
     },
     "metadata": {},
     "output_type": "display_data"
    }
   ],
   "source": [
    "# Impute the median for missing values\n",
    "\n",
    "# We use .fit_transform() on the training set to find the median (on JUST the training set)\n",
    "# We then use .transform() to apply that same median value to the validation and test sets\n",
    "# This is to prevent data leakage\n",
    "\n",
    "imputer = SimpleImputer(strategy=\"median\")\n",
    "\n",
    "X_train = pd.DataFrame(imputer.fit_transform(X_train), columns=X_train.columns)\n",
    "\n",
    "X_val = pd.DataFrame(imputer.transform(X_val), columns=X_val.columns)\n",
    "\n",
    "X_test = pd.DataFrame(imputer.transform(X_test), columns=X_test.columns)"
   ]
  },
  {
   "cell_type": "code",
   "execution_count": 25,
   "id": "fc036c81",
   "metadata": {},
   "outputs": [
    {
     "name": "stdout",
     "output_type": "stream",
     "text": [
      "Training nulls:  0\n",
      "Validation nulls:  0\n",
      "Testing nulls:  0\n"
     ]
    },
    {
     "data": {
      "application/javascript": [
       "\n",
       "            setTimeout(function() {\n",
       "                var nbb_cell_id = 25;\n",
       "                var nbb_unformatted_code = \"# Verify missing values have been imputed\\n\\nprint(\\\"Training nulls: \\\", X_train.isnull().any(axis=1).sum())\\nprint(\\\"Validation nulls: \\\", X_val.isnull().any(axis=1).sum())\\nprint(\\\"Testing nulls: \\\", X_test.isnull().any(axis=1).sum())\";\n",
       "                var nbb_formatted_code = \"# Verify missing values have been imputed\\n\\nprint(\\\"Training nulls: \\\", X_train.isnull().any(axis=1).sum())\\nprint(\\\"Validation nulls: \\\", X_val.isnull().any(axis=1).sum())\\nprint(\\\"Testing nulls: \\\", X_test.isnull().any(axis=1).sum())\";\n",
       "                var nbb_cells = Jupyter.notebook.get_cells();\n",
       "                for (var i = 0; i < nbb_cells.length; ++i) {\n",
       "                    if (nbb_cells[i].input_prompt_number == nbb_cell_id) {\n",
       "                        if (nbb_cells[i].get_text() == nbb_unformatted_code) {\n",
       "                             nbb_cells[i].set_text(nbb_formatted_code);\n",
       "                        }\n",
       "                        break;\n",
       "                    }\n",
       "                }\n",
       "            }, 500);\n",
       "            "
      ],
      "text/plain": [
       "<IPython.core.display.Javascript object>"
      ]
     },
     "metadata": {},
     "output_type": "display_data"
    }
   ],
   "source": [
    "# Verify missing values have been imputed\n",
    "\n",
    "print(\"Training nulls: \", X_train.isnull().any(axis=1).sum())\n",
    "print(\"Validation nulls: \", X_val.isnull().any(axis=1).sum())\n",
    "print(\"Testing nulls: \", X_test.isnull().any(axis=1).sum())\n"
   ]
  },
  {
   "cell_type": "markdown",
   "id": "53e18688",
   "metadata": {},
   "source": [
    "# Initial Model Building"
   ]
  },
  {
   "cell_type": "code",
   "execution_count": 26,
   "id": "1342b513",
   "metadata": {},
   "outputs": [
    {
     "data": {
      "application/javascript": [
       "\n",
       "            setTimeout(function() {\n",
       "                var nbb_cell_id = 26;\n",
       "                var nbb_unformatted_code = \"# defining a function to compute different metrics to check performance of a classification model built using sklearn\\ndef model_performance_classification_sklearn(model, predictors, target):\\n    \\\"\\\"\\\"\\n    Function to compute different metrics to check classification model performance\\n\\n    model: classifier\\n    predictors: independent variables\\n    target: dependent variable\\n    \\\"\\\"\\\"\\n\\n    # predicting using the independent variables\\n    pred = model.predict(predictors)\\n\\n    acc = accuracy_score(target, pred)  # to compute Accuracy\\n    recall = recall_score(target, pred)  # to compute Recall\\n    precision = precision_score(target, pred)  # to compute Precision\\n    f1 = f1_score(target, pred)  # to compute F1-score\\n\\n    # creating a dataframe of metrics\\n    df_perf = pd.DataFrame(\\n        {\\\"Accuracy\\\": acc, \\\"Recall\\\": recall, \\\"Precision\\\": precision, \\\"F1\\\": f1},\\n        index=[0],\\n    )\\n\\n    return df_perf\";\n",
       "                var nbb_formatted_code = \"# defining a function to compute different metrics to check performance of a classification model built using sklearn\\ndef model_performance_classification_sklearn(model, predictors, target):\\n    \\\"\\\"\\\"\\n    Function to compute different metrics to check classification model performance\\n\\n    model: classifier\\n    predictors: independent variables\\n    target: dependent variable\\n    \\\"\\\"\\\"\\n\\n    # predicting using the independent variables\\n    pred = model.predict(predictors)\\n\\n    acc = accuracy_score(target, pred)  # to compute Accuracy\\n    recall = recall_score(target, pred)  # to compute Recall\\n    precision = precision_score(target, pred)  # to compute Precision\\n    f1 = f1_score(target, pred)  # to compute F1-score\\n\\n    # creating a dataframe of metrics\\n    df_perf = pd.DataFrame(\\n        {\\\"Accuracy\\\": acc, \\\"Recall\\\": recall, \\\"Precision\\\": precision, \\\"F1\\\": f1},\\n        index=[0],\\n    )\\n\\n    return df_perf\";\n",
       "                var nbb_cells = Jupyter.notebook.get_cells();\n",
       "                for (var i = 0; i < nbb_cells.length; ++i) {\n",
       "                    if (nbb_cells[i].input_prompt_number == nbb_cell_id) {\n",
       "                        if (nbb_cells[i].get_text() == nbb_unformatted_code) {\n",
       "                             nbb_cells[i].set_text(nbb_formatted_code);\n",
       "                        }\n",
       "                        break;\n",
       "                    }\n",
       "                }\n",
       "            }, 500);\n",
       "            "
      ],
      "text/plain": [
       "<IPython.core.display.Javascript object>"
      ]
     },
     "metadata": {},
     "output_type": "display_data"
    }
   ],
   "source": [
    "# defining a function to compute different metrics to check performance of a classification model built using sklearn\n",
    "def model_performance_classification_sklearn(model, predictors, target):\n",
    "    \"\"\"\n",
    "    Function to compute different metrics to check classification model performance\n",
    "\n",
    "    model: classifier\n",
    "    predictors: independent variables\n",
    "    target: dependent variable\n",
    "    \"\"\"\n",
    "\n",
    "    # predicting using the independent variables\n",
    "    pred = model.predict(predictors)\n",
    "\n",
    "    acc = accuracy_score(target, pred)  # to compute Accuracy\n",
    "    recall = recall_score(target, pred)  # to compute Recall\n",
    "    precision = precision_score(target, pred)  # to compute Precision\n",
    "    f1 = f1_score(target, pred)  # to compute F1-score\n",
    "\n",
    "    # creating a dataframe of metrics\n",
    "    df_perf = pd.DataFrame(\n",
    "        {\"Accuracy\": acc, \"Recall\": recall, \"Precision\": precision, \"F1\": f1},\n",
    "        index=[0],\n",
    "    )\n",
    "\n",
    "    return df_perf"
   ]
  },
  {
   "cell_type": "code",
   "execution_count": 27,
   "id": "9617ef3a",
   "metadata": {},
   "outputs": [
    {
     "data": {
      "application/javascript": [
       "\n",
       "            setTimeout(function() {\n",
       "                var nbb_cell_id = 27;\n",
       "                var nbb_unformatted_code = \"# Type of scoring used to compare parameter combinations\\nscorer = metrics.make_scorer(metrics.accuracy_score)\";\n",
       "                var nbb_formatted_code = \"# Type of scoring used to compare parameter combinations\\nscorer = metrics.make_scorer(metrics.accuracy_score)\";\n",
       "                var nbb_cells = Jupyter.notebook.get_cells();\n",
       "                for (var i = 0; i < nbb_cells.length; ++i) {\n",
       "                    if (nbb_cells[i].input_prompt_number == nbb_cell_id) {\n",
       "                        if (nbb_cells[i].get_text() == nbb_unformatted_code) {\n",
       "                             nbb_cells[i].set_text(nbb_formatted_code);\n",
       "                        }\n",
       "                        break;\n",
       "                    }\n",
       "                }\n",
       "            }, 500);\n",
       "            "
      ],
      "text/plain": [
       "<IPython.core.display.Javascript object>"
      ]
     },
     "metadata": {},
     "output_type": "display_data"
    }
   ],
   "source": [
    "# Type of scoring used to compare parameter combinations\n",
    "scorer = metrics.make_scorer(metrics.accuracy_score)"
   ]
  },
  {
   "cell_type": "code",
   "execution_count": 28,
   "id": "3ead85d3",
   "metadata": {},
   "outputs": [
    {
     "name": "stdout",
     "output_type": "stream",
     "text": [
      "\n",
      "Cross-Validation Cost:\n",
      "\n",
      "dtree: 0.8718388738737547\n",
      "Logistic regression: 0.8198525779788179\n",
      "Bagging: 0.8990863431983243\n",
      "Random forest: 0.8744549351493974\n",
      "GBM: 0.8912783639208832\n",
      "Adaboost: 0.8590133813995218\n",
      "Xgboost: 0.9076992675219578\n",
      "\n",
      "Validation Performance:\n",
      "\n",
      "dtree: 0.8696002146498524\n",
      "Logistic regression: 0.8108398175476255\n",
      "Bagging: 0.8979876576334854\n",
      "Random forest: 0.8707271263751006\n",
      "GBM: 0.8851623289508989\n",
      "Adaboost: 0.8537697880332707\n",
      "Xgboost: 0.905232090152938\n"
     ]
    },
    {
     "data": {
      "application/javascript": [
       "\n",
       "            setTimeout(function() {\n",
       "                var nbb_cell_id = 28;\n",
       "                var nbb_unformatted_code = \"models = []  # Empty list to store all the models\\n\\n# Appending models into the list\\nmodels.append((\\\"dtree\\\", DecisionTreeClassifier(random_state=1)))\\nmodels.append((\\\"Logistic regression\\\", LogisticRegression(random_state=1)))\\nmodels.append((\\\"Bagging\\\", BaggingClassifier(random_state=1)))\\nmodels.append((\\\"Random forest\\\", RandomForestClassifier(random_state=1)))\\nmodels.append((\\\"GBM\\\", GradientBoostingClassifier(random_state=1)))\\nmodels.append((\\\"Adaboost\\\", AdaBoostClassifier(random_state=1)))\\nmodels.append((\\\"Xgboost\\\", XGBClassifier(random_state=1, eval_metric=\\\"logloss\\\")))\\n\\nresults1 = []  # Empty list to store all model's CV scores\\nnames = []  # Empty list to store name of the models\\n\\n\\n# loop through all models to get the mean cross validated score\\nprint(\\\"\\\\n\\\" \\\"Cross-Validation Cost:\\\" \\\"\\\\n\\\")\\n\\nfor name, model in models:\\n    kfold = StratifiedKFold(\\n        n_splits=5, shuffle=True, random_state=1\\n    )  # Setting number of splits equal to 5\\n    cv_result = cross_val_score(\\n        estimator=model, X=X_train, y=y_train, scoring=scorer, cv=kfold\\n    )\\n    results1.append(cv_result)\\n    names.append(name)\\n    print(\\\"{}: {}\\\".format(name, cv_result.mean()))\\n\\nprint(\\\"\\\\n\\\" \\\"Validation Performance:\\\" \\\"\\\\n\\\")\\n\\nfor name, model in models:\\n    model.fit(X_train, y_train)\\n    scores = accuracy_score(y_val, model.predict(X_val))\\n    print(\\\"{}: {}\\\".format(name, scores))\";\n",
       "                var nbb_formatted_code = \"models = []  # Empty list to store all the models\\n\\n# Appending models into the list\\nmodels.append((\\\"dtree\\\", DecisionTreeClassifier(random_state=1)))\\nmodels.append((\\\"Logistic regression\\\", LogisticRegression(random_state=1)))\\nmodels.append((\\\"Bagging\\\", BaggingClassifier(random_state=1)))\\nmodels.append((\\\"Random forest\\\", RandomForestClassifier(random_state=1)))\\nmodels.append((\\\"GBM\\\", GradientBoostingClassifier(random_state=1)))\\nmodels.append((\\\"Adaboost\\\", AdaBoostClassifier(random_state=1)))\\nmodels.append((\\\"Xgboost\\\", XGBClassifier(random_state=1, eval_metric=\\\"logloss\\\")))\\n\\nresults1 = []  # Empty list to store all model's CV scores\\nnames = []  # Empty list to store name of the models\\n\\n\\n# loop through all models to get the mean cross validated score\\nprint(\\\"\\\\n\\\" \\\"Cross-Validation Cost:\\\" \\\"\\\\n\\\")\\n\\nfor name, model in models:\\n    kfold = StratifiedKFold(\\n        n_splits=5, shuffle=True, random_state=1\\n    )  # Setting number of splits equal to 5\\n    cv_result = cross_val_score(\\n        estimator=model, X=X_train, y=y_train, scoring=scorer, cv=kfold\\n    )\\n    results1.append(cv_result)\\n    names.append(name)\\n    print(\\\"{}: {}\\\".format(name, cv_result.mean()))\\n\\nprint(\\\"\\\\n\\\" \\\"Validation Performance:\\\" \\\"\\\\n\\\")\\n\\nfor name, model in models:\\n    model.fit(X_train, y_train)\\n    scores = accuracy_score(y_val, model.predict(X_val))\\n    print(\\\"{}: {}\\\".format(name, scores))\";\n",
       "                var nbb_cells = Jupyter.notebook.get_cells();\n",
       "                for (var i = 0; i < nbb_cells.length; ++i) {\n",
       "                    if (nbb_cells[i].input_prompt_number == nbb_cell_id) {\n",
       "                        if (nbb_cells[i].get_text() == nbb_unformatted_code) {\n",
       "                             nbb_cells[i].set_text(nbb_formatted_code);\n",
       "                        }\n",
       "                        break;\n",
       "                    }\n",
       "                }\n",
       "            }, 500);\n",
       "            "
      ],
      "text/plain": [
       "<IPython.core.display.Javascript object>"
      ]
     },
     "metadata": {},
     "output_type": "display_data"
    }
   ],
   "source": [
    "models = []  # Empty list to store all the models\n",
    "\n",
    "# Appending models into the list\n",
    "models.append((\"dtree\", DecisionTreeClassifier(random_state=1)))\n",
    "models.append((\"Logistic regression\", LogisticRegression(random_state=1)))\n",
    "models.append((\"Bagging\", BaggingClassifier(random_state=1)))\n",
    "models.append((\"Random forest\", RandomForestClassifier(random_state=1)))\n",
    "models.append((\"GBM\", GradientBoostingClassifier(random_state=1)))\n",
    "models.append((\"Adaboost\", AdaBoostClassifier(random_state=1)))\n",
    "models.append((\"Xgboost\", XGBClassifier(random_state=1, eval_metric=\"logloss\")))\n",
    "\n",
    "results1 = []  # Empty list to store all model's CV scores\n",
    "names = []  # Empty list to store name of the models\n",
    "\n",
    "\n",
    "# loop through all models to get the mean cross validated score\n",
    "print(\"\\n\" \"Cross-Validation Cost:\" \"\\n\")\n",
    "\n",
    "for name, model in models:\n",
    "    kfold = StratifiedKFold(\n",
    "        n_splits=5, shuffle=True, random_state=1\n",
    "    )  # Setting number of splits equal to 5\n",
    "    cv_result = cross_val_score(\n",
    "        estimator=model, X=X_train, y=y_train, scoring=scorer, cv=kfold\n",
    "    )\n",
    "    results1.append(cv_result)\n",
    "    names.append(name)\n",
    "    print(\"{}: {}\".format(name, cv_result.mean()))\n",
    "\n",
    "print(\"\\n\" \"Validation Performance:\" \"\\n\")\n",
    "\n",
    "for name, model in models:\n",
    "    model.fit(X_train, y_train)\n",
    "    scores = accuracy_score(y_val, model.predict(X_val))\n",
    "    print(\"{}: {}\".format(name, scores))"
   ]
  },
  {
   "cell_type": "code",
   "execution_count": 29,
   "id": "34bf5154",
   "metadata": {},
   "outputs": [
    {
     "data": {
      "image/png": "[encoded data removed]",
      "text/plain": [
       "<Figure size 720x504 with 1 Axes>"
      ]
     },
     "metadata": {
      "needs_background": "light"
     },
     "output_type": "display_data"
    },
    {
     "data": {
      "application/javascript": [
       "\n",
       "            setTimeout(function() {\n",
       "                var nbb_cell_id = 29;\n",
       "                var nbb_unformatted_code = \"# Plotting boxplots for CV scores of all models defined above\\nfig = plt.figure(figsize=(10, 7))\\n\\nfig.suptitle(\\\"Algorithm Comparison\\\")\\nax = fig.add_subplot(111)\\n\\nplt.boxplot(results1)\\nax.set_xticklabels(names)\\n\\nplt.show()\";\n",
       "                var nbb_formatted_code = \"# Plotting boxplots for CV scores of all models defined above\\nfig = plt.figure(figsize=(10, 7))\\n\\nfig.suptitle(\\\"Algorithm Comparison\\\")\\nax = fig.add_subplot(111)\\n\\nplt.boxplot(results1)\\nax.set_xticklabels(names)\\n\\nplt.show()\";\n",
       "                var nbb_cells = Jupyter.notebook.get_cells();\n",
       "                for (var i = 0; i < nbb_cells.length; ++i) {\n",
       "                    if (nbb_cells[i].input_prompt_number == nbb_cell_id) {\n",
       "                        if (nbb_cells[i].get_text() == nbb_unformatted_code) {\n",
       "                             nbb_cells[i].set_text(nbb_formatted_code);\n",
       "                        }\n",
       "                        break;\n",
       "                    }\n",
       "                }\n",
       "            }, 500);\n",
       "            "
      ],
      "text/plain": [
       "<IPython.core.display.Javascript object>"
      ]
     },
     "metadata": {},
     "output_type": "display_data"
    }
   ],
   "source": [
    "# Plotting boxplots for CV scores of all models defined above\n",
    "fig = plt.figure(figsize=(10, 7))\n",
    "\n",
    "fig.suptitle(\"Algorithm Comparison\")\n",
    "ax = fig.add_subplot(111)\n",
    "\n",
    "plt.boxplot(results1)\n",
    "ax.set_xticklabels(names)\n",
    "\n",
    "plt.show()"
   ]
  },
  {
   "cell_type": "markdown",
   "id": "8f96e1c8",
   "metadata": {},
   "source": [
    "# Default models and their accuracy scores\n",
    "\n",
    "### XGBoost and Bagging were the highest\n",
    "\n",
    "# Next, Oversample"
   ]
  },
  {
   "cell_type": "code",
   "execution_count": 30,
   "id": "ad0eb57e",
   "metadata": {},
   "outputs": [
    {
     "name": "stdout",
     "output_type": "stream",
     "text": [
      "Before OverSampling, counts of label '1' or 'default': 17703\n",
      "Before OverSampling, counts of label '0' or 'no default': 56836\n",
      "Before OverSampling, the original shape of X_train: (74539, 75)\n",
      "\n",
      "After OverSampling, counts of label '1': 56836\n",
      "After OverSampling, counts of label '0': 56836\n",
      "After OverSampling, the new shape of X_train: (113672, 75)\n"
     ]
    },
    {
     "data": {
      "application/javascript": [
       "\n",
       "            setTimeout(function() {\n",
       "                var nbb_cell_id = 30;\n",
       "                var nbb_unformatted_code = \"print(\\n    \\\"Before OverSampling, counts of label '1' or 'default': {}\\\".format(\\n        sum(y_train == 1)\\n    )\\n)\\nprint(\\n    \\\"Before OverSampling, counts of label '0' or 'no default': {}\\\".format(\\n        sum(y_train == 0)\\n    )\\n)\\nprint(\\\"Before OverSampling, the original shape of X_train: {}\\\".format(X_train.shape))\\nprint()\\n\\n# Synthetic Minority Over Sampling Technique (SMOTE)\\n# This function selects a random observation in the minority class, then creates a synthetic,\\n# random observation between it and its 5 nearest neighbors\\n\\nsm = SMOTE(sampling_strategy=1, k_neighbors=5, random_state=420)\\nX_train_over, y_train_over = sm.fit_resample(X_train, y_train)\\n\\nprint(\\\"After OverSampling, counts of label '1': {}\\\".format(sum(y_train_over == 1)))\\nprint(\\\"After OverSampling, counts of label '0': {}\\\".format(sum(y_train_over == 0)))\\nprint(\\\"After OverSampling, the new shape of X_train: {}\\\".format(X_train_over.shape))\";\n",
       "                var nbb_formatted_code = \"print(\\n    \\\"Before OverSampling, counts of label '1' or 'default': {}\\\".format(\\n        sum(y_train == 1)\\n    )\\n)\\nprint(\\n    \\\"Before OverSampling, counts of label '0' or 'no default': {}\\\".format(\\n        sum(y_train == 0)\\n    )\\n)\\nprint(\\\"Before OverSampling, the original shape of X_train: {}\\\".format(X_train.shape))\\nprint()\\n\\n# Synthetic Minority Over Sampling Technique (SMOTE)\\n# This function selects a random observation in the minority class, then creates a synthetic,\\n# random observation between it and its 5 nearest neighbors\\n\\nsm = SMOTE(sampling_strategy=1, k_neighbors=5, random_state=420)\\nX_train_over, y_train_over = sm.fit_resample(X_train, y_train)\\n\\nprint(\\\"After OverSampling, counts of label '1': {}\\\".format(sum(y_train_over == 1)))\\nprint(\\\"After OverSampling, counts of label '0': {}\\\".format(sum(y_train_over == 0)))\\nprint(\\\"After OverSampling, the new shape of X_train: {}\\\".format(X_train_over.shape))\";\n",
       "                var nbb_cells = Jupyter.notebook.get_cells();\n",
       "                for (var i = 0; i < nbb_cells.length; ++i) {\n",
       "                    if (nbb_cells[i].input_prompt_number == nbb_cell_id) {\n",
       "                        if (nbb_cells[i].get_text() == nbb_unformatted_code) {\n",
       "                             nbb_cells[i].set_text(nbb_formatted_code);\n",
       "                        }\n",
       "                        break;\n",
       "                    }\n",
       "                }\n",
       "            }, 500);\n",
       "            "
      ],
      "text/plain": [
       "<IPython.core.display.Javascript object>"
      ]
     },
     "metadata": {},
     "output_type": "display_data"
    }
   ],
   "source": [
    "print(\n",
    "    \"Before OverSampling, counts of label '1' or 'default': {}\".format(\n",
    "        sum(y_train == 1)\n",
    "    )\n",
    ")\n",
    "print(\n",
    "    \"Before OverSampling, counts of label '0' or 'no default': {}\".format(\n",
    "        sum(y_train == 0)\n",
    "    )\n",
    ")\n",
    "print(\"Before OverSampling, the original shape of X_train: {}\".format(X_train.shape))\n",
    "print()\n",
    "\n",
    "# Synthetic Minority Over Sampling Technique (SMOTE)\n",
    "# This function selects a random observation in the minority class, then creates a synthetic,\n",
    "# random observation between it and its 5 nearest neighbors\n",
    "\n",
    "sm = SMOTE(sampling_strategy=1, k_neighbors=5, random_state=420)\n",
    "X_train_over, y_train_over = sm.fit_resample(X_train, y_train)\n",
    "\n",
    "print(\"After OverSampling, counts of label '1': {}\".format(sum(y_train_over == 1)))\n",
    "print(\"After OverSampling, counts of label '0': {}\".format(sum(y_train_over == 0)))\n",
    "print(\"After OverSampling, the new shape of X_train: {}\".format(X_train_over.shape))"
   ]
  },
  {
   "cell_type": "code",
   "execution_count": 31,
   "id": "dc23bc13",
   "metadata": {
    "scrolled": true
   },
   "outputs": [
    {
     "name": "stdout",
     "output_type": "stream",
     "text": [
      "\n",
      "Cross-Validation Cost with OverSampled Dataset:\n",
      "\n",
      "dtree: 0.9114117758069057\n",
      "Logistic regression: 0.7489267027938398\n",
      "Bagging: 0.9347068430797046\n",
      "Random forest: 0.9261559510340074\n",
      "GBM: 0.9274667305295313\n",
      "Adaboost: 0.9013389183931533\n",
      "Xgboost: 0.9399412217089085\n",
      "\n",
      "Validation Performance on OverSampled Dataset:\n",
      "\n",
      "dtree: 0.8715320633217065\n",
      "Logistic regression: 0.7493426348269385\n",
      "Bagging: 0.8978266702441642\n",
      "Random forest: 0.8752347732760933\n",
      "GBM: 0.8880064394955729\n",
      "Adaboost: 0.85870673463912\n",
      "Xgboost: 0.9059833646364368\n"
     ]
    },
    {
     "data": {
      "application/javascript": [
       "\n",
       "            setTimeout(function() {\n",
       "                var nbb_cell_id = 31;\n",
       "                var nbb_unformatted_code = \"# Create 7 default models using oversampled data and save cross-validated recall scores to results2\\n\\nresults2 = []  # Empty list to store all model's CV scores\\nnames = []  # Empty list to store name of the models\\n\\n# loop through all models to get the mean cross validated score\\nprint(\\\"\\\\n\\\" \\\"Cross-Validation Cost with OverSampled Dataset:\\\" \\\"\\\\n\\\")\\n\\nfor name, model in models:\\n    kfold = StratifiedKFold(\\n        n_splits=5, shuffle=True, random_state=1\\n    )  # Setting number of splits equal to 5\\n    cv_result = cross_val_score(\\n        estimator=model, X=X_train_over, y=y_train_over, scoring=scorer, cv=kfold\\n    )\\n    results2.append(cv_result)\\n    names.append(name)\\n    print(\\\"{}: {}\\\".format(name, cv_result.mean()))\\n\\nprint(\\\"\\\\n\\\" \\\"Validation Performance on OverSampled Dataset:\\\" \\\"\\\\n\\\")\\n\\nfor name, model in models:\\n    model.fit(X_train_over, y_train_over)\\n    scores = accuracy_score(y_val, model.predict(X_val))\\n    print(\\\"{}: {}\\\".format(name, scores))\";\n",
       "                var nbb_formatted_code = \"# Create 7 default models using oversampled data and save cross-validated recall scores to results2\\n\\nresults2 = []  # Empty list to store all model's CV scores\\nnames = []  # Empty list to store name of the models\\n\\n# loop through all models to get the mean cross validated score\\nprint(\\\"\\\\n\\\" \\\"Cross-Validation Cost with OverSampled Dataset:\\\" \\\"\\\\n\\\")\\n\\nfor name, model in models:\\n    kfold = StratifiedKFold(\\n        n_splits=5, shuffle=True, random_state=1\\n    )  # Setting number of splits equal to 5\\n    cv_result = cross_val_score(\\n        estimator=model, X=X_train_over, y=y_train_over, scoring=scorer, cv=kfold\\n    )\\n    results2.append(cv_result)\\n    names.append(name)\\n    print(\\\"{}: {}\\\".format(name, cv_result.mean()))\\n\\nprint(\\\"\\\\n\\\" \\\"Validation Performance on OverSampled Dataset:\\\" \\\"\\\\n\\\")\\n\\nfor name, model in models:\\n    model.fit(X_train_over, y_train_over)\\n    scores = accuracy_score(y_val, model.predict(X_val))\\n    print(\\\"{}: {}\\\".format(name, scores))\";\n",
       "                var nbb_cells = Jupyter.notebook.get_cells();\n",
       "                for (var i = 0; i < nbb_cells.length; ++i) {\n",
       "                    if (nbb_cells[i].input_prompt_number == nbb_cell_id) {\n",
       "                        if (nbb_cells[i].get_text() == nbb_unformatted_code) {\n",
       "                             nbb_cells[i].set_text(nbb_formatted_code);\n",
       "                        }\n",
       "                        break;\n",
       "                    }\n",
       "                }\n",
       "            }, 500);\n",
       "            "
      ],
      "text/plain": [
       "<IPython.core.display.Javascript object>"
      ]
     },
     "metadata": {},
     "output_type": "display_data"
    }
   ],
   "source": [
    "# Create 7 default models using oversampled data and save cross-validated recall scores to results2\n",
    "\n",
    "results2 = []  # Empty list to store all model's CV scores\n",
    "names = []  # Empty list to store name of the models\n",
    "\n",
    "# loop through all models to get the mean cross validated score\n",
    "print(\"\\n\" \"Cross-Validation Cost with OverSampled Dataset:\" \"\\n\")\n",
    "\n",
    "for name, model in models:\n",
    "    kfold = StratifiedKFold(\n",
    "        n_splits=5, shuffle=True, random_state=1\n",
    "    )  # Setting number of splits equal to 5\n",
    "    cv_result = cross_val_score(\n",
    "        estimator=model, X=X_train_over, y=y_train_over, scoring=scorer, cv=kfold\n",
    "    )\n",
    "    results2.append(cv_result)\n",
    "    names.append(name)\n",
    "    print(\"{}: {}\".format(name, cv_result.mean()))\n",
    "\n",
    "print(\"\\n\" \"Validation Performance on OverSampled Dataset:\" \"\\n\")\n",
    "\n",
    "for name, model in models:\n",
    "    model.fit(X_train_over, y_train_over)\n",
    "    scores = accuracy_score(y_val, model.predict(X_val))\n",
    "    print(\"{}: {}\".format(name, scores))"
   ]
  },
  {
   "cell_type": "code",
   "execution_count": 32,
   "id": "cf7f8c8b",
   "metadata": {},
   "outputs": [
    {
     "data": {
      "image/png": "[encoded data removed]",
      "text/plain": [
       "<Figure size 720x504 with 1 Axes>"
      ]
     },
     "metadata": {
      "needs_background": "light"
     },
     "output_type": "display_data"
    },
    {
     "data": {
      "application/javascript": [
       "\n",
       "            setTimeout(function() {\n",
       "                var nbb_cell_id = 32;\n",
       "                var nbb_unformatted_code = \"# Plotting boxplots for CV scores of all models defined above\\nfig = plt.figure(figsize=(10, 7))\\n\\nfig.suptitle(\\\"Algorithm Comparison with Oversampled Data\\\")\\nax = fig.add_subplot(111)\\n\\nplt.boxplot(results2)\\nax.set_xticklabels(names)\\n\\nplt.show()\";\n",
       "                var nbb_formatted_code = \"# Plotting boxplots for CV scores of all models defined above\\nfig = plt.figure(figsize=(10, 7))\\n\\nfig.suptitle(\\\"Algorithm Comparison with Oversampled Data\\\")\\nax = fig.add_subplot(111)\\n\\nplt.boxplot(results2)\\nax.set_xticklabels(names)\\n\\nplt.show()\";\n",
       "                var nbb_cells = Jupyter.notebook.get_cells();\n",
       "                for (var i = 0; i < nbb_cells.length; ++i) {\n",
       "                    if (nbb_cells[i].input_prompt_number == nbb_cell_id) {\n",
       "                        if (nbb_cells[i].get_text() == nbb_unformatted_code) {\n",
       "                             nbb_cells[i].set_text(nbb_formatted_code);\n",
       "                        }\n",
       "                        break;\n",
       "                    }\n",
       "                }\n",
       "            }, 500);\n",
       "            "
      ],
      "text/plain": [
       "<IPython.core.display.Javascript object>"
      ]
     },
     "metadata": {},
     "output_type": "display_data"
    }
   ],
   "source": [
    "# Plotting boxplots for CV scores of all models defined above\n",
    "fig = plt.figure(figsize=(10, 7))\n",
    "\n",
    "fig.suptitle(\"Algorithm Comparison with Oversampled Data\")\n",
    "ax = fig.add_subplot(111)\n",
    "\n",
    "plt.boxplot(results2)\n",
    "ax.set_xticklabels(names)\n",
    "\n",
    "plt.show()"
   ]
  },
  {
   "cell_type": "markdown",
   "id": "b5e191ac",
   "metadata": {},
   "source": [
    "# Next: Undersample"
   ]
  },
  {
   "cell_type": "code",
   "execution_count": 33,
   "id": "3194ae0a",
   "metadata": {},
   "outputs": [
    {
     "name": "stdout",
     "output_type": "stream",
     "text": [
      "Before UnderSampling, counts of label '1' or 'Failure': 17703\n",
      "Before UnderSampling, counts of label '0' or 'No Failure': 56836\n",
      "Before UnderSampling, the original shape of X_train: (74539, 75)\n",
      "\n",
      "After UnderSampling, counts of label '1': 17703\n",
      "After UnderSampling, counts of label '0': 17703\n",
      "After UnderSampling, the new shape of X_train: (35406, 75)\n"
     ]
    },
    {
     "data": {
      "application/javascript": [
       "\n",
       "            setTimeout(function() {\n",
       "                var nbb_cell_id = 33;\n",
       "                var nbb_unformatted_code = \"print(\\n    \\\"Before UnderSampling, counts of label '1' or 'Failure': {}\\\".format(\\n        sum(y_train == 1)\\n    )\\n)\\nprint(\\n    \\\"Before UnderSampling, counts of label '0' or 'No Failure': {}\\\".format(\\n        sum(y_train == 0)\\n    )\\n)\\nprint(\\\"Before UnderSampling, the original shape of X_train: {}\\\".format(X_train.shape))\\nprint()\\n\\n# Random undersampler for under sampling the data\\nrus = RandomUnderSampler(random_state=1, sampling_strategy=1)\\nX_train_under, y_train_under = rus.fit_resample(X_train, y_train)\\n\\nprint(\\\"After UnderSampling, counts of label '1': {}\\\".format(sum(y_train_under == 1)))\\nprint(\\\"After UnderSampling, counts of label '0': {}\\\".format(sum(y_train_under == 0)))\\nprint(\\\"After UnderSampling, the new shape of X_train: {}\\\".format(X_train_under.shape))\";\n",
       "                var nbb_formatted_code = \"print(\\n    \\\"Before UnderSampling, counts of label '1' or 'Failure': {}\\\".format(\\n        sum(y_train == 1)\\n    )\\n)\\nprint(\\n    \\\"Before UnderSampling, counts of label '0' or 'No Failure': {}\\\".format(\\n        sum(y_train == 0)\\n    )\\n)\\nprint(\\\"Before UnderSampling, the original shape of X_train: {}\\\".format(X_train.shape))\\nprint()\\n\\n# Random undersampler for under sampling the data\\nrus = RandomUnderSampler(random_state=1, sampling_strategy=1)\\nX_train_under, y_train_under = rus.fit_resample(X_train, y_train)\\n\\nprint(\\\"After UnderSampling, counts of label '1': {}\\\".format(sum(y_train_under == 1)))\\nprint(\\\"After UnderSampling, counts of label '0': {}\\\".format(sum(y_train_under == 0)))\\nprint(\\\"After UnderSampling, the new shape of X_train: {}\\\".format(X_train_under.shape))\";\n",
       "                var nbb_cells = Jupyter.notebook.get_cells();\n",
       "                for (var i = 0; i < nbb_cells.length; ++i) {\n",
       "                    if (nbb_cells[i].input_prompt_number == nbb_cell_id) {\n",
       "                        if (nbb_cells[i].get_text() == nbb_unformatted_code) {\n",
       "                             nbb_cells[i].set_text(nbb_formatted_code);\n",
       "                        }\n",
       "                        break;\n",
       "                    }\n",
       "                }\n",
       "            }, 500);\n",
       "            "
      ],
      "text/plain": [
       "<IPython.core.display.Javascript object>"
      ]
     },
     "metadata": {},
     "output_type": "display_data"
    }
   ],
   "source": [
    "print(\n",
    "    \"Before UnderSampling, counts of label '1' or 'Failure': {}\".format(\n",
    "        sum(y_train == 1)\n",
    "    )\n",
    ")\n",
    "print(\n",
    "    \"Before UnderSampling, counts of label '0' or 'No Failure': {}\".format(\n",
    "        sum(y_train == 0)\n",
    "    )\n",
    ")\n",
    "print(\"Before UnderSampling, the original shape of X_train: {}\".format(X_train.shape))\n",
    "print()\n",
    "\n",
    "# Random undersampler for under sampling the data\n",
    "rus = RandomUnderSampler(random_state=1, sampling_strategy=1)\n",
    "X_train_under, y_train_under = rus.fit_resample(X_train, y_train)\n",
    "\n",
    "print(\"After UnderSampling, counts of label '1': {}\".format(sum(y_train_under == 1)))\n",
    "print(\"After UnderSampling, counts of label '0': {}\".format(sum(y_train_under == 0)))\n",
    "print(\"After UnderSampling, the new shape of X_train: {}\".format(X_train_under.shape))"
   ]
  },
  {
   "cell_type": "code",
   "execution_count": 34,
   "id": "d7799c38",
   "metadata": {},
   "outputs": [
    {
     "name": "stdout",
     "output_type": "stream",
     "text": [
      "\n",
      "Cross-Validation Cost with UnderSampled Dataset:\n",
      "\n",
      "dtree: 0.8599388820714641\n",
      "Logistic regression: 0.753233697408943\n",
      "Bagging: 0.9068801201061458\n",
      "Random forest: 0.8636669337314006\n",
      "GBM: 0.8944810086982754\n",
      "Adaboost: 0.8388971349839341\n",
      "Xgboost: 0.911653201959127\n",
      "\n",
      "Validation Performance on UnderSampled Dataset:\n",
      "\n",
      "dtree: 0.8576871478400858\n",
      "Logistic regression: 0.7494499597531527\n",
      "Bagging: 0.8989535819694124\n",
      "Random forest: 0.8662731419372149\n",
      "GBM: 0.8977730077810572\n",
      "Adaboost: 0.8440032197477865\n",
      "Xgboost: 0.9016903675878722\n"
     ]
    },
    {
     "data": {
      "application/javascript": [
       "\n",
       "            setTimeout(function() {\n",
       "                var nbb_cell_id = 34;\n",
       "                var nbb_unformatted_code = \"# Create 7 default models using undersampled data and save cross-validated recall scores to results3\\n\\nresults3 = []  # Empty list to store all model's CV scores\\nnames = []  # Empty list to store name of the models\\n\\n# loop through all models to get the mean cross validated score\\nprint(\\\"\\\\n\\\" \\\"Cross-Validation Cost with UnderSampled Dataset:\\\" \\\"\\\\n\\\")\\n\\nfor name, model in models:\\n    kfold = StratifiedKFold(\\n        n_splits=5, shuffle=True, random_state=1\\n    )  # Setting number of splits equal to 5\\n    cv_result = cross_val_score(\\n        estimator=model, X=X_train_under, y=y_train_under, scoring=scorer, cv=kfold\\n    )\\n    results3.append(cv_result)\\n    names.append(name)\\n    print(\\\"{}: {}\\\".format(name, cv_result.mean()))\\n\\nprint(\\\"\\\\n\\\" \\\"Validation Performance on UnderSampled Dataset:\\\" \\\"\\\\n\\\")\\n\\nfor name, model in models:\\n    model.fit(X_train_under, y_train_under)\\n    scores = accuracy_score(y_val, model.predict(X_val))\\n    print(\\\"{}: {}\\\".format(name, scores))\";\n",
       "                var nbb_formatted_code = \"# Create 7 default models using undersampled data and save cross-validated recall scores to results3\\n\\nresults3 = []  # Empty list to store all model's CV scores\\nnames = []  # Empty list to store name of the models\\n\\n# loop through all models to get the mean cross validated score\\nprint(\\\"\\\\n\\\" \\\"Cross-Validation Cost with UnderSampled Dataset:\\\" \\\"\\\\n\\\")\\n\\nfor name, model in models:\\n    kfold = StratifiedKFold(\\n        n_splits=5, shuffle=True, random_state=1\\n    )  # Setting number of splits equal to 5\\n    cv_result = cross_val_score(\\n        estimator=model, X=X_train_under, y=y_train_under, scoring=scorer, cv=kfold\\n    )\\n    results3.append(cv_result)\\n    names.append(name)\\n    print(\\\"{}: {}\\\".format(name, cv_result.mean()))\\n\\nprint(\\\"\\\\n\\\" \\\"Validation Performance on UnderSampled Dataset:\\\" \\\"\\\\n\\\")\\n\\nfor name, model in models:\\n    model.fit(X_train_under, y_train_under)\\n    scores = accuracy_score(y_val, model.predict(X_val))\\n    print(\\\"{}: {}\\\".format(name, scores))\";\n",
       "                var nbb_cells = Jupyter.notebook.get_cells();\n",
       "                for (var i = 0; i < nbb_cells.length; ++i) {\n",
       "                    if (nbb_cells[i].input_prompt_number == nbb_cell_id) {\n",
       "                        if (nbb_cells[i].get_text() == nbb_unformatted_code) {\n",
       "                             nbb_cells[i].set_text(nbb_formatted_code);\n",
       "                        }\n",
       "                        break;\n",
       "                    }\n",
       "                }\n",
       "            }, 500);\n",
       "            "
      ],
      "text/plain": [
       "<IPython.core.display.Javascript object>"
      ]
     },
     "metadata": {},
     "output_type": "display_data"
    }
   ],
   "source": [
    "# Create 7 default models using undersampled data and save cross-validated recall scores to results3\n",
    "\n",
    "results3 = []  # Empty list to store all model's CV scores\n",
    "names = []  # Empty list to store name of the models\n",
    "\n",
    "# loop through all models to get the mean cross validated score\n",
    "print(\"\\n\" \"Cross-Validation Cost with UnderSampled Dataset:\" \"\\n\")\n",
    "\n",
    "for name, model in models:\n",
    "    kfold = StratifiedKFold(\n",
    "        n_splits=5, shuffle=True, random_state=1\n",
    "    )  # Setting number of splits equal to 5\n",
    "    cv_result = cross_val_score(\n",
    "        estimator=model, X=X_train_under, y=y_train_under, scoring=scorer, cv=kfold\n",
    "    )\n",
    "    results3.append(cv_result)\n",
    "    names.append(name)\n",
    "    print(\"{}: {}\".format(name, cv_result.mean()))\n",
    "\n",
    "print(\"\\n\" \"Validation Performance on UnderSampled Dataset:\" \"\\n\")\n",
    "\n",
    "for name, model in models:\n",
    "    model.fit(X_train_under, y_train_under)\n",
    "    scores = accuracy_score(y_val, model.predict(X_val))\n",
    "    print(\"{}: {}\".format(name, scores))"
   ]
  },
  {
   "cell_type": "code",
   "execution_count": 35,
   "id": "dd166b50",
   "metadata": {},
   "outputs": [
    {
     "data": {
      "image/png": "[encoded data removed]",
      "text/plain": [
       "<Figure size 720x504 with 1 Axes>"
      ]
     },
     "metadata": {
      "needs_background": "light"
     },
     "output_type": "display_data"
    },
    {
     "data": {
      "application/javascript": [
       "\n",
       "            setTimeout(function() {\n",
       "                var nbb_cell_id = 35;\n",
       "                var nbb_unformatted_code = \"# Plotting boxplots for CV scores of all models defined above\\nfig = plt.figure(figsize=(10, 7))\\n\\nfig.suptitle(\\\"Algorithm Comparison with Undersampled Data\\\")\\nax = fig.add_subplot(111)\\n\\nplt.boxplot(results3)\\nax.set_xticklabels(names)\\n\\nplt.show()\";\n",
       "                var nbb_formatted_code = \"# Plotting boxplots for CV scores of all models defined above\\nfig = plt.figure(figsize=(10, 7))\\n\\nfig.suptitle(\\\"Algorithm Comparison with Undersampled Data\\\")\\nax = fig.add_subplot(111)\\n\\nplt.boxplot(results3)\\nax.set_xticklabels(names)\\n\\nplt.show()\";\n",
       "                var nbb_cells = Jupyter.notebook.get_cells();\n",
       "                for (var i = 0; i < nbb_cells.length; ++i) {\n",
       "                    if (nbb_cells[i].input_prompt_number == nbb_cell_id) {\n",
       "                        if (nbb_cells[i].get_text() == nbb_unformatted_code) {\n",
       "                             nbb_cells[i].set_text(nbb_formatted_code);\n",
       "                        }\n",
       "                        break;\n",
       "                    }\n",
       "                }\n",
       "            }, 500);\n",
       "            "
      ],
      "text/plain": [
       "<IPython.core.display.Javascript object>"
      ]
     },
     "metadata": {},
     "output_type": "display_data"
    }
   ],
   "source": [
    "# Plotting boxplots for CV scores of all models defined above\n",
    "fig = plt.figure(figsize=(10, 7))\n",
    "\n",
    "fig.suptitle(\"Algorithm Comparison with Undersampled Data\")\n",
    "ax = fig.add_subplot(111)\n",
    "\n",
    "plt.boxplot(results3)\n",
    "ax.set_xticklabels(names)\n",
    "\n",
    "plt.show()"
   ]
  },
  {
   "cell_type": "markdown",
   "id": "54caf115",
   "metadata": {},
   "source": [
    "## Next: Try hyperparameter tuning on XGBoost with undersampled data"
   ]
  },
  {
   "cell_type": "code",
   "execution_count": 36,
   "id": "9fedcc6d",
   "metadata": {},
   "outputs": [
    {
     "name": "stdout",
     "output_type": "stream",
     "text": [
      "Best parameters are {'subsample': 0.9, 'scale_pos_weight': 5, 'n_estimators': 250, 'learning_rate': 0.1, 'gamma': 3} with CV score=0.9068519153901594:\n"
     ]
    },
    {
     "data": {
      "application/javascript": [
       "\n",
       "            setTimeout(function() {\n",
       "                var nbb_cell_id = 36;\n",
       "                var nbb_unformatted_code = \"# defining model\\nModel = XGBClassifier(random_state=1, eval_metric=\\\"logloss\\\")\\n\\n# Parameter grid to pass in RandomSearchCV\\nparam_grid = {\\n    \\\"n_estimators\\\": [150, 200, 250],\\n    \\\"scale_pos_weight\\\": [5, 10],\\n    \\\"learning_rate\\\": [0.1, 0.2],\\n    \\\"gamma\\\": [0, 3, 5],\\n    \\\"subsample\\\": [0.8, 0.9],\\n}\\n\\n# Calling RandomizedSearchCV\\nrandomized_cv = RandomizedSearchCV(\\n    estimator=Model,\\n    param_distributions=param_grid,\\n    n_iter=10,\\n    n_jobs=-1,\\n    scoring=scorer,\\n    cv=5,\\n    random_state=1,\\n)\\n\\n# Fitting parameters in RandomizedSearchCV\\nrandomized_cv.fit(X_train_under, y_train_under)\\n\\nprint(\\n    \\\"Best parameters are {} with CV score={}:\\\".format(\\n        randomized_cv.best_params_, randomized_cv.best_score_\\n    )\\n)\";\n",
       "                var nbb_formatted_code = \"# defining model\\nModel = XGBClassifier(random_state=1, eval_metric=\\\"logloss\\\")\\n\\n# Parameter grid to pass in RandomSearchCV\\nparam_grid = {\\n    \\\"n_estimators\\\": [150, 200, 250],\\n    \\\"scale_pos_weight\\\": [5, 10],\\n    \\\"learning_rate\\\": [0.1, 0.2],\\n    \\\"gamma\\\": [0, 3, 5],\\n    \\\"subsample\\\": [0.8, 0.9],\\n}\\n\\n# Calling RandomizedSearchCV\\nrandomized_cv = RandomizedSearchCV(\\n    estimator=Model,\\n    param_distributions=param_grid,\\n    n_iter=10,\\n    n_jobs=-1,\\n    scoring=scorer,\\n    cv=5,\\n    random_state=1,\\n)\\n\\n# Fitting parameters in RandomizedSearchCV\\nrandomized_cv.fit(X_train_under, y_train_under)\\n\\nprint(\\n    \\\"Best parameters are {} with CV score={}:\\\".format(\\n        randomized_cv.best_params_, randomized_cv.best_score_\\n    )\\n)\";\n",
       "                var nbb_cells = Jupyter.notebook.get_cells();\n",
       "                for (var i = 0; i < nbb_cells.length; ++i) {\n",
       "                    if (nbb_cells[i].input_prompt_number == nbb_cell_id) {\n",
       "                        if (nbb_cells[i].get_text() == nbb_unformatted_code) {\n",
       "                             nbb_cells[i].set_text(nbb_formatted_code);\n",
       "                        }\n",
       "                        break;\n",
       "                    }\n",
       "                }\n",
       "            }, 500);\n",
       "            "
      ],
      "text/plain": [
       "<IPython.core.display.Javascript object>"
      ]
     },
     "metadata": {},
     "output_type": "display_data"
    }
   ],
   "source": [
    "# defining model\n",
    "Model = XGBClassifier(random_state=1, eval_metric=\"logloss\")\n",
    "\n",
    "# Parameter grid to pass in RandomSearchCV\n",
    "param_grid = {\n",
    "    \"n_estimators\": [150, 200, 250],\n",
    "    \"scale_pos_weight\": [5, 10],\n",
    "    \"learning_rate\": [0.1, 0.2],\n",
    "    \"gamma\": [0, 3, 5],\n",
    "    \"subsample\": [0.8, 0.9],\n",
    "}\n",
    "\n",
    "# Calling RandomizedSearchCV\n",
    "randomized_cv = RandomizedSearchCV(\n",
    "    estimator=Model,\n",
    "    param_distributions=param_grid,\n",
    "    n_iter=10,\n",
    "    n_jobs=-1,\n",
    "    scoring=scorer,\n",
    "    cv=5,\n",
    "    random_state=1,\n",
    ")\n",
    "\n",
    "# Fitting parameters in RandomizedSearchCV\n",
    "randomized_cv.fit(X_train_under, y_train_under)\n",
    "\n",
    "print(\n",
    "    \"Best parameters are {} with CV score={}:\".format(\n",
    "        randomized_cv.best_params_, randomized_cv.best_score_\n",
    "    )\n",
    ")"
   ]
  },
  {
   "cell_type": "code",
   "execution_count": 41,
   "id": "623d3935",
   "metadata": {},
   "outputs": [
    {
     "data": {
      "text/plain": [
       "XGBClassifier(base_score=0.5, booster='gbtree', colsample_bylevel=1,\n",
       "              colsample_bynode=1, colsample_bytree=1, enable_categorical=False,\n",
       "              eval_metric='logloss', gamma=3, gpu_id=-1, importance_type=None,\n",
       "              interaction_constraints='', learning_rate=0.1, max_delta_step=0,\n",
       "              max_depth=6, min_child_weight=1, missing=nan,\n",
       "              monotone_constraints='()', n_estimators=250, n_jobs=8,\n",
       "              num_parallel_tree=1, predictor='auto', random_state=1,\n",
       "              reg_alpha=0, reg_lambda=1, scale_pos_weight=5, subsample=0.9,\n",
       "              tree_method='exact', validate_parameters=1, verbosity=None)"
      ]
     },
     "execution_count": 41,
     "metadata": {},
     "output_type": "execute_result"
    },
    {
     "data": {
      "application/javascript": [
       "\n",
       "            setTimeout(function() {\n",
       "                var nbb_cell_id = 41;\n",
       "                var nbb_unformatted_code = \"# Creating new pipeline with best parameters\\ntuned_x_under = XGBClassifier(\\n    random_state=1,\\n    subsample=0.9,\\n    scale_pos_weight=5,\\n    n_estimators=250,\\n    learning_rate=0.1,\\n    gamma=3,\\n    eval_metric=\\\"logloss\\\",\\n)\\n\\ntuned_x_under.fit(X_train_under, y_train_under)\";\n",
       "                var nbb_formatted_code = \"# Creating new pipeline with best parameters\\ntuned_x_under = XGBClassifier(\\n    random_state=1,\\n    subsample=0.9,\\n    scale_pos_weight=5,\\n    n_estimators=250,\\n    learning_rate=0.1,\\n    gamma=3,\\n    eval_metric=\\\"logloss\\\",\\n)\\n\\ntuned_x_under.fit(X_train_under, y_train_under)\";\n",
       "                var nbb_cells = Jupyter.notebook.get_cells();\n",
       "                for (var i = 0; i < nbb_cells.length; ++i) {\n",
       "                    if (nbb_cells[i].input_prompt_number == nbb_cell_id) {\n",
       "                        if (nbb_cells[i].get_text() == nbb_unformatted_code) {\n",
       "                             nbb_cells[i].set_text(nbb_formatted_code);\n",
       "                        }\n",
       "                        break;\n",
       "                    }\n",
       "                }\n",
       "            }, 500);\n",
       "            "
      ],
      "text/plain": [
       "<IPython.core.display.Javascript object>"
      ]
     },
     "metadata": {},
     "output_type": "display_data"
    }
   ],
   "source": [
    "# Creating new pipeline with best parameters\n",
    "tuned_x_under = XGBClassifier(\n",
    "    random_state=1,\n",
    "    subsample=0.9,\n",
    "    scale_pos_weight=5,\n",
    "    n_estimators=250,\n",
    "    learning_rate=0.1,\n",
    "    gamma=3,\n",
    "    eval_metric=\"logloss\",\n",
    ")\n",
    "\n",
    "tuned_x_under.fit(X_train_under, y_train_under)"
   ]
  },
  {
   "cell_type": "code",
   "execution_count": 42,
   "id": "1fa878c9",
   "metadata": {},
   "outputs": [
    {
     "data": {
      "text/html": [
       "<div>\n",
       "<style scoped>\n",
       "    .dataframe tbody tr th:only-of-type {\n",
       "        vertical-align: middle;\n",
       "    }\n",
       "\n",
       "    .dataframe tbody tr th {\n",
       "        vertical-align: top;\n",
       "    }\n",
       "\n",
       "    .dataframe thead th {\n",
       "        text-align: right;\n",
       "    }\n",
       "</style>\n",
       "<table border=\"1\" class=\"dataframe\">\n",
       "  <thead>\n",
       "    <tr style=\"text-align: right;\">\n",
       "      <th></th>\n",
       "      <th>Accuracy</th>\n",
       "      <th>Recall</th>\n",
       "      <th>Precision</th>\n",
       "      <th>F1</th>\n",
       "    </tr>\n",
       "  </thead>\n",
       "  <tbody>\n",
       "    <tr>\n",
       "      <th>0</th>\n",
       "      <td>0.872</td>\n",
       "      <td>0.955</td>\n",
       "      <td>0.658</td>\n",
       "      <td>0.779</td>\n",
       "    </tr>\n",
       "  </tbody>\n",
       "</table>\n",
       "</div>"
      ],
      "text/plain": [
       "   Accuracy  Recall  Precision    F1\n",
       "0     0.872   0.955      0.658 0.779"
      ]
     },
     "execution_count": 42,
     "metadata": {},
     "output_type": "execute_result"
    },
    {
     "data": {
      "application/javascript": [
       "\n",
       "            setTimeout(function() {\n",
       "                var nbb_cell_id = 42;\n",
       "                var nbb_unformatted_code = \"x_under_val_perf = model_performance_classification_sklearn(tuned_x_under, X_val, y_val)\\nx_under_val_perf\";\n",
       "                var nbb_formatted_code = \"x_under_val_perf = model_performance_classification_sklearn(tuned_x_under, X_val, y_val)\\nx_under_val_perf\";\n",
       "                var nbb_cells = Jupyter.notebook.get_cells();\n",
       "                for (var i = 0; i < nbb_cells.length; ++i) {\n",
       "                    if (nbb_cells[i].input_prompt_number == nbb_cell_id) {\n",
       "                        if (nbb_cells[i].get_text() == nbb_unformatted_code) {\n",
       "                             nbb_cells[i].set_text(nbb_formatted_code);\n",
       "                        }\n",
       "                        break;\n",
       "                    }\n",
       "                }\n",
       "            }, 500);\n",
       "            "
      ],
      "text/plain": [
       "<IPython.core.display.Javascript object>"
      ]
     },
     "metadata": {},
     "output_type": "display_data"
    }
   ],
   "source": [
    "x_under_val_perf = model_performance_classification_sklearn(tuned_x_under, X_val, y_val)\n",
    "x_under_val_perf"
   ]
  },
  {
   "cell_type": "markdown",
   "id": "9e5135e9",
   "metadata": {},
   "source": [
    "# Next: Hyperparameter Tuning for XGBoost and Oversampled Data"
   ]
  },
  {
   "cell_type": "code",
   "execution_count": 39,
   "id": "8a0ec923",
   "metadata": {},
   "outputs": [
    {
     "name": "stdout",
     "output_type": "stream",
     "text": [
      "Best parameters are {'subsample': 0.9, 'scale_pos_weight': 5, 'n_estimators': 250, 'learning_rate': 0.1, 'gamma': 3} with CV score=0.9334139969607482:\n"
     ]
    },
    {
     "data": {
      "application/javascript": [
       "\n",
       "            setTimeout(function() {\n",
       "                var nbb_cell_id = 39;\n",
       "                var nbb_unformatted_code = \"# defining model\\nModel = XGBClassifier(random_state=1, eval_metric=\\\"logloss\\\")\\n\\n# Parameter grid to pass in RandomSearchCV\\nparam_grid = {\\n    \\\"n_estimators\\\": [150, 200, 250],\\n    \\\"scale_pos_weight\\\": [5, 10],\\n    \\\"learning_rate\\\": [0.1, 0.2],\\n    \\\"gamma\\\": [0, 3, 5],\\n    \\\"subsample\\\": [0.8, 0.9],\\n}\\n\\n# Calling RandomizedSearchCV\\nrandomized_cv = RandomizedSearchCV(\\n    estimator=Model,\\n    param_distributions=param_grid,\\n    n_iter=10,\\n    n_jobs=-1,\\n    scoring=scorer,\\n    cv=5,\\n    random_state=1,\\n)\\n\\n# Fitting parameters in RandomizedSearchCV\\nrandomized_cv.fit(X_train_over, y_train_over)\\n\\nprint(\\n    \\\"Best parameters are {} with CV score={}:\\\".format(\\n        randomized_cv.best_params_, randomized_cv.best_score_\\n    )\\n)\";\n",
       "                var nbb_formatted_code = \"# defining model\\nModel = XGBClassifier(random_state=1, eval_metric=\\\"logloss\\\")\\n\\n# Parameter grid to pass in RandomSearchCV\\nparam_grid = {\\n    \\\"n_estimators\\\": [150, 200, 250],\\n    \\\"scale_pos_weight\\\": [5, 10],\\n    \\\"learning_rate\\\": [0.1, 0.2],\\n    \\\"gamma\\\": [0, 3, 5],\\n    \\\"subsample\\\": [0.8, 0.9],\\n}\\n\\n# Calling RandomizedSearchCV\\nrandomized_cv = RandomizedSearchCV(\\n    estimator=Model,\\n    param_distributions=param_grid,\\n    n_iter=10,\\n    n_jobs=-1,\\n    scoring=scorer,\\n    cv=5,\\n    random_state=1,\\n)\\n\\n# Fitting parameters in RandomizedSearchCV\\nrandomized_cv.fit(X_train_over, y_train_over)\\n\\nprint(\\n    \\\"Best parameters are {} with CV score={}:\\\".format(\\n        randomized_cv.best_params_, randomized_cv.best_score_\\n    )\\n)\";\n",
       "                var nbb_cells = Jupyter.notebook.get_cells();\n",
       "                for (var i = 0; i < nbb_cells.length; ++i) {\n",
       "                    if (nbb_cells[i].input_prompt_number == nbb_cell_id) {\n",
       "                        if (nbb_cells[i].get_text() == nbb_unformatted_code) {\n",
       "                             nbb_cells[i].set_text(nbb_formatted_code);\n",
       "                        }\n",
       "                        break;\n",
       "                    }\n",
       "                }\n",
       "            }, 500);\n",
       "            "
      ],
      "text/plain": [
       "<IPython.core.display.Javascript object>"
      ]
     },
     "metadata": {},
     "output_type": "display_data"
    }
   ],
   "source": [
    "# defining model\n",
    "Model = XGBClassifier(random_state=1, eval_metric=\"logloss\")\n",
    "\n",
    "# Parameter grid to pass in RandomSearchCV\n",
    "param_grid = {\n",
    "    \"n_estimators\": [150, 200, 250],\n",
    "    \"scale_pos_weight\": [5, 10],\n",
    "    \"learning_rate\": [0.1, 0.2],\n",
    "    \"gamma\": [0, 3, 5],\n",
    "    \"subsample\": [0.8, 0.9],\n",
    "}\n",
    "\n",
    "# Calling RandomizedSearchCV\n",
    "randomized_cv = RandomizedSearchCV(\n",
    "    estimator=Model,\n",
    "    param_distributions=param_grid,\n",
    "    n_iter=10,\n",
    "    n_jobs=-1,\n",
    "    scoring=scorer,\n",
    "    cv=5,\n",
    "    random_state=1,\n",
    ")\n",
    "\n",
    "# Fitting parameters in RandomizedSearchCV\n",
    "randomized_cv.fit(X_train_over, y_train_over)\n",
    "\n",
    "print(\n",
    "    \"Best parameters are {} with CV score={}:\".format(\n",
    "        randomized_cv.best_params_, randomized_cv.best_score_\n",
    "    )\n",
    ")"
   ]
  },
  {
   "cell_type": "code",
   "execution_count": 43,
   "id": "4b21f791",
   "metadata": {},
   "outputs": [
    {
     "data": {
      "text/plain": [
       "XGBClassifier(base_score=0.5, booster='gbtree', colsample_bylevel=1,\n",
       "              colsample_bynode=1, colsample_bytree=1, enable_categorical=False,\n",
       "              eval_metric='logloss', gamma=3, gpu_id=-1, importance_type=None,\n",
       "              interaction_constraints='', learning_rate=0.1, max_delta_step=0,\n",
       "              max_depth=6, min_child_weight=1, missing=nan,\n",
       "              monotone_constraints='()', n_estimators=250, n_jobs=8,\n",
       "              num_parallel_tree=1, predictor='auto', random_state=1,\n",
       "              reg_alpha=0, reg_lambda=1, scale_pos_weight=5, subsample=0.9,\n",
       "              tree_method='exact', validate_parameters=1, verbosity=None)"
      ]
     },
     "execution_count": 43,
     "metadata": {},
     "output_type": "execute_result"
    },
    {
     "data": {
      "application/javascript": [
       "\n",
       "            setTimeout(function() {\n",
       "                var nbb_cell_id = 43;\n",
       "                var nbb_unformatted_code = \"# Creating new pipeline with best parameters\\ntuned_x_over = XGBClassifier(\\n    random_state=1,\\n    subsample=0.9,\\n    scale_pos_weight=5,\\n    n_estimators=250,\\n    learning_rate=0.1,\\n    gamma=3,\\n    eval_metric=\\\"logloss\\\",\\n)\\n\\ntuned_x_over.fit(X_train_over, y_train_over)\";\n",
       "                var nbb_formatted_code = \"# Creating new pipeline with best parameters\\ntuned_x_over = XGBClassifier(\\n    random_state=1,\\n    subsample=0.9,\\n    scale_pos_weight=5,\\n    n_estimators=250,\\n    learning_rate=0.1,\\n    gamma=3,\\n    eval_metric=\\\"logloss\\\",\\n)\\n\\ntuned_x_over.fit(X_train_over, y_train_over)\";\n",
       "                var nbb_cells = Jupyter.notebook.get_cells();\n",
       "                for (var i = 0; i < nbb_cells.length; ++i) {\n",
       "                    if (nbb_cells[i].input_prompt_number == nbb_cell_id) {\n",
       "                        if (nbb_cells[i].get_text() == nbb_unformatted_code) {\n",
       "                             nbb_cells[i].set_text(nbb_formatted_code);\n",
       "                        }\n",
       "                        break;\n",
       "                    }\n",
       "                }\n",
       "            }, 500);\n",
       "            "
      ],
      "text/plain": [
       "<IPython.core.display.Javascript object>"
      ]
     },
     "metadata": {},
     "output_type": "display_data"
    }
   ],
   "source": [
    "# Creating new pipeline with best parameters\n",
    "tuned_x_over = XGBClassifier(\n",
    "    random_state=1,\n",
    "    subsample=0.9,\n",
    "    scale_pos_weight=5,\n",
    "    n_estimators=250,\n",
    "    learning_rate=0.1,\n",
    "    gamma=3,\n",
    "    eval_metric=\"logloss\",\n",
    ")\n",
    "\n",
    "tuned_x_over.fit(X_train_over, y_train_over)"
   ]
  },
  {
   "cell_type": "code",
   "execution_count": 44,
   "id": "99718288",
   "metadata": {
    "scrolled": true
   },
   "outputs": [
    {
     "data": {
      "text/html": [
       "<div>\n",
       "<style scoped>\n",
       "    .dataframe tbody tr th:only-of-type {\n",
       "        vertical-align: middle;\n",
       "    }\n",
       "\n",
       "    .dataframe tbody tr th {\n",
       "        vertical-align: top;\n",
       "    }\n",
       "\n",
       "    .dataframe thead th {\n",
       "        text-align: right;\n",
       "    }\n",
       "</style>\n",
       "<table border=\"1\" class=\"dataframe\">\n",
       "  <thead>\n",
       "    <tr style=\"text-align: right;\">\n",
       "      <th></th>\n",
       "      <th>Accuracy</th>\n",
       "      <th>Recall</th>\n",
       "      <th>Precision</th>\n",
       "      <th>F1</th>\n",
       "    </tr>\n",
       "  </thead>\n",
       "  <tbody>\n",
       "    <tr>\n",
       "      <th>0</th>\n",
       "      <td>0.905</td>\n",
       "      <td>0.925</td>\n",
       "      <td>0.740</td>\n",
       "      <td>0.822</td>\n",
       "    </tr>\n",
       "  </tbody>\n",
       "</table>\n",
       "</div>"
      ],
      "text/plain": [
       "   Accuracy  Recall  Precision    F1\n",
       "0     0.905   0.925      0.740 0.822"
      ]
     },
     "execution_count": 44,
     "metadata": {},
     "output_type": "execute_result"
    },
    {
     "data": {
      "application/javascript": [
       "\n",
       "            setTimeout(function() {\n",
       "                var nbb_cell_id = 44;\n",
       "                var nbb_unformatted_code = \"x_over_val_perf = model_performance_classification_sklearn(tuned_x_over, X_val, y_val)\\nx_over_val_perf\";\n",
       "                var nbb_formatted_code = \"x_over_val_perf = model_performance_classification_sklearn(tuned_x_over, X_val, y_val)\\nx_over_val_perf\";\n",
       "                var nbb_cells = Jupyter.notebook.get_cells();\n",
       "                for (var i = 0; i < nbb_cells.length; ++i) {\n",
       "                    if (nbb_cells[i].input_prompt_number == nbb_cell_id) {\n",
       "                        if (nbb_cells[i].get_text() == nbb_unformatted_code) {\n",
       "                             nbb_cells[i].set_text(nbb_formatted_code);\n",
       "                        }\n",
       "                        break;\n",
       "                    }\n",
       "                }\n",
       "            }, 500);\n",
       "            "
      ],
      "text/plain": [
       "<IPython.core.display.Javascript object>"
      ]
     },
     "metadata": {},
     "output_type": "display_data"
    }
   ],
   "source": [
    "x_over_val_perf = model_performance_classification_sklearn(tuned_x_over, X_val, y_val)\n",
    "x_over_val_perf"
   ]
  },
  {
   "cell_type": "code",
   "execution_count": 51,
   "id": "af9e3f0f",
   "metadata": {},
   "outputs": [
    {
     "data": {
      "text/html": [
       "<div>\n",
       "<style scoped>\n",
       "    .dataframe tbody tr th:only-of-type {\n",
       "        vertical-align: middle;\n",
       "    }\n",
       "\n",
       "    .dataframe tbody tr th {\n",
       "        vertical-align: top;\n",
       "    }\n",
       "\n",
       "    .dataframe thead th {\n",
       "        text-align: right;\n",
       "    }\n",
       "</style>\n",
       "<table border=\"1\" class=\"dataframe\">\n",
       "  <thead>\n",
       "    <tr style=\"text-align: right;\">\n",
       "      <th></th>\n",
       "      <th>ID</th>\n",
       "      <th>default</th>\n",
       "    </tr>\n",
       "  </thead>\n",
       "  <tbody>\n",
       "    <tr>\n",
       "      <th>0</th>\n",
       "      <td>4855329</td>\n",
       "      <td>1</td>\n",
       "    </tr>\n",
       "    <tr>\n",
       "      <th>1</th>\n",
       "      <td>66862420</td>\n",
       "      <td>0</td>\n",
       "    </tr>\n",
       "    <tr>\n",
       "      <th>2</th>\n",
       "      <td>3637416</td>\n",
       "      <td>0</td>\n",
       "    </tr>\n",
       "    <tr>\n",
       "      <th>3</th>\n",
       "      <td>53682249</td>\n",
       "      <td>1</td>\n",
       "    </tr>\n",
       "    <tr>\n",
       "      <th>4</th>\n",
       "      <td>53937165</td>\n",
       "      <td>0</td>\n",
       "    </tr>\n",
       "    <tr>\n",
       "      <th>...</th>\n",
       "      <td>...</td>\n",
       "      <td>...</td>\n",
       "    </tr>\n",
       "    <tr>\n",
       "      <th>39928</th>\n",
       "      <td>57779318</td>\n",
       "      <td>1</td>\n",
       "    </tr>\n",
       "    <tr>\n",
       "      <th>39929</th>\n",
       "      <td>59742362</td>\n",
       "      <td>1</td>\n",
       "    </tr>\n",
       "    <tr>\n",
       "      <th>39930</th>\n",
       "      <td>72657145</td>\n",
       "      <td>1</td>\n",
       "    </tr>\n",
       "    <tr>\n",
       "      <th>39931</th>\n",
       "      <td>15220189</td>\n",
       "      <td>1</td>\n",
       "    </tr>\n",
       "    <tr>\n",
       "      <th>39932</th>\n",
       "      <td>21810584</td>\n",
       "      <td>1</td>\n",
       "    </tr>\n",
       "  </tbody>\n",
       "</table>\n",
       "<p>39933 rows × 2 columns</p>\n",
       "</div>"
      ],
      "text/plain": [
       "             ID  default\n",
       "0       4855329        1\n",
       "1      66862420        0\n",
       "2       3637416        0\n",
       "3      53682249        1\n",
       "4      53937165        0\n",
       "...         ...      ...\n",
       "39928  57779318        1\n",
       "39929  59742362        1\n",
       "39930  72657145        1\n",
       "39931  15220189        1\n",
       "39932  21810584        1\n",
       "\n",
       "[39933 rows x 2 columns]"
      ]
     },
     "execution_count": 51,
     "metadata": {},
     "output_type": "execute_result"
    },
    {
     "data": {
      "application/javascript": [
       "\n",
       "            setTimeout(function() {\n",
       "                var nbb_cell_id = 51;\n",
       "                var nbb_unformatted_code = \"sample_submission\";\n",
       "                var nbb_formatted_code = \"sample_submission\";\n",
       "                var nbb_cells = Jupyter.notebook.get_cells();\n",
       "                for (var i = 0; i < nbb_cells.length; ++i) {\n",
       "                    if (nbb_cells[i].input_prompt_number == nbb_cell_id) {\n",
       "                        if (nbb_cells[i].get_text() == nbb_unformatted_code) {\n",
       "                             nbb_cells[i].set_text(nbb_formatted_code);\n",
       "                        }\n",
       "                        break;\n",
       "                    }\n",
       "                }\n",
       "            }, 500);\n",
       "            "
      ],
      "text/plain": [
       "<IPython.core.display.Javascript object>"
      ]
     },
     "metadata": {},
     "output_type": "display_data"
    }
   ],
   "source": [
    "sample_submission"
   ]
  },
  {
   "cell_type": "code",
   "execution_count": 50,
   "id": "0b8e0c2a",
   "metadata": {},
   "outputs": [
    {
     "data": {
      "text/html": [
       "<div>\n",
       "<style scoped>\n",
       "    .dataframe tbody tr th:only-of-type {\n",
       "        vertical-align: middle;\n",
       "    }\n",
       "\n",
       "    .dataframe tbody tr th {\n",
       "        vertical-align: top;\n",
       "    }\n",
       "\n",
       "    .dataframe thead th {\n",
       "        text-align: right;\n",
       "    }\n",
       "</style>\n",
       "<table border=\"1\" class=\"dataframe\">\n",
       "  <thead>\n",
       "    <tr style=\"text-align: right;\">\n",
       "      <th></th>\n",
       "      <th>ID</th>\n",
       "      <th>default</th>\n",
       "    </tr>\n",
       "  </thead>\n",
       "  <tbody>\n",
       "    <tr>\n",
       "      <th>0</th>\n",
       "      <td>4855329</td>\n",
       "      <td>1</td>\n",
       "    </tr>\n",
       "    <tr>\n",
       "      <th>1</th>\n",
       "      <td>66862420</td>\n",
       "      <td>0</td>\n",
       "    </tr>\n",
       "    <tr>\n",
       "      <th>2</th>\n",
       "      <td>3637416</td>\n",
       "      <td>1</td>\n",
       "    </tr>\n",
       "    <tr>\n",
       "      <th>3</th>\n",
       "      <td>53682249</td>\n",
       "      <td>0</td>\n",
       "    </tr>\n",
       "    <tr>\n",
       "      <th>4</th>\n",
       "      <td>53937165</td>\n",
       "      <td>0</td>\n",
       "    </tr>\n",
       "    <tr>\n",
       "      <th>...</th>\n",
       "      <td>...</td>\n",
       "      <td>...</td>\n",
       "    </tr>\n",
       "    <tr>\n",
       "      <th>39928</th>\n",
       "      <td>57779318</td>\n",
       "      <td>0</td>\n",
       "    </tr>\n",
       "    <tr>\n",
       "      <th>39929</th>\n",
       "      <td>59742362</td>\n",
       "      <td>0</td>\n",
       "    </tr>\n",
       "    <tr>\n",
       "      <th>39930</th>\n",
       "      <td>72657145</td>\n",
       "      <td>0</td>\n",
       "    </tr>\n",
       "    <tr>\n",
       "      <th>39931</th>\n",
       "      <td>15220189</td>\n",
       "      <td>0</td>\n",
       "    </tr>\n",
       "    <tr>\n",
       "      <th>39932</th>\n",
       "      <td>21810584</td>\n",
       "      <td>0</td>\n",
       "    </tr>\n",
       "  </tbody>\n",
       "</table>\n",
       "<p>39933 rows × 2 columns</p>\n",
       "</div>"
      ],
      "text/plain": [
       "             ID  default\n",
       "0       4855329        1\n",
       "1      66862420        0\n",
       "2       3637416        1\n",
       "3      53682249        0\n",
       "4      53937165        0\n",
       "...         ...      ...\n",
       "39928  57779318        0\n",
       "39929  59742362        0\n",
       "39930  72657145        0\n",
       "39931  15220189        0\n",
       "39932  21810584        0\n",
       "\n",
       "[39933 rows x 2 columns]"
      ]
     },
     "execution_count": 50,
     "metadata": {},
     "output_type": "execute_result"
    },
    {
     "data": {
      "application/javascript": [
       "\n",
       "            setTimeout(function() {\n",
       "                var nbb_cell_id = 50;\n",
       "                var nbb_unformatted_code = \"mypred = pd.DataFrame()\\n\\nmypred[\\\"ID\\\"] = test_set[\\\"ID\\\"]\\n\\nmypred[\\\"default\\\"] = tuned_x_over.predict(X_test)\\n\\nmypred\";\n",
       "                var nbb_formatted_code = \"mypred = pd.DataFrame()\\n\\nmypred[\\\"ID\\\"] = test_set[\\\"ID\\\"]\\n\\nmypred[\\\"default\\\"] = tuned_x_over.predict(X_test)\\n\\nmypred\";\n",
       "                var nbb_cells = Jupyter.notebook.get_cells();\n",
       "                for (var i = 0; i < nbb_cells.length; ++i) {\n",
       "                    if (nbb_cells[i].input_prompt_number == nbb_cell_id) {\n",
       "                        if (nbb_cells[i].get_text() == nbb_unformatted_code) {\n",
       "                             nbb_cells[i].set_text(nbb_formatted_code);\n",
       "                        }\n",
       "                        break;\n",
       "                    }\n",
       "                }\n",
       "            }, 500);\n",
       "            "
      ],
      "text/plain": [
       "<IPython.core.display.Javascript object>"
      ]
     },
     "metadata": {},
     "output_type": "display_data"
    }
   ],
   "source": [
    "mypred = pd.DataFrame()\n",
    "\n",
    "mypred[\"ID\"] = test_set[\"ID\"]\n",
    "\n",
    "mypred[\"default\"] = tuned_x_over.predict(X_test)\n",
    "\n",
    "mypred"
   ]
  },
  {
   "cell_type": "code",
   "execution_count": 53,
   "id": "d6d81d5d",
   "metadata": {},
   "outputs": [
    {
     "data": {
      "application/javascript": [
       "\n",
       "            setTimeout(function() {\n",
       "                var nbb_cell_id = 53;\n",
       "                var nbb_unformatted_code = \"mypred.to_csv(\\\"submit0.csv\\\", index=False)\";\n",
       "                var nbb_formatted_code = \"mypred.to_csv(\\\"submit0.csv\\\", index=False)\";\n",
       "                var nbb_cells = Jupyter.notebook.get_cells();\n",
       "                for (var i = 0; i < nbb_cells.length; ++i) {\n",
       "                    if (nbb_cells[i].input_prompt_number == nbb_cell_id) {\n",
       "                        if (nbb_cells[i].get_text() == nbb_unformatted_code) {\n",
       "                             nbb_cells[i].set_text(nbb_formatted_code);\n",
       "                        }\n",
       "                        break;\n",
       "                    }\n",
       "                }\n",
       "            }, 500);\n",
       "            "
      ],
      "text/plain": [
       "<IPython.core.display.Javascript object>"
      ]
     },
     "metadata": {},
     "output_type": "display_data"
    }
   ],
   "source": [
    "# Save predictions on hyper-tuned xgboost on oversampled data\n",
    "mypred.to_csv(\"submit0.csv\", index=False)"
   ]
  },
  {
   "cell_type": "markdown",
   "id": "33761def",
   "metadata": {},
   "source": [
    "# Submission Accuracy: 0.903889"
   ]
  },
  {
   "cell_type": "code",
   "execution_count": 54,
   "id": "f2c1d755",
   "metadata": {},
   "outputs": [
    {
     "data": {
      "application/javascript": [
       "\n",
       "            setTimeout(function() {\n",
       "                var nbb_cell_id = 54;\n",
       "                var nbb_unformatted_code = \"mypred[\\\"default\\\"] = tuned_x_under.predict(X_test)\\nmypred.to_csv(\\\"submit1.csv\\\", index=False)\";\n",
       "                var nbb_formatted_code = \"mypred[\\\"default\\\"] = tuned_x_under.predict(X_test)\\nmypred.to_csv(\\\"submit1.csv\\\", index=False)\";\n",
       "                var nbb_cells = Jupyter.notebook.get_cells();\n",
       "                for (var i = 0; i < nbb_cells.length; ++i) {\n",
       "                    if (nbb_cells[i].input_prompt_number == nbb_cell_id) {\n",
       "                        if (nbb_cells[i].get_text() == nbb_unformatted_code) {\n",
       "                             nbb_cells[i].set_text(nbb_formatted_code);\n",
       "                        }\n",
       "                        break;\n",
       "                    }\n",
       "                }\n",
       "            }, 500);\n",
       "            "
      ],
      "text/plain": [
       "<IPython.core.display.Javascript object>"
      ]
     },
     "metadata": {},
     "output_type": "display_data"
    }
   ],
   "source": [
    "# Create predictions on hyper-tuned xgboost on undersampled data\n",
    "mypred[\"default\"] = tuned_x_under.predict(X_test)\n",
    "mypred.to_csv(\"submit1.csv\", index=False)"
   ]
  },
  {
   "cell_type": "markdown",
   "id": "189e10d7",
   "metadata": {},
   "source": [
    "# Submission Accuracy: .8744146"
   ]
  },
  {
   "cell_type": "code",
   "execution_count": 63,
   "id": "033783c4",
   "metadata": {},
   "outputs": [
    {
     "data": {
      "text/html": [
       "<div>\n",
       "<style scoped>\n",
       "    .dataframe tbody tr th:only-of-type {\n",
       "        vertical-align: middle;\n",
       "    }\n",
       "\n",
       "    .dataframe tbody tr th {\n",
       "        vertical-align: top;\n",
       "    }\n",
       "\n",
       "    .dataframe thead th {\n",
       "        text-align: right;\n",
       "    }\n",
       "</style>\n",
       "<table border=\"1\" class=\"dataframe\">\n",
       "  <thead>\n",
       "    <tr style=\"text-align: right;\">\n",
       "      <th></th>\n",
       "      <th>ID</th>\n",
       "      <th>loan_amnt</th>\n",
       "      <th>loan_term</th>\n",
       "      <th>interest_rate</th>\n",
       "      <th>loan_subgrade</th>\n",
       "      <th>job_experience</th>\n",
       "      <th>annual_income</th>\n",
       "      <th>debt_to_income</th>\n",
       "      <th>delinq_2yrs</th>\n",
       "      <th>public_records</th>\n",
       "      <th>revolving_balance</th>\n",
       "      <th>total_acc</th>\n",
       "      <th>interest_receive</th>\n",
       "      <th>last_week_pay</th>\n",
       "      <th>total_current_balance</th>\n",
       "      <th>total_revolving_limit</th>\n",
       "      <th>home_ownership_NONE</th>\n",
       "      <th>home_ownership_OTHER</th>\n",
       "      <th>home_ownership_OWN</th>\n",
       "      <th>home_ownership_RENT</th>\n",
       "      <th>income_verification_status_Source Verified</th>\n",
       "      <th>income_verification_status_Verified</th>\n",
       "      <th>loan_purpose_debt_consolidation</th>\n",
       "      <th>loan_purpose_home_improvement</th>\n",
       "      <th>loan_purpose_other</th>\n",
       "      <th>state_code_AL</th>\n",
       "      <th>state_code_AR</th>\n",
       "      <th>state_code_AZ</th>\n",
       "      <th>state_code_CA</th>\n",
       "      <th>state_code_CO</th>\n",
       "      <th>state_code_CT</th>\n",
       "      <th>state_code_DC</th>\n",
       "      <th>state_code_DE</th>\n",
       "      <th>state_code_FL</th>\n",
       "      <th>state_code_GA</th>\n",
       "      <th>state_code_HI</th>\n",
       "      <th>state_code_ID</th>\n",
       "      <th>state_code_IL</th>\n",
       "      <th>state_code_IN</th>\n",
       "      <th>state_code_KS</th>\n",
       "      <th>state_code_KY</th>\n",
       "      <th>state_code_LA</th>\n",
       "      <th>state_code_MA</th>\n",
       "      <th>state_code_MD</th>\n",
       "      <th>state_code_ME</th>\n",
       "      <th>state_code_MI</th>\n",
       "      <th>state_code_MN</th>\n",
       "      <th>state_code_MO</th>\n",
       "      <th>state_code_MS</th>\n",
       "      <th>state_code_MT</th>\n",
       "      <th>state_code_NC</th>\n",
       "      <th>state_code_ND</th>\n",
       "      <th>state_code_NE</th>\n",
       "      <th>state_code_NH</th>\n",
       "      <th>state_code_NJ</th>\n",
       "      <th>state_code_NM</th>\n",
       "      <th>state_code_NV</th>\n",
       "      <th>state_code_NY</th>\n",
       "      <th>state_code_OH</th>\n",
       "      <th>state_code_OK</th>\n",
       "      <th>state_code_OR</th>\n",
       "      <th>state_code_PA</th>\n",
       "      <th>state_code_RI</th>\n",
       "      <th>state_code_SC</th>\n",
       "      <th>state_code_SD</th>\n",
       "      <th>state_code_TN</th>\n",
       "      <th>state_code_TX</th>\n",
       "      <th>state_code_UT</th>\n",
       "      <th>state_code_VA</th>\n",
       "      <th>state_code_VT</th>\n",
       "      <th>state_code_WA</th>\n",
       "      <th>state_code_WI</th>\n",
       "      <th>state_code_WV</th>\n",
       "      <th>state_code_WY</th>\n",
       "      <th>application_type_JOINT</th>\n",
       "    </tr>\n",
       "  </thead>\n",
       "  <tbody>\n",
       "    <tr>\n",
       "      <th>0</th>\n",
       "      <td>4855329</td>\n",
       "      <td>12000</td>\n",
       "      <td>3</td>\n",
       "      <td>15.310</td>\n",
       "      <td>7.900</td>\n",
       "      <td>1</td>\n",
       "      <td>73400.000</td>\n",
       "      <td>14.620</td>\n",
       "      <td>0.000</td>\n",
       "      <td>0.000</td>\n",
       "      <td>22156</td>\n",
       "      <td>30.000</td>\n",
       "      <td>2290.240</td>\n",
       "      <td>87.000</td>\n",
       "      <td>128098.000</td>\n",
       "      <td>25800.000</td>\n",
       "      <td>0</td>\n",
       "      <td>0</td>\n",
       "      <td>0</td>\n",
       "      <td>0</td>\n",
       "      <td>0</td>\n",
       "      <td>0</td>\n",
       "      <td>1</td>\n",
       "      <td>0</td>\n",
       "      <td>0</td>\n",
       "      <td>0</td>\n",
       "      <td>0</td>\n",
       "      <td>0</td>\n",
       "      <td>1</td>\n",
       "      <td>0</td>\n",
       "      <td>0</td>\n",
       "      <td>0</td>\n",
       "      <td>0</td>\n",
       "      <td>0</td>\n",
       "      <td>0</td>\n",
       "      <td>0</td>\n",
       "      <td>0</td>\n",
       "      <td>0</td>\n",
       "      <td>0</td>\n",
       "      <td>0</td>\n",
       "      <td>0</td>\n",
       "      <td>0</td>\n",
       "      <td>0</td>\n",
       "      <td>0</td>\n",
       "      <td>0</td>\n",
       "      <td>0</td>\n",
       "      <td>0</td>\n",
       "      <td>0</td>\n",
       "      <td>0</td>\n",
       "      <td>0</td>\n",
       "      <td>0</td>\n",
       "      <td>0</td>\n",
       "      <td>0</td>\n",
       "      <td>0</td>\n",
       "      <td>0</td>\n",
       "      <td>0</td>\n",
       "      <td>0</td>\n",
       "      <td>0</td>\n",
       "      <td>0</td>\n",
       "      <td>0</td>\n",
       "      <td>0</td>\n",
       "      <td>0</td>\n",
       "      <td>0</td>\n",
       "      <td>0</td>\n",
       "      <td>0</td>\n",
       "      <td>0</td>\n",
       "      <td>0</td>\n",
       "      <td>0</td>\n",
       "      <td>0</td>\n",
       "      <td>0</td>\n",
       "      <td>0</td>\n",
       "      <td>0</td>\n",
       "      <td>0</td>\n",
       "      <td>0</td>\n",
       "      <td>0</td>\n",
       "    </tr>\n",
       "    <tr>\n",
       "      <th>1</th>\n",
       "      <td>66862420</td>\n",
       "      <td>12000</td>\n",
       "      <td>3</td>\n",
       "      <td>7.260</td>\n",
       "      <td>9.700</td>\n",
       "      <td>3</td>\n",
       "      <td>105000.000</td>\n",
       "      <td>11.380</td>\n",
       "      <td>0.000</td>\n",
       "      <td>0.000</td>\n",
       "      <td>7592</td>\n",
       "      <td>14.000</td>\n",
       "      <td>202.680</td>\n",
       "      <td>13.000</td>\n",
       "      <td>269396.000</td>\n",
       "      <td>23600.000</td>\n",
       "      <td>0</td>\n",
       "      <td>0</td>\n",
       "      <td>0</td>\n",
       "      <td>0</td>\n",
       "      <td>0</td>\n",
       "      <td>0</td>\n",
       "      <td>0</td>\n",
       "      <td>0</td>\n",
       "      <td>0</td>\n",
       "      <td>0</td>\n",
       "      <td>0</td>\n",
       "      <td>0</td>\n",
       "      <td>0</td>\n",
       "      <td>0</td>\n",
       "      <td>0</td>\n",
       "      <td>0</td>\n",
       "      <td>0</td>\n",
       "      <td>0</td>\n",
       "      <td>0</td>\n",
       "      <td>0</td>\n",
       "      <td>0</td>\n",
       "      <td>0</td>\n",
       "      <td>0</td>\n",
       "      <td>0</td>\n",
       "      <td>0</td>\n",
       "      <td>0</td>\n",
       "      <td>0</td>\n",
       "      <td>0</td>\n",
       "      <td>0</td>\n",
       "      <td>0</td>\n",
       "      <td>0</td>\n",
       "      <td>0</td>\n",
       "      <td>0</td>\n",
       "      <td>0</td>\n",
       "      <td>0</td>\n",
       "      <td>0</td>\n",
       "      <td>0</td>\n",
       "      <td>0</td>\n",
       "      <td>0</td>\n",
       "      <td>0</td>\n",
       "      <td>0</td>\n",
       "      <td>0</td>\n",
       "      <td>0</td>\n",
       "      <td>0</td>\n",
       "      <td>0</td>\n",
       "      <td>0</td>\n",
       "      <td>0</td>\n",
       "      <td>0</td>\n",
       "      <td>0</td>\n",
       "      <td>0</td>\n",
       "      <td>0</td>\n",
       "      <td>0</td>\n",
       "      <td>1</td>\n",
       "      <td>0</td>\n",
       "      <td>0</td>\n",
       "      <td>0</td>\n",
       "      <td>0</td>\n",
       "      <td>0</td>\n",
       "      <td>0</td>\n",
       "    </tr>\n",
       "    <tr>\n",
       "      <th>2</th>\n",
       "      <td>3637416</td>\n",
       "      <td>15000</td>\n",
       "      <td>3</td>\n",
       "      <td>14.330</td>\n",
       "      <td>8.000</td>\n",
       "      <td>2</td>\n",
       "      <td>50000.000</td>\n",
       "      <td>28.150</td>\n",
       "      <td>0.000</td>\n",
       "      <td>1.000</td>\n",
       "      <td>17983</td>\n",
       "      <td>19.000</td>\n",
       "      <td>1166.240</td>\n",
       "      <td>30.000</td>\n",
       "      <td>220135.000</td>\n",
       "      <td>34100.000</td>\n",
       "      <td>0</td>\n",
       "      <td>0</td>\n",
       "      <td>0</td>\n",
       "      <td>0</td>\n",
       "      <td>0</td>\n",
       "      <td>1</td>\n",
       "      <td>1</td>\n",
       "      <td>0</td>\n",
       "      <td>0</td>\n",
       "      <td>0</td>\n",
       "      <td>0</td>\n",
       "      <td>0</td>\n",
       "      <td>0</td>\n",
       "      <td>0</td>\n",
       "      <td>0</td>\n",
       "      <td>0</td>\n",
       "      <td>0</td>\n",
       "      <td>0</td>\n",
       "      <td>0</td>\n",
       "      <td>0</td>\n",
       "      <td>0</td>\n",
       "      <td>0</td>\n",
       "      <td>0</td>\n",
       "      <td>0</td>\n",
       "      <td>0</td>\n",
       "      <td>0</td>\n",
       "      <td>0</td>\n",
       "      <td>0</td>\n",
       "      <td>0</td>\n",
       "      <td>0</td>\n",
       "      <td>0</td>\n",
       "      <td>0</td>\n",
       "      <td>0</td>\n",
       "      <td>0</td>\n",
       "      <td>0</td>\n",
       "      <td>0</td>\n",
       "      <td>0</td>\n",
       "      <td>0</td>\n",
       "      <td>0</td>\n",
       "      <td>0</td>\n",
       "      <td>0</td>\n",
       "      <td>0</td>\n",
       "      <td>0</td>\n",
       "      <td>0</td>\n",
       "      <td>0</td>\n",
       "      <td>0</td>\n",
       "      <td>0</td>\n",
       "      <td>0</td>\n",
       "      <td>0</td>\n",
       "      <td>0</td>\n",
       "      <td>1</td>\n",
       "      <td>0</td>\n",
       "      <td>0</td>\n",
       "      <td>0</td>\n",
       "      <td>0</td>\n",
       "      <td>0</td>\n",
       "      <td>0</td>\n",
       "      <td>0</td>\n",
       "      <td>0</td>\n",
       "    </tr>\n",
       "    <tr>\n",
       "      <th>3</th>\n",
       "      <td>53682249</td>\n",
       "      <td>12000</td>\n",
       "      <td>3</td>\n",
       "      <td>9.990</td>\n",
       "      <td>8.800</td>\n",
       "      <td>2</td>\n",
       "      <td>37000.000</td>\n",
       "      <td>34.320</td>\n",
       "      <td>0.000</td>\n",
       "      <td>0.000</td>\n",
       "      <td>12262</td>\n",
       "      <td>18.000</td>\n",
       "      <td>635.060</td>\n",
       "      <td>35.000</td>\n",
       "      <td>39436.000</td>\n",
       "      <td>21700.000</td>\n",
       "      <td>0</td>\n",
       "      <td>0</td>\n",
       "      <td>0</td>\n",
       "      <td>1</td>\n",
       "      <td>1</td>\n",
       "      <td>0</td>\n",
       "      <td>0</td>\n",
       "      <td>0</td>\n",
       "      <td>0</td>\n",
       "      <td>0</td>\n",
       "      <td>0</td>\n",
       "      <td>0</td>\n",
       "      <td>0</td>\n",
       "      <td>0</td>\n",
       "      <td>0</td>\n",
       "      <td>0</td>\n",
       "      <td>0</td>\n",
       "      <td>0</td>\n",
       "      <td>0</td>\n",
       "      <td>0</td>\n",
       "      <td>0</td>\n",
       "      <td>0</td>\n",
       "      <td>0</td>\n",
       "      <td>0</td>\n",
       "      <td>0</td>\n",
       "      <td>0</td>\n",
       "      <td>0</td>\n",
       "      <td>0</td>\n",
       "      <td>0</td>\n",
       "      <td>0</td>\n",
       "      <td>0</td>\n",
       "      <td>0</td>\n",
       "      <td>0</td>\n",
       "      <td>0</td>\n",
       "      <td>0</td>\n",
       "      <td>0</td>\n",
       "      <td>0</td>\n",
       "      <td>0</td>\n",
       "      <td>1</td>\n",
       "      <td>0</td>\n",
       "      <td>0</td>\n",
       "      <td>0</td>\n",
       "      <td>0</td>\n",
       "      <td>0</td>\n",
       "      <td>0</td>\n",
       "      <td>0</td>\n",
       "      <td>0</td>\n",
       "      <td>0</td>\n",
       "      <td>0</td>\n",
       "      <td>0</td>\n",
       "      <td>0</td>\n",
       "      <td>0</td>\n",
       "      <td>0</td>\n",
       "      <td>0</td>\n",
       "      <td>0</td>\n",
       "      <td>0</td>\n",
       "      <td>0</td>\n",
       "      <td>0</td>\n",
       "      <td>0</td>\n",
       "    </tr>\n",
       "    <tr>\n",
       "      <th>4</th>\n",
       "      <td>53937165</td>\n",
       "      <td>20150</td>\n",
       "      <td>3</td>\n",
       "      <td>11.530</td>\n",
       "      <td>8.600</td>\n",
       "      <td>1</td>\n",
       "      <td>75000.000</td>\n",
       "      <td>26.740</td>\n",
       "      <td>1.000</td>\n",
       "      <td>0.000</td>\n",
       "      <td>8251</td>\n",
       "      <td>11.000</td>\n",
       "      <td>1232.840</td>\n",
       "      <td>31.000</td>\n",
       "      <td>52764.000</td>\n",
       "      <td>12000.000</td>\n",
       "      <td>0</td>\n",
       "      <td>0</td>\n",
       "      <td>0</td>\n",
       "      <td>1</td>\n",
       "      <td>1</td>\n",
       "      <td>0</td>\n",
       "      <td>1</td>\n",
       "      <td>0</td>\n",
       "      <td>0</td>\n",
       "      <td>0</td>\n",
       "      <td>0</td>\n",
       "      <td>0</td>\n",
       "      <td>1</td>\n",
       "      <td>0</td>\n",
       "      <td>0</td>\n",
       "      <td>0</td>\n",
       "      <td>0</td>\n",
       "      <td>0</td>\n",
       "      <td>0</td>\n",
       "      <td>0</td>\n",
       "      <td>0</td>\n",
       "      <td>0</td>\n",
       "      <td>0</td>\n",
       "      <td>0</td>\n",
       "      <td>0</td>\n",
       "      <td>0</td>\n",
       "      <td>0</td>\n",
       "      <td>0</td>\n",
       "      <td>0</td>\n",
       "      <td>0</td>\n",
       "      <td>0</td>\n",
       "      <td>0</td>\n",
       "      <td>0</td>\n",
       "      <td>0</td>\n",
       "      <td>0</td>\n",
       "      <td>0</td>\n",
       "      <td>0</td>\n",
       "      <td>0</td>\n",
       "      <td>0</td>\n",
       "      <td>0</td>\n",
       "      <td>0</td>\n",
       "      <td>0</td>\n",
       "      <td>0</td>\n",
       "      <td>0</td>\n",
       "      <td>0</td>\n",
       "      <td>0</td>\n",
       "      <td>0</td>\n",
       "      <td>0</td>\n",
       "      <td>0</td>\n",
       "      <td>0</td>\n",
       "      <td>0</td>\n",
       "      <td>0</td>\n",
       "      <td>0</td>\n",
       "      <td>0</td>\n",
       "      <td>0</td>\n",
       "      <td>0</td>\n",
       "      <td>0</td>\n",
       "      <td>0</td>\n",
       "      <td>0</td>\n",
       "    </tr>\n",
       "    <tr>\n",
       "      <th>...</th>\n",
       "      <td>...</td>\n",
       "      <td>...</td>\n",
       "      <td>...</td>\n",
       "      <td>...</td>\n",
       "      <td>...</td>\n",
       "      <td>...</td>\n",
       "      <td>...</td>\n",
       "      <td>...</td>\n",
       "      <td>...</td>\n",
       "      <td>...</td>\n",
       "      <td>...</td>\n",
       "      <td>...</td>\n",
       "      <td>...</td>\n",
       "      <td>...</td>\n",
       "      <td>...</td>\n",
       "      <td>...</td>\n",
       "      <td>...</td>\n",
       "      <td>...</td>\n",
       "      <td>...</td>\n",
       "      <td>...</td>\n",
       "      <td>...</td>\n",
       "      <td>...</td>\n",
       "      <td>...</td>\n",
       "      <td>...</td>\n",
       "      <td>...</td>\n",
       "      <td>...</td>\n",
       "      <td>...</td>\n",
       "      <td>...</td>\n",
       "      <td>...</td>\n",
       "      <td>...</td>\n",
       "      <td>...</td>\n",
       "      <td>...</td>\n",
       "      <td>...</td>\n",
       "      <td>...</td>\n",
       "      <td>...</td>\n",
       "      <td>...</td>\n",
       "      <td>...</td>\n",
       "      <td>...</td>\n",
       "      <td>...</td>\n",
       "      <td>...</td>\n",
       "      <td>...</td>\n",
       "      <td>...</td>\n",
       "      <td>...</td>\n",
       "      <td>...</td>\n",
       "      <td>...</td>\n",
       "      <td>...</td>\n",
       "      <td>...</td>\n",
       "      <td>...</td>\n",
       "      <td>...</td>\n",
       "      <td>...</td>\n",
       "      <td>...</td>\n",
       "      <td>...</td>\n",
       "      <td>...</td>\n",
       "      <td>...</td>\n",
       "      <td>...</td>\n",
       "      <td>...</td>\n",
       "      <td>...</td>\n",
       "      <td>...</td>\n",
       "      <td>...</td>\n",
       "      <td>...</td>\n",
       "      <td>...</td>\n",
       "      <td>...</td>\n",
       "      <td>...</td>\n",
       "      <td>...</td>\n",
       "      <td>...</td>\n",
       "      <td>...</td>\n",
       "      <td>...</td>\n",
       "      <td>...</td>\n",
       "      <td>...</td>\n",
       "      <td>...</td>\n",
       "      <td>...</td>\n",
       "      <td>...</td>\n",
       "      <td>...</td>\n",
       "      <td>...</td>\n",
       "      <td>...</td>\n",
       "    </tr>\n",
       "    <tr>\n",
       "      <th>39928</th>\n",
       "      <td>57779318</td>\n",
       "      <td>5000</td>\n",
       "      <td>3</td>\n",
       "      <td>8.180</td>\n",
       "      <td>9.000</td>\n",
       "      <td>3</td>\n",
       "      <td>65000.000</td>\n",
       "      <td>13.090</td>\n",
       "      <td>0.000</td>\n",
       "      <td>5.000</td>\n",
       "      <td>6731</td>\n",
       "      <td>24.000</td>\n",
       "      <td>187.270</td>\n",
       "      <td>26.000</td>\n",
       "      <td>14422.000</td>\n",
       "      <td>26100.000</td>\n",
       "      <td>0</td>\n",
       "      <td>0</td>\n",
       "      <td>0</td>\n",
       "      <td>0</td>\n",
       "      <td>1</td>\n",
       "      <td>0</td>\n",
       "      <td>0</td>\n",
       "      <td>1</td>\n",
       "      <td>0</td>\n",
       "      <td>0</td>\n",
       "      <td>0</td>\n",
       "      <td>0</td>\n",
       "      <td>0</td>\n",
       "      <td>0</td>\n",
       "      <td>0</td>\n",
       "      <td>0</td>\n",
       "      <td>0</td>\n",
       "      <td>0</td>\n",
       "      <td>0</td>\n",
       "      <td>0</td>\n",
       "      <td>0</td>\n",
       "      <td>0</td>\n",
       "      <td>0</td>\n",
       "      <td>0</td>\n",
       "      <td>0</td>\n",
       "      <td>0</td>\n",
       "      <td>0</td>\n",
       "      <td>0</td>\n",
       "      <td>0</td>\n",
       "      <td>1</td>\n",
       "      <td>0</td>\n",
       "      <td>0</td>\n",
       "      <td>0</td>\n",
       "      <td>0</td>\n",
       "      <td>0</td>\n",
       "      <td>0</td>\n",
       "      <td>0</td>\n",
       "      <td>0</td>\n",
       "      <td>0</td>\n",
       "      <td>0</td>\n",
       "      <td>0</td>\n",
       "      <td>0</td>\n",
       "      <td>0</td>\n",
       "      <td>0</td>\n",
       "      <td>0</td>\n",
       "      <td>0</td>\n",
       "      <td>0</td>\n",
       "      <td>0</td>\n",
       "      <td>0</td>\n",
       "      <td>0</td>\n",
       "      <td>0</td>\n",
       "      <td>0</td>\n",
       "      <td>0</td>\n",
       "      <td>0</td>\n",
       "      <td>0</td>\n",
       "      <td>0</td>\n",
       "      <td>0</td>\n",
       "      <td>0</td>\n",
       "      <td>0</td>\n",
       "    </tr>\n",
       "    <tr>\n",
       "      <th>39929</th>\n",
       "      <td>59742362</td>\n",
       "      <td>1800</td>\n",
       "      <td>3</td>\n",
       "      <td>11.530</td>\n",
       "      <td>8.600</td>\n",
       "      <td>2</td>\n",
       "      <td>55000.000</td>\n",
       "      <td>25.440</td>\n",
       "      <td>0.000</td>\n",
       "      <td>1.000</td>\n",
       "      <td>11092</td>\n",
       "      <td>38.000</td>\n",
       "      <td>81.240</td>\n",
       "      <td>26.000</td>\n",
       "      <td>243469.000</td>\n",
       "      <td>29200.000</td>\n",
       "      <td>0</td>\n",
       "      <td>0</td>\n",
       "      <td>0</td>\n",
       "      <td>0</td>\n",
       "      <td>1</td>\n",
       "      <td>0</td>\n",
       "      <td>0</td>\n",
       "      <td>1</td>\n",
       "      <td>0</td>\n",
       "      <td>0</td>\n",
       "      <td>0</td>\n",
       "      <td>1</td>\n",
       "      <td>0</td>\n",
       "      <td>0</td>\n",
       "      <td>0</td>\n",
       "      <td>0</td>\n",
       "      <td>0</td>\n",
       "      <td>0</td>\n",
       "      <td>0</td>\n",
       "      <td>0</td>\n",
       "      <td>0</td>\n",
       "      <td>0</td>\n",
       "      <td>0</td>\n",
       "      <td>0</td>\n",
       "      <td>0</td>\n",
       "      <td>0</td>\n",
       "      <td>0</td>\n",
       "      <td>0</td>\n",
       "      <td>0</td>\n",
       "      <td>0</td>\n",
       "      <td>0</td>\n",
       "      <td>0</td>\n",
       "      <td>0</td>\n",
       "      <td>0</td>\n",
       "      <td>0</td>\n",
       "      <td>0</td>\n",
       "      <td>0</td>\n",
       "      <td>0</td>\n",
       "      <td>0</td>\n",
       "      <td>0</td>\n",
       "      <td>0</td>\n",
       "      <td>0</td>\n",
       "      <td>0</td>\n",
       "      <td>0</td>\n",
       "      <td>0</td>\n",
       "      <td>0</td>\n",
       "      <td>0</td>\n",
       "      <td>0</td>\n",
       "      <td>0</td>\n",
       "      <td>0</td>\n",
       "      <td>0</td>\n",
       "      <td>0</td>\n",
       "      <td>0</td>\n",
       "      <td>0</td>\n",
       "      <td>0</td>\n",
       "      <td>0</td>\n",
       "      <td>0</td>\n",
       "      <td>0</td>\n",
       "      <td>0</td>\n",
       "    </tr>\n",
       "    <tr>\n",
       "      <th>39930</th>\n",
       "      <td>72657145</td>\n",
       "      <td>15200</td>\n",
       "      <td>3</td>\n",
       "      <td>13.440</td>\n",
       "      <td>7.800</td>\n",
       "      <td>3</td>\n",
       "      <td>78000.000</td>\n",
       "      <td>19.400</td>\n",
       "      <td>0.000</td>\n",
       "      <td>0.000</td>\n",
       "      <td>19688</td>\n",
       "      <td>26.000</td>\n",
       "      <td>0.000</td>\n",
       "      <td>NaN</td>\n",
       "      <td>145370.000</td>\n",
       "      <td>45400.000</td>\n",
       "      <td>0</td>\n",
       "      <td>0</td>\n",
       "      <td>0</td>\n",
       "      <td>0</td>\n",
       "      <td>0</td>\n",
       "      <td>0</td>\n",
       "      <td>0</td>\n",
       "      <td>0</td>\n",
       "      <td>0</td>\n",
       "      <td>0</td>\n",
       "      <td>0</td>\n",
       "      <td>0</td>\n",
       "      <td>0</td>\n",
       "      <td>0</td>\n",
       "      <td>0</td>\n",
       "      <td>0</td>\n",
       "      <td>0</td>\n",
       "      <td>0</td>\n",
       "      <td>0</td>\n",
       "      <td>0</td>\n",
       "      <td>0</td>\n",
       "      <td>0</td>\n",
       "      <td>0</td>\n",
       "      <td>0</td>\n",
       "      <td>0</td>\n",
       "      <td>0</td>\n",
       "      <td>0</td>\n",
       "      <td>0</td>\n",
       "      <td>0</td>\n",
       "      <td>0</td>\n",
       "      <td>0</td>\n",
       "      <td>0</td>\n",
       "      <td>0</td>\n",
       "      <td>0</td>\n",
       "      <td>0</td>\n",
       "      <td>0</td>\n",
       "      <td>0</td>\n",
       "      <td>0</td>\n",
       "      <td>0</td>\n",
       "      <td>0</td>\n",
       "      <td>0</td>\n",
       "      <td>0</td>\n",
       "      <td>0</td>\n",
       "      <td>0</td>\n",
       "      <td>0</td>\n",
       "      <td>0</td>\n",
       "      <td>0</td>\n",
       "      <td>0</td>\n",
       "      <td>0</td>\n",
       "      <td>0</td>\n",
       "      <td>1</td>\n",
       "      <td>0</td>\n",
       "      <td>0</td>\n",
       "      <td>0</td>\n",
       "      <td>0</td>\n",
       "      <td>0</td>\n",
       "      <td>0</td>\n",
       "      <td>0</td>\n",
       "      <td>0</td>\n",
       "    </tr>\n",
       "    <tr>\n",
       "      <th>39931</th>\n",
       "      <td>15220189</td>\n",
       "      <td>14425</td>\n",
       "      <td>5</td>\n",
       "      <td>18.920</td>\n",
       "      <td>6.700</td>\n",
       "      <td>1</td>\n",
       "      <td>38000.000</td>\n",
       "      <td>17.400</td>\n",
       "      <td>0.000</td>\n",
       "      <td>1.000</td>\n",
       "      <td>10805</td>\n",
       "      <td>29.000</td>\n",
       "      <td>4268.800</td>\n",
       "      <td>96.000</td>\n",
       "      <td>106449.000</td>\n",
       "      <td>19700.000</td>\n",
       "      <td>0</td>\n",
       "      <td>0</td>\n",
       "      <td>0</td>\n",
       "      <td>0</td>\n",
       "      <td>0</td>\n",
       "      <td>0</td>\n",
       "      <td>0</td>\n",
       "      <td>0</td>\n",
       "      <td>0</td>\n",
       "      <td>0</td>\n",
       "      <td>0</td>\n",
       "      <td>0</td>\n",
       "      <td>0</td>\n",
       "      <td>0</td>\n",
       "      <td>0</td>\n",
       "      <td>0</td>\n",
       "      <td>0</td>\n",
       "      <td>0</td>\n",
       "      <td>0</td>\n",
       "      <td>0</td>\n",
       "      <td>0</td>\n",
       "      <td>0</td>\n",
       "      <td>1</td>\n",
       "      <td>0</td>\n",
       "      <td>0</td>\n",
       "      <td>0</td>\n",
       "      <td>0</td>\n",
       "      <td>0</td>\n",
       "      <td>0</td>\n",
       "      <td>0</td>\n",
       "      <td>0</td>\n",
       "      <td>0</td>\n",
       "      <td>0</td>\n",
       "      <td>0</td>\n",
       "      <td>0</td>\n",
       "      <td>0</td>\n",
       "      <td>0</td>\n",
       "      <td>0</td>\n",
       "      <td>0</td>\n",
       "      <td>0</td>\n",
       "      <td>0</td>\n",
       "      <td>0</td>\n",
       "      <td>0</td>\n",
       "      <td>0</td>\n",
       "      <td>0</td>\n",
       "      <td>0</td>\n",
       "      <td>0</td>\n",
       "      <td>0</td>\n",
       "      <td>0</td>\n",
       "      <td>0</td>\n",
       "      <td>0</td>\n",
       "      <td>0</td>\n",
       "      <td>0</td>\n",
       "      <td>0</td>\n",
       "      <td>0</td>\n",
       "      <td>0</td>\n",
       "      <td>0</td>\n",
       "      <td>0</td>\n",
       "      <td>0</td>\n",
       "    </tr>\n",
       "    <tr>\n",
       "      <th>39932</th>\n",
       "      <td>21810584</td>\n",
       "      <td>27000</td>\n",
       "      <td>5</td>\n",
       "      <td>20.200</td>\n",
       "      <td>5.800</td>\n",
       "      <td>1</td>\n",
       "      <td>62000.000</td>\n",
       "      <td>24.120</td>\n",
       "      <td>1.000</td>\n",
       "      <td>0.000</td>\n",
       "      <td>17795</td>\n",
       "      <td>17.000</td>\n",
       "      <td>7436.410</td>\n",
       "      <td>78.000</td>\n",
       "      <td>55787.000</td>\n",
       "      <td>33500.000</td>\n",
       "      <td>0</td>\n",
       "      <td>0</td>\n",
       "      <td>0</td>\n",
       "      <td>0</td>\n",
       "      <td>1</td>\n",
       "      <td>0</td>\n",
       "      <td>1</td>\n",
       "      <td>0</td>\n",
       "      <td>0</td>\n",
       "      <td>0</td>\n",
       "      <td>0</td>\n",
       "      <td>0</td>\n",
       "      <td>0</td>\n",
       "      <td>0</td>\n",
       "      <td>0</td>\n",
       "      <td>0</td>\n",
       "      <td>0</td>\n",
       "      <td>1</td>\n",
       "      <td>0</td>\n",
       "      <td>0</td>\n",
       "      <td>0</td>\n",
       "      <td>0</td>\n",
       "      <td>0</td>\n",
       "      <td>0</td>\n",
       "      <td>0</td>\n",
       "      <td>0</td>\n",
       "      <td>0</td>\n",
       "      <td>0</td>\n",
       "      <td>0</td>\n",
       "      <td>0</td>\n",
       "      <td>0</td>\n",
       "      <td>0</td>\n",
       "      <td>0</td>\n",
       "      <td>0</td>\n",
       "      <td>0</td>\n",
       "      <td>0</td>\n",
       "      <td>0</td>\n",
       "      <td>0</td>\n",
       "      <td>0</td>\n",
       "      <td>0</td>\n",
       "      <td>0</td>\n",
       "      <td>0</td>\n",
       "      <td>0</td>\n",
       "      <td>0</td>\n",
       "      <td>0</td>\n",
       "      <td>0</td>\n",
       "      <td>0</td>\n",
       "      <td>0</td>\n",
       "      <td>0</td>\n",
       "      <td>0</td>\n",
       "      <td>0</td>\n",
       "      <td>0</td>\n",
       "      <td>0</td>\n",
       "      <td>0</td>\n",
       "      <td>0</td>\n",
       "      <td>0</td>\n",
       "      <td>0</td>\n",
       "      <td>0</td>\n",
       "      <td>0</td>\n",
       "    </tr>\n",
       "  </tbody>\n",
       "</table>\n",
       "<p>39933 rows × 75 columns</p>\n",
       "</div>"
      ],
      "text/plain": [
       "             ID  loan_amnt  loan_term  interest_rate  loan_subgrade  \\\n",
       "0       4855329      12000          3         15.310          7.900   \n",
       "1      66862420      12000          3          7.260          9.700   \n",
       "2       3637416      15000          3         14.330          8.000   \n",
       "3      53682249      12000          3          9.990          8.800   \n",
       "4      53937165      20150          3         11.530          8.600   \n",
       "...         ...        ...        ...            ...            ...   \n",
       "39928  57779318       5000          3          8.180          9.000   \n",
       "39929  59742362       1800          3         11.530          8.600   \n",
       "39930  72657145      15200          3         13.440          7.800   \n",
       "39931  15220189      14425          5         18.920          6.700   \n",
       "39932  21810584      27000          5         20.200          5.800   \n",
       "\n",
       "       job_experience  annual_income  debt_to_income  delinq_2yrs  \\\n",
       "0                   1      73400.000          14.620        0.000   \n",
       "1                   3     105000.000          11.380        0.000   \n",
       "2                   2      50000.000          28.150        0.000   \n",
       "3                   2      37000.000          34.320        0.000   \n",
       "4                   1      75000.000          26.740        1.000   \n",
       "...               ...            ...             ...          ...   \n",
       "39928               3      65000.000          13.090        0.000   \n",
       "39929               2      55000.000          25.440        0.000   \n",
       "39930               3      78000.000          19.400        0.000   \n",
       "39931               1      38000.000          17.400        0.000   \n",
       "39932               1      62000.000          24.120        1.000   \n",
       "\n",
       "       public_records  revolving_balance  total_acc  interest_receive  \\\n",
       "0               0.000              22156     30.000          2290.240   \n",
       "1               0.000               7592     14.000           202.680   \n",
       "2               1.000              17983     19.000          1166.240   \n",
       "3               0.000              12262     18.000           635.060   \n",
       "4               0.000               8251     11.000          1232.840   \n",
       "...               ...                ...        ...               ...   \n",
       "39928           5.000               6731     24.000           187.270   \n",
       "39929           1.000              11092     38.000            81.240   \n",
       "39930           0.000              19688     26.000             0.000   \n",
       "39931           1.000              10805     29.000          4268.800   \n",
       "39932           0.000              17795     17.000          7436.410   \n",
       "\n",
       "       last_week_pay  total_current_balance  total_revolving_limit  \\\n",
       "0             87.000             128098.000              25800.000   \n",
       "1             13.000             269396.000              23600.000   \n",
       "2             30.000             220135.000              34100.000   \n",
       "3             35.000              39436.000              21700.000   \n",
       "4             31.000              52764.000              12000.000   \n",
       "...              ...                    ...                    ...   \n",
       "39928         26.000              14422.000              26100.000   \n",
       "39929         26.000             243469.000              29200.000   \n",
       "39930            NaN             145370.000              45400.000   \n",
       "39931         96.000             106449.000              19700.000   \n",
       "39932         78.000              55787.000              33500.000   \n",
       "\n",
       "       home_ownership_NONE  home_ownership_OTHER  home_ownership_OWN  \\\n",
       "0                        0                     0                   0   \n",
       "1                        0                     0                   0   \n",
       "2                        0                     0                   0   \n",
       "3                        0                     0                   0   \n",
       "4                        0                     0                   0   \n",
       "...                    ...                   ...                 ...   \n",
       "39928                    0                     0                   0   \n",
       "39929                    0                     0                   0   \n",
       "39930                    0                     0                   0   \n",
       "39931                    0                     0                   0   \n",
       "39932                    0                     0                   0   \n",
       "\n",
       "       home_ownership_RENT  income_verification_status_Source Verified  \\\n",
       "0                        0                                           0   \n",
       "1                        0                                           0   \n",
       "2                        0                                           0   \n",
       "3                        1                                           1   \n",
       "4                        1                                           1   \n",
       "...                    ...                                         ...   \n",
       "39928                    0                                           1   \n",
       "39929                    0                                           1   \n",
       "39930                    0                                           0   \n",
       "39931                    0                                           0   \n",
       "39932                    0                                           1   \n",
       "\n",
       "       income_verification_status_Verified  loan_purpose_debt_consolidation  \\\n",
       "0                                        0                                1   \n",
       "1                                        0                                0   \n",
       "2                                        1                                1   \n",
       "3                                        0                                0   \n",
       "4                                        0                                1   \n",
       "...                                    ...                              ...   \n",
       "39928                                    0                                0   \n",
       "39929                                    0                                0   \n",
       "39930                                    0                                0   \n",
       "39931                                    0                                0   \n",
       "39932                                    0                                1   \n",
       "\n",
       "       loan_purpose_home_improvement  loan_purpose_other  state_code_AL  \\\n",
       "0                                  0                   0              0   \n",
       "1                                  0                   0              0   \n",
       "2                                  0                   0              0   \n",
       "3                                  0                   0              0   \n",
       "4                                  0                   0              0   \n",
       "...                              ...                 ...            ...   \n",
       "39928                              1                   0              0   \n",
       "39929                              1                   0              0   \n",
       "39930                              0                   0              0   \n",
       "39931                              0                   0              0   \n",
       "39932                              0                   0              0   \n",
       "\n",
       "       state_code_AR  state_code_AZ  state_code_CA  state_code_CO  \\\n",
       "0                  0              0              1              0   \n",
       "1                  0              0              0              0   \n",
       "2                  0              0              0              0   \n",
       "3                  0              0              0              0   \n",
       "4                  0              0              1              0   \n",
       "...              ...            ...            ...            ...   \n",
       "39928              0              0              0              0   \n",
       "39929              0              1              0              0   \n",
       "39930              0              0              0              0   \n",
       "39931              0              0              0              0   \n",
       "39932              0              0              0              0   \n",
       "\n",
       "       state_code_CT  state_code_DC  state_code_DE  state_code_FL  \\\n",
       "0                  0              0              0              0   \n",
       "1                  0              0              0              0   \n",
       "2                  0              0              0              0   \n",
       "3                  0              0              0              0   \n",
       "4                  0              0              0              0   \n",
       "...              ...            ...            ...            ...   \n",
       "39928              0              0              0              0   \n",
       "39929              0              0              0              0   \n",
       "39930              0              0              0              0   \n",
       "39931              0              0              0              0   \n",
       "39932              0              0              0              1   \n",
       "\n",
       "       state_code_GA  state_code_HI  state_code_ID  state_code_IL  \\\n",
       "0                  0              0              0              0   \n",
       "1                  0              0              0              0   \n",
       "2                  0              0              0              0   \n",
       "3                  0              0              0              0   \n",
       "4                  0              0              0              0   \n",
       "...              ...            ...            ...            ...   \n",
       "39928              0              0              0              0   \n",
       "39929              0              0              0              0   \n",
       "39930              0              0              0              0   \n",
       "39931              0              0              0              0   \n",
       "39932              0              0              0              0   \n",
       "\n",
       "       state_code_IN  state_code_KS  state_code_KY  state_code_LA  \\\n",
       "0                  0              0              0              0   \n",
       "1                  0              0              0              0   \n",
       "2                  0              0              0              0   \n",
       "3                  0              0              0              0   \n",
       "4                  0              0              0              0   \n",
       "...              ...            ...            ...            ...   \n",
       "39928              0              0              0              0   \n",
       "39929              0              0              0              0   \n",
       "39930              0              0              0              0   \n",
       "39931              1              0              0              0   \n",
       "39932              0              0              0              0   \n",
       "\n",
       "       state_code_MA  state_code_MD  state_code_ME  state_code_MI  \\\n",
       "0                  0              0              0              0   \n",
       "1                  0              0              0              0   \n",
       "2                  0              0              0              0   \n",
       "3                  0              0              0              0   \n",
       "4                  0              0              0              0   \n",
       "...              ...            ...            ...            ...   \n",
       "39928              0              0              0              1   \n",
       "39929              0              0              0              0   \n",
       "39930              0              0              0              0   \n",
       "39931              0              0              0              0   \n",
       "39932              0              0              0              0   \n",
       "\n",
       "       state_code_MN  state_code_MO  state_code_MS  state_code_MT  \\\n",
       "0                  0              0              0              0   \n",
       "1                  0              0              0              0   \n",
       "2                  0              0              0              0   \n",
       "3                  0              0              0              0   \n",
       "4                  0              0              0              0   \n",
       "...              ...            ...            ...            ...   \n",
       "39928              0              0              0              0   \n",
       "39929              0              0              0              0   \n",
       "39930              0              0              0              0   \n",
       "39931              0              0              0              0   \n",
       "39932              0              0              0              0   \n",
       "\n",
       "       state_code_NC  state_code_ND  state_code_NE  state_code_NH  \\\n",
       "0                  0              0              0              0   \n",
       "1                  0              0              0              0   \n",
       "2                  0              0              0              0   \n",
       "3                  0              0              0              0   \n",
       "4                  0              0              0              0   \n",
       "...              ...            ...            ...            ...   \n",
       "39928              0              0              0              0   \n",
       "39929              0              0              0              0   \n",
       "39930              0              0              0              0   \n",
       "39931              0              0              0              0   \n",
       "39932              0              0              0              0   \n",
       "\n",
       "       state_code_NJ  state_code_NM  state_code_NV  state_code_NY  \\\n",
       "0                  0              0              0              0   \n",
       "1                  0              0              0              0   \n",
       "2                  0              0              0              0   \n",
       "3                  1              0              0              0   \n",
       "4                  0              0              0              0   \n",
       "...              ...            ...            ...            ...   \n",
       "39928              0              0              0              0   \n",
       "39929              0              0              0              0   \n",
       "39930              0              0              0              0   \n",
       "39931              0              0              0              0   \n",
       "39932              0              0              0              0   \n",
       "\n",
       "       state_code_OH  state_code_OK  state_code_OR  state_code_PA  \\\n",
       "0                  0              0              0              0   \n",
       "1                  0              0              0              0   \n",
       "2                  0              0              0              0   \n",
       "3                  0              0              0              0   \n",
       "4                  0              0              0              0   \n",
       "...              ...            ...            ...            ...   \n",
       "39928              0              0              0              0   \n",
       "39929              0              0              0              0   \n",
       "39930              0              0              0              0   \n",
       "39931              0              0              0              0   \n",
       "39932              0              0              0              0   \n",
       "\n",
       "       state_code_RI  state_code_SC  state_code_SD  state_code_TN  \\\n",
       "0                  0              0              0              0   \n",
       "1                  0              0              0              0   \n",
       "2                  0              0              0              0   \n",
       "3                  0              0              0              0   \n",
       "4                  0              0              0              0   \n",
       "...              ...            ...            ...            ...   \n",
       "39928              0              0              0              0   \n",
       "39929              0              0              0              0   \n",
       "39930              0              0              0              0   \n",
       "39931              0              0              0              0   \n",
       "39932              0              0              0              0   \n",
       "\n",
       "       state_code_TX  state_code_UT  state_code_VA  state_code_VT  \\\n",
       "0                  0              0              0              0   \n",
       "1                  0              0              1              0   \n",
       "2                  1              0              0              0   \n",
       "3                  0              0              0              0   \n",
       "4                  0              0              0              0   \n",
       "...              ...            ...            ...            ...   \n",
       "39928              0              0              0              0   \n",
       "39929              0              0              0              0   \n",
       "39930              1              0              0              0   \n",
       "39931              0              0              0              0   \n",
       "39932              0              0              0              0   \n",
       "\n",
       "       state_code_WA  state_code_WI  state_code_WV  state_code_WY  \\\n",
       "0                  0              0              0              0   \n",
       "1                  0              0              0              0   \n",
       "2                  0              0              0              0   \n",
       "3                  0              0              0              0   \n",
       "4                  0              0              0              0   \n",
       "...              ...            ...            ...            ...   \n",
       "39928              0              0              0              0   \n",
       "39929              0              0              0              0   \n",
       "39930              0              0              0              0   \n",
       "39931              0              0              0              0   \n",
       "39932              0              0              0              0   \n",
       "\n",
       "       application_type_JOINT  \n",
       "0                           0  \n",
       "1                           0  \n",
       "2                           0  \n",
       "3                           0  \n",
       "4                           0  \n",
       "...                       ...  \n",
       "39928                       0  \n",
       "39929                       0  \n",
       "39930                       0  \n",
       "39931                       0  \n",
       "39932                       0  \n",
       "\n",
       "[39933 rows x 75 columns]"
      ]
     },
     "execution_count": 63,
     "metadata": {},
     "output_type": "execute_result"
    },
    {
     "data": {
      "application/javascript": [
       "\n",
       "            setTimeout(function() {\n",
       "                var nbb_cell_id = 63;\n",
       "                var nbb_unformatted_code = \"test\";\n",
       "                var nbb_formatted_code = \"test\";\n",
       "                var nbb_cells = Jupyter.notebook.get_cells();\n",
       "                for (var i = 0; i < nbb_cells.length; ++i) {\n",
       "                    if (nbb_cells[i].input_prompt_number == nbb_cell_id) {\n",
       "                        if (nbb_cells[i].get_text() == nbb_unformatted_code) {\n",
       "                             nbb_cells[i].set_text(nbb_formatted_code);\n",
       "                        }\n",
       "                        break;\n",
       "                    }\n",
       "                }\n",
       "            }, 500);\n",
       "            "
      ],
      "text/plain": [
       "<IPython.core.display.Javascript object>"
      ]
     },
     "metadata": {},
     "output_type": "display_data"
    }
   ],
   "source": [
    "test"
   ]
  },
  {
   "cell_type": "markdown",
   "id": "13c111ae",
   "metadata": {},
   "source": [
    "### NEXT: We will train the best hyperparameters of the xgboost on the entire original dataset (before split)"
   ]
  },
  {
   "cell_type": "code",
   "execution_count": 71,
   "id": "ae90b7cf",
   "metadata": {},
   "outputs": [
    {
     "data": {
      "application/javascript": [
       "\n",
       "            setTimeout(function() {\n",
       "                var nbb_cell_id = 71;\n",
       "                var nbb_unformatted_code = \"X_test2 = test\\nX2 = X\\ny2 = y\";\n",
       "                var nbb_formatted_code = \"X_test2 = test\\nX2 = X\\ny2 = y\";\n",
       "                var nbb_cells = Jupyter.notebook.get_cells();\n",
       "                for (var i = 0; i < nbb_cells.length; ++i) {\n",
       "                    if (nbb_cells[i].input_prompt_number == nbb_cell_id) {\n",
       "                        if (nbb_cells[i].get_text() == nbb_unformatted_code) {\n",
       "                             nbb_cells[i].set_text(nbb_formatted_code);\n",
       "                        }\n",
       "                        break;\n",
       "                    }\n",
       "                }\n",
       "            }, 500);\n",
       "            "
      ],
      "text/plain": [
       "<IPython.core.display.Javascript object>"
      ]
     },
     "metadata": {},
     "output_type": "display_data"
    }
   ],
   "source": [
    "X_test2 = test\n",
    "X2 = X\n",
    "y2 = y"
   ]
  },
  {
   "cell_type": "code",
   "execution_count": 73,
   "id": "a56744ba",
   "metadata": {},
   "outputs": [
    {
     "data": {
      "application/javascript": [
       "\n",
       "            setTimeout(function() {\n",
       "                var nbb_cell_id = 73;\n",
       "                var nbb_unformatted_code = \"imputer = SimpleImputer(strategy=\\\"median\\\")\\n\\nX2 = pd.DataFrame(imputer.fit_transform(X2), columns=X2.columns)\\n\\nX_test2 = pd.DataFrame(imputer.transform(X_test2), columns=X_test2.columns)\";\n",
       "                var nbb_formatted_code = \"imputer = SimpleImputer(strategy=\\\"median\\\")\\n\\nX2 = pd.DataFrame(imputer.fit_transform(X2), columns=X2.columns)\\n\\nX_test2 = pd.DataFrame(imputer.transform(X_test2), columns=X_test2.columns)\";\n",
       "                var nbb_cells = Jupyter.notebook.get_cells();\n",
       "                for (var i = 0; i < nbb_cells.length; ++i) {\n",
       "                    if (nbb_cells[i].input_prompt_number == nbb_cell_id) {\n",
       "                        if (nbb_cells[i].get_text() == nbb_unformatted_code) {\n",
       "                             nbb_cells[i].set_text(nbb_formatted_code);\n",
       "                        }\n",
       "                        break;\n",
       "                    }\n",
       "                }\n",
       "            }, 500);\n",
       "            "
      ],
      "text/plain": [
       "<IPython.core.display.Javascript object>"
      ]
     },
     "metadata": {},
     "output_type": "display_data"
    }
   ],
   "source": [
    "imputer = SimpleImputer(strategy=\"median\")\n",
    "\n",
    "X2 = pd.DataFrame(imputer.fit_transform(X2), columns=X2.columns)\n",
    "\n",
    "X_test2 = pd.DataFrame(imputer.transform(X_test2), columns=X_test2.columns)"
   ]
  },
  {
   "cell_type": "code",
   "execution_count": 75,
   "id": "ee76815a",
   "metadata": {},
   "outputs": [
    {
     "data": {
      "text/plain": [
       "XGBClassifier(base_score=0.5, booster='gbtree', colsample_bylevel=1,\n",
       "              colsample_bynode=1, colsample_bytree=1, enable_categorical=False,\n",
       "              eval_metric='logloss', gamma=3, gpu_id=-1, importance_type=None,\n",
       "              interaction_constraints='', learning_rate=0.1, max_delta_step=0,\n",
       "              max_depth=6, min_child_weight=1, missing=nan,\n",
       "              monotone_constraints='()', n_estimators=250, n_jobs=8,\n",
       "              num_parallel_tree=1, predictor='auto', random_state=1,\n",
       "              reg_alpha=0, reg_lambda=1, scale_pos_weight=5, subsample=0.9,\n",
       "              tree_method='exact', validate_parameters=1, verbosity=None)"
      ]
     },
     "execution_count": 75,
     "metadata": {},
     "output_type": "execute_result"
    },
    {
     "data": {
      "application/javascript": [
       "\n",
       "            setTimeout(function() {\n",
       "                var nbb_cell_id = 75;\n",
       "                var nbb_unformatted_code = \"# Creating new pipeline with best parameters\\ntuned_x_all = XGBClassifier(\\n    random_state=1,\\n    subsample=0.9,\\n    scale_pos_weight=5,\\n    n_estimators=250,\\n    learning_rate=0.1,\\n    gamma=3,\\n    eval_metric=\\\"logloss\\\",\\n)\\n\\ntuned_x_all.fit(X2, y2)\";\n",
       "                var nbb_formatted_code = \"# Creating new pipeline with best parameters\\ntuned_x_all = XGBClassifier(\\n    random_state=1,\\n    subsample=0.9,\\n    scale_pos_weight=5,\\n    n_estimators=250,\\n    learning_rate=0.1,\\n    gamma=3,\\n    eval_metric=\\\"logloss\\\",\\n)\\n\\ntuned_x_all.fit(X2, y2)\";\n",
       "                var nbb_cells = Jupyter.notebook.get_cells();\n",
       "                for (var i = 0; i < nbb_cells.length; ++i) {\n",
       "                    if (nbb_cells[i].input_prompt_number == nbb_cell_id) {\n",
       "                        if (nbb_cells[i].get_text() == nbb_unformatted_code) {\n",
       "                             nbb_cells[i].set_text(nbb_formatted_code);\n",
       "                        }\n",
       "                        break;\n",
       "                    }\n",
       "                }\n",
       "            }, 500);\n",
       "            "
      ],
      "text/plain": [
       "<IPython.core.display.Javascript object>"
      ]
     },
     "metadata": {},
     "output_type": "display_data"
    }
   ],
   "source": [
    "# Creating new pipeline with best parameters\n",
    "tuned_x_all = XGBClassifier(\n",
    "    random_state=1,\n",
    "    subsample=0.9,\n",
    "    scale_pos_weight=5,\n",
    "    n_estimators=250,\n",
    "    learning_rate=0.1,\n",
    "    gamma=3,\n",
    "    eval_metric=\"logloss\",\n",
    ")\n",
    "\n",
    "tuned_x_all.fit(X2, y2)"
   ]
  },
  {
   "cell_type": "code",
   "execution_count": 76,
   "id": "6c26e8dd",
   "metadata": {},
   "outputs": [
    {
     "data": {
      "application/javascript": [
       "\n",
       "            setTimeout(function() {\n",
       "                var nbb_cell_id = 76;\n",
       "                var nbb_unformatted_code = \"mypred[\\\"default\\\"] = tuned_x_all.predict(X_test2)\\nmypred.to_csv(\\\"submit2.csv\\\", index=False)\";\n",
       "                var nbb_formatted_code = \"mypred[\\\"default\\\"] = tuned_x_all.predict(X_test2)\\nmypred.to_csv(\\\"submit2.csv\\\", index=False)\";\n",
       "                var nbb_cells = Jupyter.notebook.get_cells();\n",
       "                for (var i = 0; i < nbb_cells.length; ++i) {\n",
       "                    if (nbb_cells[i].input_prompt_number == nbb_cell_id) {\n",
       "                        if (nbb_cells[i].get_text() == nbb_unformatted_code) {\n",
       "                             nbb_cells[i].set_text(nbb_formatted_code);\n",
       "                        }\n",
       "                        break;\n",
       "                    }\n",
       "                }\n",
       "            }, 500);\n",
       "            "
      ],
      "text/plain": [
       "<IPython.core.display.Javascript object>"
      ]
     },
     "metadata": {},
     "output_type": "display_data"
    }
   ],
   "source": [
    "mypred[\"default\"] = tuned_x_all.predict(X_test2)\n",
    "mypred.to_csv(\"submit2.csv\", index=False)"
   ]
  },
  {
   "cell_type": "markdown",
   "id": "63d35946",
   "metadata": {},
   "source": [
    "# Submission Accuracy: 0.9047154"
   ]
  }
 ],
 "metadata": {
  "kernelspec": {
   "display_name": "Python 3",
   "language": "python",
   "name": "python3"
  },
  "language_info": {
   "codemirror_mode": {
    "name": "ipython",
    "version": 3
   },
   "file_extension": ".py",
   "mimetype": "text/x-python",
   "name": "python",
   "nbconvert_exporter": "python",
   "pygments_lexer": "ipython3",
   "version": "3.8.8"
  }
 },
 "nbformat": 4,
 "nbformat_minor": 5
}
